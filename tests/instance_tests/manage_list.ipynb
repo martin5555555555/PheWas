{
 "cells": [
  {
   "cell_type": "code",
   "execution_count": null,
   "metadata": {},
   "outputs": [],
   "source": [
    "import pandas as pd\n",
    "import numpy as np"
   ]
  },
  {
   "cell_type": "code",
   "execution_count": null,
   "metadata": {},
   "outputs": [],
   "source": [
    "columns =['number_test', 'model_type', 'model_version', 'test_name',\n",
    "       'pheno_method', 'tryout', 'CHR', 'SNP', 'rollup_depth', 'Classes_nb',\n",
    "       'padding_token', 'prop_train_test', 'load_data', 'save_data',\n",
    "       'remove_none', 'compute_features', 'padding', 'batch_size',\n",
    "       'data_share', 'seuil_diseases', 'equalize_label', 'embedding_method',\n",
    "       'freeze_embedding', 'Embedding_size', 'n_head', 'n_layer', 'Head_size',\n",
    "       'eval_epochs_interval', 'eval_batch_interval', 'p_dropout',\n",
    "       'masking_padding', 'loss_version', 'gamma', 'total_epochs',\n",
    "       'learning_rate_max', 'learning_rate_ini', 'learning_rate_final',\n",
    "       'warm_up_frac', 'start_factor_lr', 'end_factor_lr', 'warm_up_size',\n",
    "       'device', 'test_name_with_infos', 'vocab_size',\n",
    "       'max_count_same_disease']"
   ]
  },
  {
   "cell_type": "code",
   "execution_count": null,
   "metadata": {},
   "outputs": [],
   "source": [
    "df_list_instance_test_trained_path = '/gpfs/commons/groups/gursoy_lab/mstoll/codes/tests/instance_tests/list_instance_tests_train.csv'\n",
    "df_list_instance_test_trained = pd.read_csv(df_list_instance_test_trained_path)"
   ]
  },
  {
   "cell_type": "code",
   "execution_count": null,
   "metadata": {},
   "outputs": [],
   "source": [
    "def reset_list(columns, df_list_instance_test_trained_path):\n",
    "    df_list_instance_test_trained = pd.DataFrame(columns = columns)\n",
    "    df_list_instance_test_trained.to_csv(df_list_instance_test_trained_path, index=False)"
   ]
  },
  {
   "cell_type": "code",
   "execution_count": null,
   "metadata": {},
   "outputs": [],
   "source": [
    "reset_list(columns=columns, df_list_instance_test_trained_path=df_list_instance_test_trained_path)"
   ]
  },
  {
   "cell_type": "code",
   "execution_count": null,
   "metadata": {},
   "outputs": [],
   "source": [
    "df_list_instance_test_trained"
   ]
  },
  {
   "cell_type": "code",
   "execution_count": null,
   "metadata": {},
   "outputs": [],
   "source": []
  }
 ],
 "metadata": {
  "kernelspec": {
   "display_name": "phewas",
   "language": "python",
   "name": "python3"
  },
  "language_info": {
   "codemirror_mode": {
    "name": "ipython",
    "version": 3
   },
   "file_extension": ".py",
   "mimetype": "text/x-python",
   "name": "python",
   "nbconvert_exporter": "python",
   "pygments_lexer": "ipython3",
   "version": "3.11.6"
  }
 },
 "nbformat": 4,
 "nbformat_minor": 2
}
