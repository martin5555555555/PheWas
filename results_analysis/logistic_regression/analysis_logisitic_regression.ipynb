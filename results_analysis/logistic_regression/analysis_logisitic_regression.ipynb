{
 "cells": [
  {
   "cell_type": "code",
   "execution_count": null,
   "metadata": {},
   "outputs": [],
   "source": [
    "import sys\n",
    "path = '/gpfs/commons/groups/gursoy_lab/mstoll/'\n",
    "sys.path.append(path)\n",
    "\n",
    "import numpy as np\n",
    "import pandas as pd\n",
    "import torch\n",
    "import pickle\n",
    "import time\n",
    "import os\n",
    "import matplotlib.pyplot as plt\n",
    "\n",
    "from sklearn.metrics import roc_auc_score, f1_score, accuracy_score, classification_report\n",
    "from functools import partial\n",
    "from tqdm.auto import tqdm\n",
    "import statsmodels.api as sm\n",
    "from multiprocessing import Pool\n",
    "\n",
    "from codes.models.data_form.DataForm import DataTransfo_1SNP, PatientList\n"
   ]
  },
  {
   "cell_type": "code",
   "execution_count": null,
   "metadata": {},
   "outputs": [],
   "source": [
    "### framework constants:\n",
    "model_type = 'logistic_regression'\n",
    "model_version = 'log_reg_sm'\n",
    "test_name = 'train_log_reg_abby'\n",
    "pheno_method = 'Abby' # Paul, Abby\n",
    "number_test = 6\n",
    "tryout = False # True if we are ding a tryout, False otherwise \n",
    "### data constants:\n",
    "CHR = 1\n",
    "SNP = 'rs673604'\n",
    "\n",
    "#analysis constant\n",
    "p_value_threshold = 1e-4\n",
    "option = 'whole'"
   ]
  },
  {
   "cell_type": "code",
   "execution_count": null,
   "metadata": {},
   "outputs": [],
   "source": [
    "path = '/gpfs/commons/groups/gursoy_lab/mstoll/codes/'\n",
    "\n",
    "#check test name\n",
    "model_dir = path + f'logs/SNPS/{str(CHR)}/{SNP}/{model_type}/{model_version}/{pheno_method}'\n",
    "#check number tests\n",
    "test_name_with_infos = str(number_test) + '_' + test_name + 'tryout'*tryout\n",
    "test_dir = f'{model_dir}/{test_name_with_infos}/'\n",
    "log_data_dir = f'{test_dir}/data/'\n",
    "log_res_dir = f'{test_dir}/res/'\n",
    "log_slurm_outputs_dir = f'{test_dir}/Slurm/Outputs/'\n",
    "log_slurm_errors_dir = f'{test_dir}/Slurm/Errors/'\n",
    "\n",
    "\n",
    "log_data_path_pickle = f'{test_dir}/data/{test_name}_{option}.pkl'\n",
    "\n",
    "\n",
    "log_res_path_pickle = f'{test_dir}/res/{test_name}_{option}.pkl'\n",
    "log_slurm_outputs_path = f'{test_dir}/Slurm/Outputs/{test_name}.pth'\n",
    "log_slurm_error_path = f'{test_dir}/Slurm/Errors/{test_name}.pth'\n",
    "\n",
    "\n",
    "\n"
   ]
  },
  {
   "cell_type": "code",
   "execution_count": null,
   "metadata": {},
   "outputs": [],
   "source": [
    "with open(log_data_path_pickle, 'rb') as file:\n",
    "    tree_data_dic  = pickle.load(file)\n"
   ]
  },
  {
   "cell_type": "code",
   "execution_count": null,
   "metadata": {},
   "outputs": [],
   "source": [
    "with open(log_res_path_pickle, 'rb') as file:\n",
    "    dic_res = pickle.load(file)"
   ]
  },
  {
   "cell_type": "code",
   "execution_count": null,
   "metadata": {},
   "outputs": [],
   "source": [
    "pheno_data_train = tree_data_dic['pheno_data_train']\n",
    "pheno_data_test = tree_data_dic['pheno_data_test']\n",
    "label_data_train = tree_data_dic['label_data_train']\n",
    "label_data_test = tree_data_dic['label_data_test']"
   ]
  },
  {
   "cell_type": "code",
   "execution_count": null,
   "metadata": {},
   "outputs": [],
   "source": [
    "models = dic_res['models']\n",
    "p_values = dic_res['p_values']\n",
    "coeffs = dic_res['coeffs']"
   ]
  },
  {
   "cell_type": "code",
   "execution_count": null,
   "metadata": {},
   "outputs": [],
   "source": [
    "models"
   ]
  },
  {
   "cell_type": "code",
   "execution_count": null,
   "metadata": {},
   "outputs": [],
   "source": [
    "models = np.array(models)\n",
    "indices_not_none = np.where(models != None)\n",
    "nb_phenos_available = len(indices_not_none)"
   ]
  },
  {
   "cell_type": "code",
   "execution_count": null,
   "metadata": {},
   "outputs": [],
   "source": [
    "pheno_data_test.shape"
   ]
  },
  {
   "cell_type": "code",
   "execution_count": null,
   "metadata": {},
   "outputs": [],
   "source": [
    "for indice_pheno_test in indices_not_none:\n",
    "    pheno_data_test = pheno_data_test[:, indice_pheno_test]\n",
    "    model = models[indice_pheno_test]\n",
    "    predictions = model.predict(pheno_data_test)\n",
    "    label_predictions = (predictions>0.5).astype(int)\n",
    "    error = np.sqrt(np.sum(label_data_test - predictions))**2 / len(predictions)"
   ]
  },
  {
   "cell_type": "code",
   "execution_count": null,
   "metadata": {},
   "outputs": [],
   "source": [
    "error"
   ]
  },
  {
   "cell_type": "code",
   "execution_count": null,
   "metadata": {},
   "outputs": [],
   "source": []
  },
  {
   "cell_type": "code",
   "execution_count": null,
   "metadata": {},
   "outputs": [],
   "source": [
    "indices_p_values_meaningful = np.where(p_values < p_value_threshold)"
   ]
  },
  {
   "cell_type": "code",
   "execution_count": null,
   "metadata": {},
   "outputs": [],
   "source": [
    "indices_p_values_meaningful"
   ]
  },
  {
   "cell_type": "code",
   "execution_count": null,
   "metadata": {},
   "outputs": [],
   "source": []
  }
 ],
 "metadata": {
  "kernelspec": {
   "display_name": "phewas",
   "language": "python",
   "name": "python3"
  },
  "language_info": {
   "codemirror_mode": {
    "name": "ipython",
    "version": 3
   },
   "file_extension": ".py",
   "mimetype": "text/x-python",
   "name": "python",
   "nbconvert_exporter": "python",
   "pygments_lexer": "ipython3",
   "version": "3.11.6"
  }
 },
 "nbformat": 4,
 "nbformat_minor": 2
}
