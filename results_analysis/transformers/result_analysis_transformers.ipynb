{
 "cells": [
  {
   "cell_type": "code",
   "execution_count": 1,
   "metadata": {},
   "outputs": [
    {
     "name": "stderr",
     "output_type": "stream",
     "text": [
      "2024-02-22 17:56:07.773322: E external/local_xla/xla/stream_executor/cuda/cuda_dnn.cc:9261] Unable to register cuDNN factory: Attempting to register factory for plugin cuDNN when one has already been registered\n",
      "2024-02-22 17:56:07.773403: E external/local_xla/xla/stream_executor/cuda/cuda_fft.cc:607] Unable to register cuFFT factory: Attempting to register factory for plugin cuFFT when one has already been registered\n",
      "2024-02-22 17:56:07.775275: E external/local_xla/xla/stream_executor/cuda/cuda_blas.cc:1515] Unable to register cuBLAS factory: Attempting to register factory for plugin cuBLAS when one has already been registered\n",
      "2024-02-22 17:56:19.853337: W tensorflow/compiler/tf2tensorrt/utils/py_utils.cc:38] TF-TRT Warning: Could not find TensorRT\n"
     ]
    }
   ],
   "source": [
    "import sys\n",
    "path = '/gpfs/commons/groups/gursoy_lab/mstoll/'\n",
    "sys.path.append(path)\n",
    "\n",
    "import numpy as np\n",
    "import pandas as pd\n",
    "import torch.nn as nn\n",
    "import torch\n",
    "import pickle\n",
    "import time\n",
    "import os\n",
    "import shutil\n",
    "import shap\n",
    "import seaborn as sns\n",
    "from torch.utils.data import DataLoader\n",
    "from torch.nn import functional as F\n",
    "from tqdm.auto import tqdm\n",
    "from torch.optim.lr_scheduler import LambdaLR, LinearLR, SequentialLR\n",
    "from functools import partial\n",
    "from sklearn.metrics import f1_score, accuracy_score\n",
    "from sklearn.calibration import calibration_curve\n",
    "\n",
    "\n",
    "from codes.models.metrics import calculate_roc_auc\n",
    "from codes.models.data_form.DataForm import DataTransfo_1SNP, PatientList, Patient\n",
    "from codes.models.Transformers.dic_model_versions import DIC_MODEL_VERSIONS\n",
    "from codes.tests.TestsClass import TestSet, TrainTransformerModel, TrainModel\n",
    "import matplotlib.pyplot as plt\n",
    "from codes.models.Decision_tree.utils import get_name, get_indice\n",
    "\n"
   ]
  },
  {
   "cell_type": "code",
   "execution_count": 3,
   "metadata": {},
   "outputs": [],
   "source": [
    "train_model =  TrainModel.load_instance_test(253)\n",
    "model = train_model.model\n",
    "dataT = train_model.dataT\n",
    "model.device = 'cpu'\n",
    "patient_list = train_model.patient_list\n",
    "data = train_model.dataT\n",
    "nb_max_distinct_disease = len(patient_list[0].diseases_sentence)\n",
    "nb_max_distinct_diseases_tot = patient_list.get_nb_distinct_diseases_tot()\n",
    "\n",
    "frequencies = np.zeros(nb_max_distinct_diseases_tot)\n",
    "for patient in patient_list:\n",
    "    frequencies[patient.diseases_sentence] +=1 \n",
    "frequencies /= len(patient_list)"
   ]
  },
  {
   "cell_type": "code",
   "execution_count": 4,
   "metadata": {},
   "outputs": [],
   "source": [
    "indices_train, indices_test = train_model.dataT.indices_train, train_model.dataT.indices_test\n",
    "train_model.patient_list_transformer_train, train_model.patient_list_transformer_test = train_model.patient_list.get_transformer_data(indices_train.astype(int), indices_test.astype(int))\n",
    "#creation of torch Datasets:\n",
    "dataloader_train = DataLoader(train_model.patient_list_transformer_train, batch_size=train_model.batch_size, shuffle=True)\n",
    "dataloader_test = DataLoader(train_model.patient_list_transformer_test, batch_size=train_model.batch_size, shuffle=True)\n",
    "\n"
   ]
  },
  {
   "cell_type": "code",
   "execution_count": 5,
   "metadata": {},
   "outputs": [],
   "source": [
    "def get_gpu_attributes(obj, prefix=''):\n",
    "    \"\"\"\n",
    "    Fonction récursive pour obtenir les noms des attributs stockés sur GPU.\n",
    "    \"\"\"\n",
    "    gpu_attributes = []\n",
    "    if isinstance(obj, torch.Tensor) and obj.is_cuda:\n",
    "        gpu_attributes.append(prefix)\n",
    "    elif isinstance(obj, (list, tuple)):\n",
    "        for i, item in enumerate(obj):\n",
    "            gpu_attributes.extend(get_gpu_attributes(item, prefix=f\"{prefix}[{i}]\"))\n",
    "    elif isinstance(obj, dict):\n",
    "        for key, value in obj.items():\n",
    "            gpu_attributes.extend(get_gpu_attributes(value, prefix=f\"{prefix}.{key}\"))\n",
    "    elif hasattr(obj, '__dict__'):\n",
    "        for key, value in obj.__dict__.items():\n",
    "            gpu_attributes.extend(get_gpu_attributes(value, prefix=f\"{prefix}.{key}\"))\n",
    "    return gpu_attributes\n",
    "\n",
    "# Exemple d'objet avec des attributs stockés sur CPU et GPU\n",
    "class ExempleObjet:\n",
    "    def __init__(self):\n",
    "        self.cpu_tensor = torch.randn(3, 3)\n",
    "        self.gpu_tensor = torch.randn(3, 3).cuda()\n",
    "\n",
    "   \n"
   ]
  },
  {
   "cell_type": "code",
   "execution_count": 6,
   "metadata": {},
   "outputs": [
    {
     "data": {
      "text/plain": [
       "[]"
      ]
     },
     "execution_count": 6,
     "metadata": {},
     "output_type": "execute_result"
    }
   ],
   "source": [
    "get_gpu_attributes(train_model)"
   ]
  },
  {
   "cell_type": "markdown",
   "metadata": {},
   "source": [
    "### Calibration plots"
   ]
  },
  {
   "cell_type": "code",
   "execution_count": 12,
   "metadata": {},
   "outputs": [
    {
     "name": "stdout",
     "output_type": "stream",
     "text": [
      "beginning inference evaluation\n"
     ]
    },
    {
     "name": "stderr",
     "output_type": "stream",
     "text": [
      "Implicit dimension choice for softmax has been deprecated. Change the call to include dim=X as an argument.\n"
     ]
    },
    {
     "name": "stdout",
     "output_type": "stream",
     "text": [
      "num classes = 2\n",
      "end inference evaluation in 9.566430568695068s\n"
     ]
    },
    {
     "data": {
      "text/plain": [
       "(array([10., 11.,  7., 10., 11.,  8., 13.,  9.,  8.,  6., 14., 19., 11.,\n",
       "        17., 12., 13., 18., 15., 14., 22., 15., 13., 17., 17., 18., 15.,\n",
       "        21., 34., 19., 54., 24., 25., 28., 47., 36., 25., 34., 31., 57.,\n",
       "        39., 56., 47., 41., 40., 42., 27., 27., 32., 39., 32., 32., 43.,\n",
       "        32., 35., 40., 74., 38., 31., 29., 51., 41., 34., 37., 32., 23.,\n",
       "        27., 32., 33., 59., 21., 32., 31., 33., 34., 18., 25., 22., 21.,\n",
       "        23., 23., 23., 19., 22., 22., 17., 20., 15., 15., 10., 16., 11.,\n",
       "        11.,  8., 13.,  3., 10.,  6., 12.,  4.,  7.]),\n",
       " array([0.01068728, 0.02023493, 0.02978257, 0.03933022, 0.04887786,\n",
       "        0.0584255 , 0.06797315, 0.0775208 , 0.08706844, 0.09661608,\n",
       "        0.10616373, 0.11571137, 0.12525901, 0.13480666, 0.1443543 ,\n",
       "        0.15390195, 0.16344959, 0.17299724, 0.18254489, 0.19209252,\n",
       "        0.20164017, 0.21118781, 0.22073546, 0.2302831 , 0.23983075,\n",
       "        0.2493784 , 0.25892603, 0.26847368, 0.27802134, 0.28756896,\n",
       "        0.29711661, 0.30666426, 0.31621191, 0.32575956, 0.33530718,\n",
       "        0.34485483, 0.35440248, 0.36395013, 0.37349775, 0.38304541,\n",
       "        0.39259306, 0.40214071, 0.41168836, 0.42123598, 0.43078363,\n",
       "        0.44033128, 0.44987893, 0.45942658, 0.4689742 , 0.47852185,\n",
       "        0.4880695 , 0.49761716, 0.50716478, 0.51671243, 0.52626008,\n",
       "        0.53580773, 0.54535538, 0.55490303, 0.56445068, 0.57399827,\n",
       "        0.58354592, 0.59309357, 0.60264122, 0.61218888, 0.62173653,\n",
       "        0.63128418, 0.64083183, 0.65037948, 0.65992707, 0.66947472,\n",
       "        0.67902237, 0.68857002, 0.69811767, 0.70766532, 0.71721298,\n",
       "        0.72676063, 0.73630828, 0.74585587, 0.75540352, 0.76495117,\n",
       "        0.77449882, 0.78404647, 0.79359412, 0.80314177, 0.81268942,\n",
       "        0.82223707, 0.83178473, 0.84133232, 0.85087997, 0.86042762,\n",
       "        0.86997527, 0.87952292, 0.88907057, 0.89861822, 0.90816587,\n",
       "        0.91771352, 0.92726111, 0.93680876, 0.94635642, 0.95590407,\n",
       "        0.96545172]),\n",
       " <BarContainer object of 100 artists>)"
      ]
     },
     "execution_count": 12,
     "metadata": {},
     "output_type": "execute_result"
    },
    {
     "data": {
      "image/png": "[encoded data removed]",
      "text/plain": [
       "<Figure size 640x480 with 1 Axes>"
      ]
     },
     "metadata": {},
     "output_type": "display_data"
    }
   ],
   "source": [
    "################################## Calibration plots ##############################################################\n",
    "f1, accuracy, auc_score, loss, proba_avg_zero, proba_avg_one, predicted_probas_list, true_labels_list = model.evaluate(dataloader_test)\n",
    "predicted_probs_ones = np.array(predicted_probas_list)[:, 1]\n",
    "true_labels = np.array(true_labels_list)\n",
    "plt.hist(predicted_probs_ones, bins=100)"
   ]
  },
  {
   "cell_type": "code",
   "execution_count": 13,
   "metadata": {},
   "outputs": [
    {
     "name": "stdout",
     "output_type": "stream",
     "text": [
      "num classes = 2\n"
     ]
    },
    {
     "data": {
      "text/plain": [
       "<matplotlib.legend.Legend at 0x7f4ba0d32590>"
      ]
     },
     "execution_count": 13,
     "metadata": {},
     "output_type": "execute_result"
    },
    {
     "data": {
      "image/png": "[encoded data removed]",
      "text/plain": [
       "<Figure size 640x480 with 1 Axes>"
      ]
     },
     "metadata": {},
     "output_type": "display_data"
    }
   ],
   "source": [
    "prob_true, prob_pred = calibration_curve(true_labels_list, predicted_probs_ones, n_bins=80)\n",
    "auc = calculate_roc_auc(true_labels_list, predicted_probs_ones)\n",
    "# Tracer le graphique de calibration\n",
    "plt.plot(prob_pred, prob_true, marker='o', linestyle='--', label='Calibration Plot')\n",
    "plt.plot([0, 1], [0, 1], linestyle='--', color='gray', label='Perfectly Calibrated')\n",
    "plt.xlabel('Mean Predicted Probability')\n",
    "plt.ylabel('Fraction of Positives')\n",
    "plt.title('Calibration Plot')\n",
    "plt.legend()"
   ]
  },
  {
   "cell_type": "code",
   "execution_count": 14,
   "metadata": {},
   "outputs": [
    {
     "data": {
      "text/plain": [
       "0.5800985562092313"
      ]
     },
     "execution_count": 14,
     "metadata": {},
     "output_type": "execute_result"
    }
   ],
   "source": [
    "auc_score"
   ]
  },
  {
   "cell_type": "markdown",
   "metadata": {},
   "source": [
    "### Analyse of the number of diseases"
   ]
  },
  {
   "cell_type": "code",
   "execution_count": 15,
   "metadata": {},
   "outputs": [],
   "source": [
    "list_diseases, list_counts, list_labels = zip(*train_model.patient_list_transformer_train)\n",
    "list_diseases = np.array(list_diseases)\n",
    "list_counts = np.array(list_counts)\n",
    "list_labels = np.array(list_labels)\n",
    "\n",
    "nb_diseases = np.sum(list_diseases !=0, axis=1)\n",
    "predicted_labels = (predicted_probs_ones > 0.5).astype(int)"
   ]
  },
  {
   "cell_type": "code",
   "execution_count": 233,
   "metadata": {},
   "outputs": [],
   "source": [
    "acc = []\n",
    "for nb_disease in np.unique(nb_diseases):\n",
    "    indices = nb_diseases == nb_disease\n",
    "    true = true_labels[indices]\n",
    "    pred = predicted_labels[indices]\n",
    "    acc.append(np.sum(true==pred)/len(true))"
   ]
  },
  {
   "cell_type": "code",
   "execution_count": 234,
   "metadata": {},
   "outputs": [
    {
     "data": {
      "text/plain": [
       "[<matplotlib.lines.Line2D at 0x7fd96476be90>]"
      ]
     },
     "execution_count": 234,
     "metadata": {},
     "output_type": "execute_result"
    },
    {
     "data": {
      "image/png": "[encoded data removed]",
      "text/plain": [
       "<Figure size 640x480 with 1 Axes>"
      ]
     },
     "metadata": {},
     "output_type": "display_data"
    }
   ],
   "source": [
    "plt.plot(np.unique(nb_diseases),  acc, 'o')"
   ]
  },
  {
   "cell_type": "markdown",
   "metadata": {},
   "source": [
    "### Analyse of the well predicted patients"
   ]
  },
  {
   "cell_type": "code",
   "execution_count": 235,
   "metadata": {},
   "outputs": [],
   "source": [
    "list_diseases, list_counts, list_labels = zip(*train_model.patient_list_transformer_train)\n",
    "list_diseases = np.array(list_diseases)\n",
    "list_counts = np.array(list_counts)\n",
    "list_labels = np.array(list_labels)"
   ]
  },
  {
   "cell_type": "code",
   "execution_count": 236,
   "metadata": {},
   "outputs": [],
   "source": [
    "indices_predicted_low = predicted_probs_ones<0.45"
   ]
  },
  {
   "cell_type": "code",
   "execution_count": 237,
   "metadata": {},
   "outputs": [],
   "source": [
    "patients_selected = list_diseases[indices_predicted_low]"
   ]
  },
  {
   "cell_type": "code",
   "execution_count": 246,
   "metadata": {},
   "outputs": [
    {
     "data": {
      "text/plain": [
       "4185"
      ]
     },
     "execution_count": 246,
     "metadata": {},
     "output_type": "execute_result"
    }
   ],
   "source": [
    "np.sum(indices_predicted_low)"
   ]
  },
  {
   "cell_type": "code",
   "execution_count": 247,
   "metadata": {},
   "outputs": [],
   "source": [
    "frequencies_selected = np.zeros(nb_max_distinct_diseases_tot)\n",
    "for disease_sentence in patients_selected:\n",
    "    frequencies_selected[disease_sentence] += 1\n",
    "frequencies_selected /= np.sum(indices_predicted_low)"
   ]
  },
  {
   "cell_type": "code",
   "execution_count": 248,
   "metadata": {},
   "outputs": [],
   "source": [
    "frequencies_ratio = np.abs(frequencies - frequencies_selected)/frequencies\n",
    "#diff_frequencies =np.max(np.concatenate([frequencies_ratio,  frequencies_ratio**-1], axis=0).reshape(2, len(frequencies_ratio)), axis=0)\n"
   ]
  },
  {
   "cell_type": "code",
   "execution_count": 249,
   "metadata": {},
   "outputs": [],
   "source": [
    "#diff_frequencies = diff_frequencies[diff_frequencies!=np.inf]\n"
   ]
  },
  {
   "cell_type": "code",
   "execution_count": 250,
   "metadata": {},
   "outputs": [
    {
     "data": {
      "text/plain": [
       "382"
      ]
     },
     "execution_count": 250,
     "metadata": {},
     "output_type": "execute_result"
    }
   ],
   "source": [
    "np.argmax(frequencies_ratio)"
   ]
  },
  {
   "cell_type": "code",
   "execution_count": 251,
   "metadata": {},
   "outputs": [
    {
     "data": {
      "text/plain": [
       "(1.0, 8.098477486232588e-05, 0.0)"
      ]
     },
     "execution_count": 251,
     "metadata": {},
     "output_type": "execute_result"
    }
   ],
   "source": [
    "frequencies_ratio[15], frequencies[15], frequencies_selected[15]*2330"
   ]
  },
  {
   "cell_type": "code",
   "execution_count": 252,
   "metadata": {},
   "outputs": [
    {
     "data": {
      "text/plain": [
       "[<matplotlib.lines.Line2D at 0x7fd9734b47d0>]"
      ]
     },
     "execution_count": 252,
     "metadata": {},
     "output_type": "execute_result"
    },
    {
     "data": {
      "image/png": "[encoded data removed]",
      "text/plain": [
       "<Figure size 640x480 with 1 Axes>"
      ]
     },
     "metadata": {},
     "output_type": "display_data"
    }
   ],
   "source": [
    "plt.plot(frequencies_ratio, 'o')"
   ]
  },
  {
   "cell_type": "markdown",
   "metadata": {},
   "source": [
    "### Shap values"
   ]
  },
  {
   "cell_type": "code",
   "execution_count": 253,
   "metadata": {},
   "outputs": [],
   "source": [
    "batch_sentence, batch_counts, batch_labels = next(iter(dataloader_test))\n",
    "batch_sentence = batch_sentence\n",
    "batch_counts = batch_counts\n",
    "input_data = [batch_sentence.to(torch.float), batch_counts.to(torch.float)]\n",
    "shap_input = [batch_sentence.to(torch.float)[0].view(1, 122), batch_counts.to(torch.float)[0].view(1, 122)]\n"
   ]
  },
  {
   "cell_type": "code",
   "execution_count": 245,
   "metadata": {},
   "outputs": [],
   "source": [
    "model.shap=True"
   ]
  },
  {
   "cell_type": "code",
   "execution_count": null,
   "metadata": {},
   "outputs": [],
   "source": [
    "batch_counts"
   ]
  },
  {
   "cell_type": "code",
   "execution_count": null,
   "metadata": {},
   "outputs": [],
   "source": [
    "explainer = shap.DeepExplainer(model, input_data)\n"
   ]
  },
  {
   "cell_type": "code",
   "execution_count": null,
   "metadata": {},
   "outputs": [],
   "source": [
    "shap_values = explainer.shap_values(shap_input)\n"
   ]
  },
  {
   "cell_type": "code",
   "execution_count": null,
   "metadata": {},
   "outputs": [],
   "source": [
    "shap_values"
   ]
  },
  {
   "cell_type": "markdown",
   "metadata": {},
   "source": [
    "### Clustering patients\n"
   ]
  },
  {
   "cell_type": "markdown",
   "metadata": {},
   "source": [
    "### Attention visualization"
   ]
  },
  {
   "cell_type": "code",
   "execution_count": 254,
   "metadata": {},
   "outputs": [],
   "source": [
    "diseases_batch, counts_batch, labels_batch = next(iter(dataloader_test))"
   ]
  },
  {
   "cell_type": "code",
   "execution_count": 255,
   "metadata": {},
   "outputs": [
    {
     "name": "stderr",
     "output_type": "stream",
     "text": [
      "Implicit dimension choice for softmax has been deprecated. Change the call to include dim=X as an argument.\n"
     ]
    }
   ],
   "source": [
    "logits, probas, x_out = model.forward_decomposed(diseases_batch, counts_batch)\n"
   ]
  },
  {
   "cell_type": "code",
   "execution_count": 256,
   "metadata": {},
   "outputs": [
    {
     "data": {
      "text/plain": [
       "(tensor(40), tensor(40))"
      ]
     },
     "execution_count": 256,
     "metadata": {},
     "output_type": "execute_result"
    }
   ],
   "source": [
    "indice = 9\n",
    "torch.sum(model.padding_mask[indice][0]==1), torch.sum(diseases_batch[indice]!=0)"
   ]
  },
  {
   "cell_type": "code",
   "execution_count": 257,
   "metadata": {},
   "outputs": [],
   "source": [
    "attention_probas_raw = model.list_attention_layers\n",
    "attention_probas_list = []\n",
    "for attention_probas in attention_probas_raw:\n",
    "    attention_probas_list.append(attention_probas.detach().numpy())\n"
   ]
  },
  {
   "cell_type": "code",
   "execution_count": 258,
   "metadata": {},
   "outputs": [
    {
     "data": {
      "image/png": "[encoded data removed]",
      "text/plain": [
       "<Figure size 2000x1600 with 2 Axes>"
      ]
     },
     "metadata": {},
     "output_type": "display_data"
    }
   ],
   "source": [
    "indice_sentence = 1\n",
    "indice_layer = 0\n",
    "indice_head = 1\n",
    "\n",
    "attention_probas = attention_probas_list[indice_layer][indice_sentence][indice_head]\n",
    "mask = model.padding_mask.detach().numpy()[indice_sentence].astype(bool)\n",
    "n_real = np.sum(mask[0])\n",
    "\n",
    "attention_probas_masked = attention_probas[mask].reshape(n_real, n_real)\n",
    "\n",
    "sns.set(style=\"whitegrid\")\n",
    "plt.figure(figsize=(20, 16))\n",
    "sns.heatmap(attention_probas_masked, cmap=\"YlGnBu\", annot=False, fmt=\".2f\", cbar=True)\n",
    "\n",
    "# Ajoutez des étiquettes pour les axes\n",
    "plt.xlabel(\"Token\")\n",
    "plt.ylabel(\"Token\")\n",
    "plt.title(\"Self-Attention Matrix\")\n",
    "\n",
    "# Affichez le plot\n",
    "plt.show()"
   ]
  },
  {
   "cell_type": "code",
   "execution_count": 263,
   "metadata": {},
   "outputs": [],
   "source": [
    "## definition of the attention matrix:\n",
    "nb_distinct_diseases_tot = patient_list.get_nb_distinct_diseases_tot()\n",
    "res_matrix = np.zeros((nb_distinct_diseases_tot, nb_distinct_diseases_tot))\n",
    "frequencies = np.zeros(nb_distinct_diseases_tot)\n",
    "attention_score_diseases = np.zeros(nb_distinct_diseases_tot)\n",
    "\n",
    "\n",
    "for batch_sentence, batch_counts, batch_labels in dataloader_train:\n",
    "    logits, probas, x_out = model.forward_decomposed(diseases_batch, counts_batch)\n",
    "    attention_probas_raw = model.list_attention_layers\n",
    "    ## change to numpy\n",
    "    attention_probas_list = []\n",
    "    for attention_probas in attention_probas_raw:\n",
    "        attention_probas_list.append(attention_probas.detach().numpy())\n",
    "\n",
    "    for indice_layer in range(train_model.n_layer):\n",
    "        for indice_head in range(train_model.n_head):\n",
    "            for indice_sentence in range(len(batch_sentence)):\n",
    "                sentence = diseases_batch[indice_sentence]\n",
    "                attention_probas = attention_probas_list[indice_layer][indice_sentence][indice_head]\n",
    "                mask = model.padding_mask.detach().numpy()[indice_sentence].astype(bool)\n",
    "                n_real = np.sum(mask[0])\n",
    "                sentence = sentence[:n_real]\n",
    "\n",
    "                mask_mat = np.zeros_like(res_matrix, dtype=bool)\n",
    "                mask_mat[np.ix_(sentence, sentence)] = True\n",
    "\n",
    "                \n",
    "                frequencies[sentence] +=1\n",
    "                attention_probas_masked = attention_probas[mask]\n",
    "                res_matrix[mask_mat] = res_matrix[mask_mat] + attention_probas_masked\n",
    "\n"
   ]
  },
  {
   "cell_type": "code",
   "execution_count": 268,
   "metadata": {},
   "outputs": [
    {
     "data": {
      "text/plain": [
       "<matplotlib.colorbar.Colorbar at 0x7fd976324990>"
      ]
     },
     "execution_count": 268,
     "metadata": {},
     "output_type": "execute_result"
    },
    {
     "data": {
      "image/png": "[encoded data removed]",
      "text/plain": [
       "<Figure size 640x480 with 2 Axes>"
      ]
     },
     "metadata": {},
     "output_type": "display_data"
    }
   ],
   "source": [
    "plt.imshow(res_matrix)\n",
    "plt.colorbar()"
   ]
  },
  {
   "cell_type": "code",
   "execution_count": 285,
   "metadata": {},
   "outputs": [
    {
     "data": {
      "text/plain": [
       "[<matplotlib.lines.Line2D at 0x7fd975f1fd50>]"
      ]
     },
     "execution_count": 285,
     "metadata": {},
     "output_type": "execute_result"
    },
    {
     "data": {
      "image/png": "[encoded data removed]",
      "text/plain": [
       "<Figure size 640x480 with 1 Axes>"
      ]
     },
     "metadata": {},
     "output_type": "display_data"
    }
   ],
   "source": [
    "plt.plot(res_matrix[223], 'o')"
   ]
  },
  {
   "cell_type": "code",
   "execution_count": 287,
   "metadata": {},
   "outputs": [],
   "source": [
    "indices = np.argsort(res_matrix[223])[::-1]"
   ]
  },
  {
   "cell_type": "code",
   "execution_count": 288,
   "metadata": {},
   "outputs": [
    {
     "data": {
      "text/plain": [
       "['Asthma',\n",
       " 'Heart Disease',\n",
       " 'Type 2 Diabetes',\n",
       " 'Polyp',\n",
       " 'Hypertensive Disorder/Complications',\n",
       " '[P] Alcohol Use Disorder',\n",
       " 'Cataract',\n",
       " '[P] Gastrointestinal bleeding with inpatient admission',\n",
       " '[P][R] Gastritis',\n",
       " '[P][R] Renal impairment',\n",
       " '[P] Pleural Effusion',\n",
       " 'Disorder of free lower limb',\n",
       " '[P][R] Hypothyroidism',\n",
       " '[P] Uterine Fibroids or benign uterine tumors',\n",
       " 'Injury of lower leg',\n",
       " 'Osteoarthritis',\n",
       " 'Closed fracture of lower limb',\n",
       " '[P][R] Gastrointestinal hemorrhage',\n",
       " 'Musculoskeletal and connective tissue disorder',\n",
       " 'Gastroesophageal Reflux Disease',\n",
       " '[P] Tinnitus',\n",
       " 'Disorder of tendon',\n",
       " '[P][R] Lichen planus',\n",
       " 'Disorder of soft tissue of upper limb',\n",
       " '[W] Autoimmune condition (FP)',\n",
       " 'Acquired deformity of toe',\n",
       " '[P] Iron deficiency Anemia',\n",
       " 'Cardiac arrhythmia',\n",
       " '[P][R] Urinary tract infectious disease',\n",
       " '[P][R] Edema',\n",
       " 'Injury of free lower limb',\n",
       " '[P][R] Sleep apnea',\n",
       " 'Localized enlarged lymph nodes',\n",
       " '[P][R] Malignant neoplastic disease',\n",
       " '[P][R] Retinopathy due to diabetes mellitus',\n",
       " '[P][R] Sleep disorder ',\n",
       " '[P][R] Malignant tumor of breast',\n",
       " 'Obesity',\n",
       " '[P][R] Sepsis',\n",
       " '[P][R] Diverticulitis of large intestine',\n",
       " 'Disorder of external ear',\n",
       " '[P][R] Urinary incontinence ',\n",
       " 'Spinal stenosis of lumbar region',\n",
       " 'Chronic kidney disease',\n",
       " '[P][R] Esophagitis',\n",
       " 'Joint injury',\n",
       " 'Hernia of abdominal cavity',\n",
       " '[P][R] Hemorrhoids ',\n",
       " 'Harmful pattern of use of nicotine',\n",
       " '[P] Paresthesia',\n",
       " '[P][R] Migraine',\n",
       " 'Psychoactive substance abuse',\n",
       " 'Injury of tendon of lower limb',\n",
       " '[P][R] Vasculitis',\n",
       " '[P][R] Conjunctivitis ',\n",
       " 'Injury of tendon',\n",
       " 'Acquired deformity of lower limb',\n",
       " 'Snapping thumb syndrome',\n",
       " '[P][R] Hypokalemia',\n",
       " 'COPD',\n",
       " 'Fracture of lower leg',\n",
       " 'Arthropathy of knee joint',\n",
       " 'Cartilage disorder',\n",
       " 'Rheumatoid Arthritis',\n",
       " '[P] Pneumonitis and lung infections',\n",
       " '[P][R] Seborrheic dermatitis ',\n",
       " '[P][R] Temporal arteritis',\n",
       " 'Disorder of knee',\n",
       " 'Disorder of nail',\n",
       " 'Disorder of lower leg',\n",
       " 'Iatrogenic disorder',\n",
       " 'Gastric polyp',\n",
       " '[P] Bronchitis or Bronchiolitis',\n",
       " 'Disorder of diaphragm',\n",
       " 'Acquired deformity of limb',\n",
       " 'Disorder of soft tissue of limb',\n",
       " 'Disorder of joint of ankle and/or foot',\n",
       " 'Disorder of joint of shoulder region',\n",
       " 'Spinal stenosis',\n",
       " 'Neoplasm of lymph node',\n",
       " '[P][R] Paresthesia',\n",
       " 'Disorder of soft tissue of lower limb',\n",
       " 'Disorder of lumbar spine',\n",
       " '[P][R] Osteoporosis',\n",
       " 'Triggering of digit',\n",
       " '[P][R] Malignant tumor of stomach',\n",
       " 'Allergic Rhinitis',\n",
       " 'Disorder of mineral metabolism',\n",
       " '[P][R] Contact dermatitis ',\n",
       " 'Fracture of bones of trunk',\n",
       " '[P][R] Orthostatic hypotension',\n",
       " 'Otitis Media',\n",
       " 'Polyp of nasal cavity and/or nasal sinus',\n",
       " 'Hematuria syndrome',\n",
       " 'Collapse of thoracic vertebra',\n",
       " 'Capsulitis',\n",
       " '[P][R] Insomnia',\n",
       " '[P][R] Pulmonary edema ',\n",
       " 'Appendicitis',\n",
       " '[P][R] Pulmonary embolism',\n",
       " 'Adhesive capsulitis of shoulder',\n",
       " '[P] Epistaxis',\n",
       " '[P][R] Chronic pain',\n",
       " 'Diaphragmatic hernia',\n",
       " '[P][R] Angina pectoris',\n",
       " '[P][R] Open-angle glaucoma',\n",
       " 'Otitis externa',\n",
       " 'Fracture of thoracic spine',\n",
       " 'Collapse of vertebra',\n",
       " 'Disorder of thoracic spine',\n",
       " 'Injury of Achilles tendon',\n",
       " '[P][R] Pneumonia',\n",
       " 'Rupture of tendon of lower limb',\n",
       " '[P] Deep Vein Thrombosis DVT',\n",
       " 'Disorder of magnesium metabolism',\n",
       " 'Fracture of vertebral column',\n",
       " 'Disorder of phosphate, calcium and vitamin D metabolism',\n",
       " '[W] Acute renal failure with inpatient admission',\n",
       " 'Influenza',\n",
       " 'Disorder of calcium metabolism',\n",
       " 'Injury of back',\n",
       " 'Injury of thoracic spine',\n",
       " 'Disorder of shoulder',\n",
       " 'Acute Kidney Injury',\n",
       " '[P] Coronary Artery Disease from vessel disease to ischemic injury',\n",
       " 'Traumatic or non-traumatic rupture of tendon',\n",
       " '[P][R] Glaucoma',\n",
       " '[P][R] Venous thrombosis',\n",
       " 'Major Depressive Disorder',\n",
       " 'Hypercortisolism',\n",
       " 'Acute Myocardial Infarction',\n",
       " 'Infection of nail',\n",
       " '[P][R] Intellectual disability ',\n",
       " 'Non-steroidal anti-inflammatory poisoning',\n",
       " 'Capsular cataract',\n",
       " 'Perianal infection',\n",
       " 'Drug-induced constipation',\n",
       " 'Scalp infection',\n",
       " 'Spontaneous bruising',\n",
       " 'Thyroid eye disease',\n",
       " 'Hypertrophic scar',\n",
       " 'Postherpetic neuralgia',\n",
       " 'Superficial mycosis',\n",
       " 'Peripheral arteriovenous malformation',\n",
       " 'Foreign body in hand',\n",
       " 'Mechanical complication of dialysis catheter',\n",
       " 'Idiopathic scoliosis',\n",
       " 'Fracture of ankle',\n",
       " 'Disease of the digestive system complicating pregnancy, childbirth and/or the puerperium',\n",
       " 'Skin tag',\n",
       " 'Corn - lesion',\n",
       " 'Disease of nervous system complicating pregnancy, childbirth and puerperium',\n",
       " 'Callosity',\n",
       " 'Miscarriage',\n",
       " 'Endocrine, nutritional and metabolic disease complicating pregnancy, childbirth and puerperium',\n",
       " 'Lumbar discitis',\n",
       " 'Cervical disc disorder with radiculopathy',\n",
       " 'Follicular cysts of skin and subcutaneous tissue',\n",
       " 'Autonomic neuropathy',\n",
       " 'Pseudarthrosis after fusion or arthrodesis',\n",
       " 'Fracture of phalanx of finger',\n",
       " 'Mechanical joint disorder',\n",
       " 'Flexion deformity',\n",
       " 'Abscess of limb',\n",
       " 'Steatosis of liver',\n",
       " 'Pigmented skin lesion',\n",
       " '[P] Delirium',\n",
       " 'Obstructed femoral hernia',\n",
       " 'Seborrheic keratosis',\n",
       " 'Lipoma of skin and subcutaneous tissue of limb',\n",
       " 'Solar lentiginosis',\n",
       " 'Stitch abscess',\n",
       " 'Incomplete miscarriage',\n",
       " 'Dysphonia',\n",
       " 'Parotitis',\n",
       " 'Chemical-induced dermatological disorder',\n",
       " 'Lipoma of skin and subcutaneous tissue of trunk',\n",
       " 'Disorder of scalp',\n",
       " 'Hair sinus',\n",
       " 'Granulomatous disorder of the skin and subcutaneous tissue',\n",
       " 'Nasal vestibulitis',\n",
       " 'Nipple deformity',\n",
       " 'Vitreous floaters',\n",
       " 'Disorder of patellofemoral joint',\n",
       " 'Shoulder synovitis',\n",
       " 'Squamous cell carcinoma in situ',\n",
       " 'Melanoma in situ',\n",
       " 'Disorder of skull',\n",
       " 'Melanoma in situ of trunk',\n",
       " 'Hyperemesis gravidarum',\n",
       " 'Viral infection of skin',\n",
       " 'Periapical abscess',\n",
       " 'Closed fracture sacrum',\n",
       " 'Fracture at wrist and/or hand level',\n",
       " 'Interphalangeal sprain',\n",
       " 'Complete tear, knee ligament',\n",
       " 'Postprocedural respiratory disorders',\n",
       " 'Injury of nose',\n",
       " 'Mouth polyp',\n",
       " 'Hemorrhagic complication of pregnancy',\n",
       " 'Obstructed inguinal hernia',\n",
       " 'Thyroid nodule',\n",
       " 'Non-alcoholic fatty liver',\n",
       " 'Thoracic outlet syndrome',\n",
       " 'Disorder of skin AND/OR subcutaneous tissue of head',\n",
       " 'Gynecological endocrinology disorder',\n",
       " 'Disorder of carbohydrate absorption',\n",
       " 'Abscess of axilla',\n",
       " 'Bacterial infection of skin',\n",
       " 'Bacterial infection of eye',\n",
       " 'Foot callus',\n",
       " 'Hydrocephalus',\n",
       " 'Polycystic ovary syndrome',\n",
       " 'Foreign body',\n",
       " 'Meconium in amniotic fluid affecting management of mother',\n",
       " 'Sequelae of fracture of femur',\n",
       " 'Fracture of upper limb',\n",
       " 'Pleural plaque',\n",
       " 'Abscess of finger',\n",
       " 'Sequelae of injury of eye and orbit',\n",
       " 'Sequelae of injuries of lower limb',\n",
       " 'Disorder of placenta',\n",
       " 'Pregnancy with abortive outcome',\n",
       " 'Neoplasm of uncertain behavior of digestive organ',\n",
       " 'Neoplasm of base of tongue',\n",
       " 'Neoplasm of oropharynx',\n",
       " 'Neoplasm of soft tissues of lower limb',\n",
       " 'Anal fissure and fistula',\n",
       " 'Angiodysplasia of colon',\n",
       " 'Neoplasm of bronchus',\n",
       " 'Polyp of gallbladder',\n",
       " 'Accessory breast',\n",
       " 'Psychogenic polydipsia',\n",
       " 'Arthritis of hand',\n",
       " 'Xanthelasma',\n",
       " 'Tenosynovitis of wrist',\n",
       " 'Splenic infarction',\n",
       " 'Disorder of tonsil (palatine tonsil)',\n",
       " 'Cerebrospinal fluid leak',\n",
       " 'Neoplasm of uncertain behavior of skeletal system',\n",
       " 'Blister of foot',\n",
       " 'Acquired absence of all teeth',\n",
       " 'Benign adenomatous neoplasm',\n",
       " 'Ganglion cyst',\n",
       " 'Spondylolysis of cervical spine',\n",
       " 'Neoplasm of skeletal system',\n",
       " 'Disorder of lumbar disc',\n",
       " 'Ulcer of anorectal structure',\n",
       " 'Arthritis of shoulder region joint',\n",
       " 'Displacement of cervical intervertebral disc',\n",
       " 'Inflammatory disease of female genital structure',\n",
       " 'Inflammation of rotator cuff tendon',\n",
       " 'Fracture of foot',\n",
       " 'Disorder of external nose',\n",
       " 'Anogenital candidiasis',\n",
       " 'Chiari malformation',\n",
       " 'Fracture of base of skull',\n",
       " 'Neoplasm of adrenal gland',\n",
       " 'Neoplasm of testis',\n",
       " 'Neoplasm of vulva',\n",
       " 'Neoplasm of pituitary gland',\n",
       " 'Histiocytic syndrome',\n",
       " 'Acute pelvic inflammatory disease',\n",
       " 'Germ cell tumor of ovary',\n",
       " 'Neoplasm of fallopian tube',\n",
       " 'Neoplasm of cerebral meninges',\n",
       " 'Erythrocytosis',\n",
       " 'Tumor of eyelid',\n",
       " 'Neoplasm of tonsil',\n",
       " 'Neoplasm of lymph nodes of upper limb',\n",
       " 'Injury of upper extremity',\n",
       " 'Neoplasm of mesothelial tissue',\n",
       " 'Neoplasm of mediastinum',\n",
       " 'Neoplasm of rectum',\n",
       " 'Neoplasm of lymph node of lower limb',\n",
       " 'Disorder of endocrine gonad',\n",
       " 'Neoplasm of ureter',\n",
       " 'Neoplasm of peritoneum',\n",
       " 'Neoplasm of pancreas',\n",
       " 'Neoplasm of biliary tract',\n",
       " 'Tooth eruption disorder',\n",
       " 'Odontogenic cyst',\n",
       " 'Tumor of oral cavity',\n",
       " 'Impacted tooth',\n",
       " 'Macrocytosis - no anemia',\n",
       " 'Bone marrow transplant rejection',\n",
       " 'Mucocele of mouth',\n",
       " 'Varicose ulcer of lower extremity',\n",
       " 'Infective vaginitis',\n",
       " 'Epigastric hernia',\n",
       " 'Obstetric disorders of breast and lactation',\n",
       " 'Disorder of nipple',\n",
       " 'Neoplasm of glottis',\n",
       " 'Iodine deficiency syndrome',\n",
       " 'Fracture of cervical spine',\n",
       " 'Fracture of lumbar spine',\n",
       " 'Neoplasm of sigmoid colon',\n",
       " 'Injury of female genital system',\n",
       " 'Subluxation of joint',\n",
       " 'Fracture of olecranon',\n",
       " 'Tendinitis',\n",
       " 'Lipoma of back',\n",
       " 'Arachnoid cyst',\n",
       " 'Entropion and trichiasis of eyelid',\n",
       " 'Scleritis and episcleritis',\n",
       " 'Angular cheilitis',\n",
       " 'Nystagmus and other irregular eye movements',\n",
       " 'Injury of tendon of the rotator cuff of shoulder',\n",
       " 'Minor oral aphthous ulceration',\n",
       " 'Encephalitis, myelitis and encephalomyelitis',\n",
       " 'Fracture dislocation of joint',\n",
       " 'Abscess of perineum',\n",
       " 'Acute infective otitis externa',\n",
       " 'Spinal stenosis, excluding cervical region',\n",
       " 'Hereditary hemochromatosis',\n",
       " 'Vaginitis',\n",
       " 'Malabsorption of glucose',\n",
       " 'Spondylosis and allied disorders',\n",
       " 'Acute meniscal tear, medial',\n",
       " 'Fracture of rib',\n",
       " 'Candidiasis of mouth and esophagus',\n",
       " 'Complication of anesthesia',\n",
       " 'Perimenopausal disorder',\n",
       " 'Rupture of ligament of knee joint',\n",
       " 'Fracture of distal end of radius',\n",
       " 'Eye infection',\n",
       " 'Subluxation of joint of upper limb',\n",
       " 'Fracture of distal end of ulna',\n",
       " 'Ligament injury',\n",
       " 'Fracture of radial head',\n",
       " 'Abscess of skin and/or subcutaneous tissue',\n",
       " 'Fracture of scaphoid bone of wrist',\n",
       " 'Dislocation of acromioclavicular joint',\n",
       " 'Fracture dislocation of joint of lower limb',\n",
       " 'Ligament rupture',\n",
       " 'Polyp of nasal sinus',\n",
       " 'Fractures of multiple bones of lower limb',\n",
       " 'Acute vulvitis',\n",
       " 'Cervical disc disorder',\n",
       " 'Non-infective lymphatic disorders',\n",
       " 'Tooth disorder',\n",
       " 'Tendon rupture - shoulder',\n",
       " 'Bowenoid actinic keratosis',\n",
       " 'Lesion of external ear',\n",
       " 'Injury of cervical spine',\n",
       " 'Lipoma of abdominal wall',\n",
       " 'Fracture of skull and facial bones',\n",
       " \"Gilbert's syndrome\",\n",
       " 'Phenothiazine poisoning',\n",
       " 'Cobalamin deficiency',\n",
       " 'Selective immunoglobulin G deficiency',\n",
       " 'Infection of finger',\n",
       " 'Non-organic psychosis',\n",
       " 'Interstitial lung disease',\n",
       " 'Folic acid deficiency',\n",
       " 'Infected hand',\n",
       " 'Paranoid disorder',\n",
       " 'Infection of foot',\n",
       " 'Emotionally unstable personality disorder',\n",
       " 'Ingrowing eyelash',\n",
       " 'Dental abscess',\n",
       " 'Melena',\n",
       " 'Thumb injury',\n",
       " 'Injury of lumbar spine',\n",
       " 'Injury of orbit',\n",
       " 'Infected ulcer of skin',\n",
       " 'Deficiency of ligaments of knee joint',\n",
       " 'Deficiency of anterior cruciate ligament',\n",
       " 'Telangiectasia disorder',\n",
       " 'Candida infection of genital region',\n",
       " 'Developmental academic disorder',\n",
       " 'Labial cyst',\n",
       " 'Disorder of ear ossicles',\n",
       " 'Fracture of lateral malleolus',\n",
       " 'Submammary monilia',\n",
       " 'Posterior vitreous detachment',\n",
       " 'Infective vulvitis',\n",
       " 'Disorder of soft tissue of neck',\n",
       " 'Nutritional disorder',\n",
       " 'Lower limb joint arthritis',\n",
       " 'Foreign body in respiratory tract',\n",
       " 'Ulcer of mouth',\n",
       " 'Splinter in skin',\n",
       " 'Injury of lower respiratory tract',\n",
       " 'Fracture of medial malleolus',\n",
       " 'Injury of nasal bones',\n",
       " 'Polyp of intestine',\n",
       " 'Benign lipomatous tumor',\n",
       " 'Leukoplakia of vulva',\n",
       " 'Infection of toe',\n",
       " 'Benign neoplasm of respiratory system',\n",
       " 'Primary gonarthrosis, bilateral',\n",
       " 'Pathological dislocation of wrist joint',\n",
       " 'Allergic reaction to wasp sting',\n",
       " 'Infection of orbit',\n",
       " 'Trichilemmal cyst',\n",
       " 'Knee joint effusion',\n",
       " 'Intracranial tumor',\n",
       " 'Tear of medial meniscus of knee',\n",
       " 'Papilloma of skin',\n",
       " 'Generalized arthritis',\n",
       " 'Fibrocartilage lesion of joint',\n",
       " 'Bursitis of bursa of ankle and/or foot',\n",
       " 'Arterial malformation',\n",
       " 'Keratoacanthoma',\n",
       " 'Anal skin tag',\n",
       " 'Disorder of salivary structure',\n",
       " 'Cyst of skin',\n",
       " 'Paraumbilical hernia',\n",
       " 'Injury of ear',\n",
       " 'Failure to achieve operative objectives',\n",
       " 'Congenital malformation of the urinary system',\n",
       " 'Sequelae of injuries of head',\n",
       " 'Corneal scars and opacities',\n",
       " 'Conjunctival degenerations and deposits',\n",
       " 'Glial tumor of brain',\n",
       " 'Sequelae of injuries of neck and trunk',\n",
       " 'Disorder due to and following injury of upper limb',\n",
       " 'Sequelae of inflammatory diseases of the central nervous system',\n",
       " 'Benign paroxysmal positional vertigo or nystagmus',\n",
       " 'Sequelae of subarachnoid hemorrhage',\n",
       " 'Sequelae of intracerebral hemorrhage',\n",
       " 'Spider nevus',\n",
       " 'Lipomatous tumor',\n",
       " 'Sequelae of cerebral infarction',\n",
       " 'Acute meniscal tear, lateral',\n",
       " 'Jaundice',\n",
       " 'Fracture of first metacarpal bone',\n",
       " 'Abscess of intestine',\n",
       " 'Spermatocele',\n",
       " 'Inflammatory disorder of male genital organ',\n",
       " 'Cyst of ovary',\n",
       " 'Congenital cystic disease of liver',\n",
       " 'Lipoma of skin and subcutaneous tissue (excluding face)',\n",
       " 'Congenital anomaly of digestive system',\n",
       " 'Infectious diarrheal disease',\n",
       " 'Incisional hernia',\n",
       " 'Intestinal infectious disease',\n",
       " 'Congenital anomaly of lower alimentary tract',\n",
       " 'Female digestive-genital tract fistula',\n",
       " 'Tubal pregnancy',\n",
       " 'Neoplasm of uncertain behavior of liver and/or biliary passages',\n",
       " 'Perianal abscess',\n",
       " 'Mucous polyp of cervix',\n",
       " 'Fistula of the female genital organs',\n",
       " 'Endometriosis of ovary',\n",
       " 'Neoplasm of uncertain behavior of male genital organ',\n",
       " 'Disorder of peritoneum',\n",
       " 'Polymyalgia rheumatica',\n",
       " 'Ulcer of lower extremity',\n",
       " 'Ruptured abdominal aortic aneurysm',\n",
       " 'Peritoneal adhesion',\n",
       " 'Prolapse of vaginal vault after hysterectomy',\n",
       " '[P] Primary or malignant urothelial bladder cancer',\n",
       " 'Carcinoma in situ of male genital organ',\n",
       " 'Peritonitis',\n",
       " 'Induratio penis plastica',\n",
       " 'Inflammatory disease of the uterus',\n",
       " 'Intestinal parasitism',\n",
       " 'Colostomy and enterostomy malfunction',\n",
       " 'Perforation of gallbladder',\n",
       " 'Viral enteritis',\n",
       " 'Placenta previa with hemorrhage',\n",
       " 'Residual hemorrhoidal skin tags',\n",
       " 'Endometriosis of pelvic peritoneum',\n",
       " 'Abnormality of organs AND/OR soft tissues of pelvis affecting pregnancy',\n",
       " 'Late effect of fracture of lower extremities',\n",
       " 'Rhesus isoimmunization affecting pregnancy',\n",
       " 'Benign neoplasm of soft tissues of trunk',\n",
       " 'Chronic prostatitis',\n",
       " 'Gastrointestinal complication',\n",
       " '[P] Severe Cutaneous Adverse Reaction SCAR (SJS+TEN+DRESS+EM)',\n",
       " '[P] Progressive multifocal leukoencephalopathy',\n",
       " 'Disorder of anterior pituitary',\n",
       " 'Guillain-Barre syndrome',\n",
       " 'Foreign body in esophagus',\n",
       " 'Idiopathic Peripheral Neuropathy',\n",
       " 'Benign neoplasm of larynx',\n",
       " 'Optic Neuritis',\n",
       " 'Congenital anomaly of pharynx',\n",
       " '[P] Narcolepsy events',\n",
       " '[P][R] Urticaria ',\n",
       " '[P] Hepatic Thrombosis',\n",
       " '[P] Portal vein thrombosis',\n",
       " 'Injury of neck',\n",
       " 'Stenosis of larynx',\n",
       " 'Congenital anomaly of neck',\n",
       " 'Late effect of fracture of skull AND/OR face bones',\n",
       " 'Vomiting after gastrointestinal tract surgery',\n",
       " '[P] Long QT Syndrome or QT prolonged (Acquired)',\n",
       " 'Foreign body in pharynx',\n",
       " 'Disorder of spleen',\n",
       " 'Benign neoplasm of male genital organ',\n",
       " 'Chronic hepatitis',\n",
       " 'Chronic cholecystitis',\n",
       " 'Polyp of corpus uteri',\n",
       " 'Atrophic vaginitis',\n",
       " 'Infection of skin and/or subcutaneous tissue',\n",
       " 'Disorder of endocrine ovary',\n",
       " 'Incisional hernia with obstruction',\n",
       " 'Esophageal varices without bleeding',\n",
       " 'Foreign body in digestive tract',\n",
       " 'Enteritis of small intestine',\n",
       " 'Acute vascular insufficiency of intestine',\n",
       " 'Abscess of liver',\n",
       " 'Congenital anomaly of lower limb',\n",
       " '[P] Febrile Neutropenia or Neutropenic Fever',\n",
       " '[P] Stevens-Johnson syndrome, toxic epidermal necrolysis spectrum',\n",
       " 'Disorder of ureter',\n",
       " 'Premature rupture of membranes',\n",
       " 'Dysmenorrhea',\n",
       " 'Acquired keratoderma',\n",
       " 'Congenital anomaly of limb',\n",
       " 'Congenital anomaly of musculoskeletal system',\n",
       " 'Non-neoplastic nevus',\n",
       " 'Cyst of oral soft tissue',\n",
       " 'Pressure ulcer',\n",
       " 'Dermatophytosis',\n",
       " 'Disorder of lip',\n",
       " 'Benign neoplasm of skin of trunk',\n",
       " 'Abnormal granulation tissue',\n",
       " 'Scar conditions and fibrosis of skin',\n",
       " 'Dehiscence of surgical wound',\n",
       " 'Disorder of forearm',\n",
       " 'Primary hyperparathyroidism',\n",
       " 'Benign neoplasm of endocrine gland',\n",
       " 'Tracheostomy complication',\n",
       " 'Dermal mycosis',\n",
       " 'Epidermoid cyst of skin',\n",
       " 'Diffuse spasm of esophagus',\n",
       " 'Toxic nodular goiter',\n",
       " \"Tietze's disease\",\n",
       " 'Dental caries',\n",
       " 'Systemic Lupus Erythematosus',\n",
       " 'Disorder of oral mucous membrane',\n",
       " 'Post-laminectomy syndrome',\n",
       " 'Mechanical complication of vascular device',\n",
       " 'Pediculosis capitis',\n",
       " 'Keloid scar',\n",
       " 'Tinea pedis',\n",
       " 'Fasciitis',\n",
       " 'Plantar fascial fibromatosis',\n",
       " 'Hyperparathyroidism',\n",
       " 'Injury of forearm',\n",
       " 'Benign neoplasm of parathyroid gland',\n",
       " 'Anal spasm',\n",
       " 'Chronic ulcer of skin',\n",
       " 'Olecranon bursitis',\n",
       " 'Bursitis',\n",
       " 'Benign neoplasm of mouth region',\n",
       " 'Cyst of thyroid',\n",
       " 'Encephalopathy',\n",
       " 'Secondary hyperparathyroidism',\n",
       " 'Hypertrophic condition of skin',\n",
       " 'Scalp injury',\n",
       " 'Simple goiter',\n",
       " 'Senile hyperkeratosis',\n",
       " 'Carcinoma in situ of female genital organ',\n",
       " 'Carcinoma in situ of uterus',\n",
       " 'Late effect of fracture of spine AND/OR trunk without spinal cord lesion',\n",
       " 'Injury of blood vessel',\n",
       " 'Gastrointestinal candidiasis',\n",
       " 'Perforation of intestine',\n",
       " 'Benign tumor of digestive organ',\n",
       " 'Acute prostatitis',\n",
       " 'Anorectal fistula',\n",
       " 'Obstructed labor',\n",
       " 'Congenital abnormality of lower limb and pelvic girdle',\n",
       " 'Post-surgical malabsorption',\n",
       " 'Delayed AND/OR secondary postpartum hemorrhage',\n",
       " 'Molluscum contagiosum infection',\n",
       " 'Congenital anomaly of cardiovascular system',\n",
       " 'Acne',\n",
       " 'Rheumatism',\n",
       " 'Stomatitis',\n",
       " 'Aphthous ulcer of mouth',\n",
       " 'Disorder of parathyroid gland',\n",
       " 'Toxic diffuse goiter',\n",
       " 'Chronic periodontitis',\n",
       " 'Actinic keratosis',\n",
       " 'Disorder of sacrum',\n",
       " 'Carcinoma in situ of skin',\n",
       " 'Infestation by Sarcoptes scabiei var hominis',\n",
       " 'Ingrowing nail',\n",
       " 'Erythema nodosum',\n",
       " 'Neoplasm of uncertain behavior of endocrine gland',\n",
       " 'Hypoparathyroidism',\n",
       " 'Congenital anomaly of endocrine gland',\n",
       " 'Onychomycosis due to dermatophyte',\n",
       " 'Acquired musculoskeletal deformity',\n",
       " 'Disorder of vocal cord',\n",
       " 'Disorder of salivary gland',\n",
       " 'Malignant tumor of prostate',\n",
       " 'Abnormal involuntary movement',\n",
       " 'Spasmodic torticollis',\n",
       " 'Incipient cataract',\n",
       " 'Hypermetropia',\n",
       " 'Disorder of pinna',\n",
       " 'Amblyopia',\n",
       " 'Congenital anomaly of brain',\n",
       " 'Late effects of poliomyelitis',\n",
       " 'Anoxic encephalopathy',\n",
       " 'Disorder of refraction AND/OR accommodation',\n",
       " 'Deviated nasal septum',\n",
       " 'Otorrhea',\n",
       " 'Blepharitis',\n",
       " 'Tear film insufficiency',\n",
       " 'Residual foreign body in soft tissue',\n",
       " 'Conjunctival hemorrhage',\n",
       " 'Benign neoplasm of brain',\n",
       " 'Cyst of eyelid',\n",
       " 'Tension-type headache',\n",
       " 'Disorder of eyelid',\n",
       " '[P] Facial Palsy lower motor neuron including Bells Palsy',\n",
       " 'Pinguecula',\n",
       " 'Symptomatic periapical periodontitis',\n",
       " 'Visual disturbance',\n",
       " 'Keratitis',\n",
       " 'Hereditary corneal dystrophy',\n",
       " 'Ptosis of eyelid',\n",
       " 'Congenital anomaly of nervous system',\n",
       " 'Mastoiditis',\n",
       " 'Benign connective tissue neoplasm',\n",
       " 'Hepatitis C',\n",
       " '[P][R] Drug dependence ',\n",
       " 'Perforation of tympanic membrane',\n",
       " 'Blepharochalasis',\n",
       " 'Pterygium',\n",
       " 'Dystonia',\n",
       " 'Disorder of tympanic membrane',\n",
       " '[P] Gall stone disorder',\n",
       " 'Benign neoplasm of cerebral meninges',\n",
       " '[P][R] Ecchymosis',\n",
       " 'Corneal dystrophy',\n",
       " 'External hordeolum',\n",
       " 'Chronic infective otitis externa',\n",
       " 'Biceps tendinitis',\n",
       " 'Tibialis posterior tendinitis',\n",
       " 'Cervical spine ankylosis',\n",
       " 'Fatigue fracture of vertebra',\n",
       " \"Dupuytren's disease of palm, nodules with no contracture\",\n",
       " \"Dupuytren's disease of finger\",\n",
       " 'Subacromial impingement',\n",
       " 'Extensor tenosynovitis of wrist',\n",
       " 'Degenerative lumbar spinal stenosis',\n",
       " 'Scapulohumeral fibrositis',\n",
       " 'Plantar fasciitis',\n",
       " 'Ganglion of wrist',\n",
       " 'Renal agenesis',\n",
       " 'Acquired scoliosis',\n",
       " 'Pseudocyst of pancreas',\n",
       " 'Bursitis of knee',\n",
       " 'Mechanical complication of cardiovascular device',\n",
       " '[P][R] Urolithiasis ',\n",
       " '[P][R] Hyperplasia of prostate ',\n",
       " 'End Stage Renal Disease',\n",
       " 'Xanthoma of eyelid',\n",
       " 'Clavicle injury',\n",
       " 'Congenital cataract',\n",
       " 'Cerebral cyst',\n",
       " 'Cluster headache',\n",
       " 'Degenerative progressive high myopia',\n",
       " 'Ocular hypertension',\n",
       " 'Senile cataract',\n",
       " 'Abscess of eyelid',\n",
       " '[P] Hearing Loss',\n",
       " 'Chalazion',\n",
       " 'Cholesteatoma of middle ear',\n",
       " 'Nerve injury',\n",
       " '[P] Prurititc Rash',\n",
       " '[P][R] Intertrigo ',\n",
       " '[P][R] Photodermatitis ',\n",
       " '[P][R] Peripheral neuritis ',\n",
       " 'Asymptomatic periapical periodontitis',\n",
       " 'Nuclear cataract',\n",
       " 'Neoplasm of brain',\n",
       " '[P][R] Inflamed tonsils ',\n",
       " 'Low blood pressure reading',\n",
       " 'Congenital anomaly of aorta',\n",
       " \"Raynaud's disease\",\n",
       " 'Vitreous hemorrhage',\n",
       " 'Lymphadenitis',\n",
       " 'Vitreous opacities',\n",
       " 'Vascular disease of the skin',\n",
       " 'Congenital anomaly of peripheral blood vessel',\n",
       " 'Compression of vein',\n",
       " 'Disorder of vitreous body',\n",
       " 'Stricture of artery',\n",
       " 'Aortic aneurysm',\n",
       " 'Rheumatic heart disease',\n",
       " 'Dissection of aorta',\n",
       " 'Peripheral venous insufficiency',\n",
       " '[P][R] Pharyngitis ',\n",
       " '[P] Fecal Incontinence',\n",
       " 'Osler hemorrhagic telangiectasia syndrome',\n",
       " 'Venous hypertension',\n",
       " 'Benign intracranial hypertension',\n",
       " '[P] Prostatitis',\n",
       " 'Posterior rhinorrhea',\n",
       " 'Anaphylaxis',\n",
       " \"Marfan's syndrome\",\n",
       " \"Cyst of Bartholin's gland duct\",\n",
       " 'Disorder of endocrine testis',\n",
       " '[P] Hemolytic Anemia',\n",
       " 'Polyp of vocal cord or larynx',\n",
       " 'Gigantism and acromegaly',\n",
       " 'Diabetes insipidus',\n",
       " 'Sialoadenitis',\n",
       " '[P] Gynecomastia, indexed on diagnosis, procedure or symptoms',\n",
       " 'Hepatic Failure',\n",
       " 'Candidiasis of mouth',\n",
       " '[P] Heavy menstrual bleeding (menorrhagia) events',\n",
       " 'Neurofibromatosis type 1',\n",
       " 'Tuberculosis',\n",
       " '[P][R] Hemoptysis ',\n",
       " '[P] Laryngitis',\n",
       " 'Disorder of mastoid',\n",
       " 'Disorder in remission',\n",
       " 'Recurrent ulcer of mouth',\n",
       " 'Benign neoplasm of eye region',\n",
       " '[P][R] Sinusitis ',\n",
       " 'Lesion of oral mucosa',\n",
       " 'Infection caused by multi drug resistant bacteria',\n",
       " 'Drug resistance to antibacterial agent',\n",
       " 'Acquired varus deformity of limb',\n",
       " 'Disorder of nervous system following procedure',\n",
       " 'Stenosis of artery',\n",
       " 'Disorder of musculoskeletal system following procedure',\n",
       " 'Anal fistula',\n",
       " 'Eustachian tube disorder',\n",
       " 'Congenital anomaly of eye',\n",
       " 'Corneal degeneration',\n",
       " 'Dislocation of digit of hand',\n",
       " 'Repetitive motion disorder',\n",
       " 'Corneal ulcer',\n",
       " 'Cyst of kidney',\n",
       " 'Acquired absence of breast',\n",
       " 'Disorder of patella',\n",
       " '[P] Streptococcal throat infection',\n",
       " 'Autosomal dominant polycystic kidney disease',\n",
       " 'Secondary cataract',\n",
       " 'Acute Respiratory Failure',\n",
       " 'Dislocation of wrist',\n",
       " 'Erectile dysfunction',\n",
       " '[P] Dysuria',\n",
       " 'Glaucoma suspect',\n",
       " 'Suspected fetal abnormality affecting management of mother',\n",
       " 'Hypopituitarism following procedure',\n",
       " 'Postprocedural infection',\n",
       " 'Lumbar spondylolisthesis',\n",
       " 'Lipoma of trunk',\n",
       " 'Injury of rotator cuff',\n",
       " 'Sequelae of infectious disease',\n",
       " 'Pyogenic infection of skin and subcutaneous tissues caused by bacterium',\n",
       " 'Hypoparathyroidism following procedure',\n",
       " 'Cyst of pancreas',\n",
       " 'Fracture of phalanx of thumb',\n",
       " 'Injury of ribs',\n",
       " 'Disorder of bursa',\n",
       " 'Localized infection of skin AND/OR subcutaneous tissue',\n",
       " 'Aneurysm of thoracic aorta',\n",
       " 'Bunion',\n",
       " 'Obsessive compulsive personality disorder',\n",
       " 'Postpartum hemorrhage',\n",
       " 'Herpes zoster',\n",
       " 'Delivery AND/OR maternal condition affecting management',\n",
       " 'Maternal AND/OR fetal condition affecting labor AND/OR delivery',\n",
       " 'Injury of wrist',\n",
       " 'Disorder of acromioclavicular joint',\n",
       " 'Injury of foot',\n",
       " 'Injury of knee',\n",
       " 'Injury of elbow',\n",
       " 'Injury of upper arm',\n",
       " 'Injury of face',\n",
       " 'Neurosis',\n",
       " '[P][R] Hypoglycemia',\n",
       " 'Injury of shoulder and upper arm',\n",
       " 'Disorder of ankle joint',\n",
       " 'Arthropathy of joint of hand',\n",
       " 'Disorder of menstruation',\n",
       " \"Barrett's esophagus\",\n",
       " 'Congenital anomaly of posterior segment of eye',\n",
       " 'Helminth infection',\n",
       " 'Hemangioma',\n",
       " 'Hyperosmolality and or hypernatremia',\n",
       " 'Personality disorder',\n",
       " 'Calcific tendinitis of shoulder',\n",
       " 'Mechanical complication of genitourinary device, implant AND/OR graft',\n",
       " 'Mucosal ulcer',\n",
       " 'Protozoan infection',\n",
       " 'Disorder of bursa of shoulder region',\n",
       " 'Fibrositis',\n",
       " 'Fracture of femur',\n",
       " 'Injury of thigh',\n",
       " 'Fracture of humerus',\n",
       " 'Disorder of ligament',\n",
       " 'Labor and delivery complicated by fetal heart rate anomaly',\n",
       " 'Synovitis/tenosynovitis - hand',\n",
       " 'Injury of hip and thigh',\n",
       " 'Disorder of pelvic girdle',\n",
       " '[P][R] Thrombotic microangiopathy',\n",
       " '[P][R] Malignant tumor of urinary bladder',\n",
       " '[P][R] Pemphigoid',\n",
       " 'Psoriasis',\n",
       " '[P][R] Acute myeloid leukemia, disease',\n",
       " '[P][R] Malignant melanoma of skin',\n",
       " '[P][R] Chilblains',\n",
       " '[P][R] Alopecia areata',\n",
       " '[P][R] Biliary cirrhosis',\n",
       " '[P][R] Celiac disease',\n",
       " '[P][R] Cardiogenic shock',\n",
       " 'Impaired glucose regulation',\n",
       " '[P][R] Malignant tumor of cervix',\n",
       " '[P][R] Primary malignant neoplasm of kidney',\n",
       " 'Autoimmune Hepatitis',\n",
       " '[P][R] Type 1 diabetes mellitus',\n",
       " \"Crohn's Disease\",\n",
       " '[P][R] Kidney stone',\n",
       " \"[P][R] Sjögren's syndrome\",\n",
       " '[P][R] Atrial fibrillation',\n",
       " '[P][R] Myelodysplastic syndrome (clinical)',\n",
       " '[P][R] Vitiligo',\n",
       " '[P][R] Chronic lymphoid leukemia, disease',\n",
       " '[P][R] Systemic sclerosis',\n",
       " 'Pre-diabetes',\n",
       " 'Functional gastrointestinal tract disorder',\n",
       " '[P][R] Myasthenia gravis',\n",
       " '[P][R] Dermatomyositis',\n",
       " 'Congenital single renal cyst',\n",
       " 'Disorder of plasma protein metabolism',\n",
       " 'Perichondritis of external ear',\n",
       " 'Premature rupture of membranes in full term pregnancy with onset of labor more than 24 hours after rupture',\n",
       " 'Anal abscess',\n",
       " 'Ulcerative Colitis',\n",
       " 'Erythema Multiforme',\n",
       " 'Fracture of shoulder',\n",
       " 'Bursitis of elbow',\n",
       " 'Bursitis of upper limb',\n",
       " '[P][R] Myelofibrosis',\n",
       " '[P][R] Thyroiditis',\n",
       " '[P][R] Atopic dermatitis',\n",
       " 'Menopausal and postmenopausal disorders',\n",
       " \"Meckel's diverticulum\",\n",
       " 'Complication of the puerperium',\n",
       " 'Closed fracture of lower end of forearm',\n",
       " 'Adjustment disorder',\n",
       " 'Vulvodynia',\n",
       " 'Spinal stenosis in cervical region',\n",
       " 'Metabolic syndrome X',\n",
       " 'Chondrocalcinosis',\n",
       " 'Poisoning by analgesic drug',\n",
       " 'Vitamin B deficiency',\n",
       " 'Abnormality of forces of labor',\n",
       " 'Postoperative infection',\n",
       " 'Legal termination of pregnancy with complication',\n",
       " 'Disorder of lipid metabolism',\n",
       " 'Ectopic pregnancy',\n",
       " 'Polyhydramnios',\n",
       " 'Infectious mononucleosis',\n",
       " 'Pulp abscess of finger',\n",
       " 'Benign neoplasm of mediastinum',\n",
       " 'Hematologic neoplasm of uncertain behavior',\n",
       " 'Atrophic vulva',\n",
       " 'Anorexia nervosa',\n",
       " 'Psychosexual disorder',\n",
       " 'Vitamin deficiency',\n",
       " 'Herpes zoster with nervous system complication',\n",
       " 'Lesion of skin of face',\n",
       " 'Termination of pregnancy with complication',\n",
       " 'Hypo-osmolality and or hyponatremia',\n",
       " 'Early complication of trauma',\n",
       " 'Mechanical complication of device',\n",
       " 'Somatoform disorder',\n",
       " 'Secondary polycythemia',\n",
       " 'Dehydration',\n",
       " 'Blepharospasm',\n",
       " 'Non-infectious disorder of lymphatics',\n",
       " 'Cyst of jaw',\n",
       " 'Juvenile osteochondrosis of foot',\n",
       " 'Poisoning by nonopioid analgesic',\n",
       " 'Vitamin D deficiency',\n",
       " 'Glossitis',\n",
       " 'Mild hyperemesis gravidarum',\n",
       " 'Miscarriage without complication',\n",
       " 'Pneumocystosis',\n",
       " 'Carcinoma in situ of vulva',\n",
       " 'Disorder of hyperalimentation',\n",
       " 'Lymphangitis',\n",
       " 'Poisoning by salicylate',\n",
       " 'Complication of medical care',\n",
       " 'Hypertrophy of nasal turbinates',\n",
       " 'Postartificial menopausal syndrome',\n",
       " 'Prolonged labor',\n",
       " 'Poisoning by antidepressant',\n",
       " 'Infection AND/OR inflammatory reaction due to internal prosthetic device, implant AND/OR graft',\n",
       " 'Herpes zoster without complication',\n",
       " 'Obstructive hydrocephalus',\n",
       " 'Retinal vascular occlusion',\n",
       " 'Threatened miscarriage',\n",
       " 'Peritonsillar abscess',\n",
       " 'Vomiting of pregnancy',\n",
       " 'Complication occurring during labor and delivery',\n",
       " 'Torticollis',\n",
       " 'Drug withdrawal',\n",
       " 'Geographic tongue',\n",
       " 'Gangrenous disorder',\n",
       " 'Disorder of pregnancy',\n",
       " 'Bulimia nervosa',\n",
       " 'Late effect of accidental injury',\n",
       " 'Postmastoidectomy complication',\n",
       " 'Atrophy of edentulous alveolar ridge',\n",
       " 'Atrophy of testis',\n",
       " 'Dislocation of joint of lower limb',\n",
       " 'Alkalosis',\n",
       " 'Mammary duct ectasia',\n",
       " 'Disorder of amniotic cavity AND/OR membrane',\n",
       " 'Eating disorder',\n",
       " 'Dacryocystitis',\n",
       " 'Premenstrual tension syndrome',\n",
       " 'Menopausal syndrome',\n",
       " 'Articular cartilage disorder',\n",
       " 'Poisoning by antidiabetic agent',\n",
       " 'Disorder of hypothalamus',\n",
       " 'Disorder of nasal cavity',\n",
       " 'Congenital vascular disorder',\n",
       " 'Stress-related problem',\n",
       " '[P][R] Granulomatosis with polyangiitis',\n",
       " '[P][R] Myocarditis',\n",
       " 'Tonic pupillary reaction',\n",
       " 'Intervertebral disc disorder',\n",
       " 'Synovitis and tenosynovitis',\n",
       " 'Fibroadenosis of breast',\n",
       " 'Loose body in knee',\n",
       " 'Dislocation of joint of upper limb',\n",
       " 'Acquired deformity of spine',\n",
       " 'Injury of chest wall',\n",
       " 'Ischemic Stroke',\n",
       " 'Fibrosclerosis of breast',\n",
       " 'Derangement of meniscus',\n",
       " 'Hemarthrosis',\n",
       " 'Osteochondropathy',\n",
       " 'Viral labyrinthitis',\n",
       " 'Acquired hallux valgus',\n",
       " 'Disorder of upper arm',\n",
       " 'Palindromic rheumatism',\n",
       " 'Arthropathy of multiple joints',\n",
       " 'Disorder of artery of upper extremity',\n",
       " 'Missed miscarriage',\n",
       " 'Dislocation of joint',\n",
       " 'Arthropathy associated with a neurological disorder',\n",
       " 'Ulcer of foot',\n",
       " 'Temporomandibular joint disorder',\n",
       " 'Heart Failure',\n",
       " '[P][R] Fracture of bone of hip region',\n",
       " 'Angioedema',\n",
       " 'Scoliosis deformity of spine',\n",
       " 'Closed fracture of one or more phalanges of hand',\n",
       " 'Poor fetal growth affecting management',\n",
       " 'Synovial cyst',\n",
       " 'Lordosis deformity of spine',\n",
       " 'Myotonic disorder',\n",
       " 'Radial styloid tenosynovitis',\n",
       " 'Curvature of spine',\n",
       " 'Full thickness rotator cuff tear',\n",
       " 'Enthesopathy of elbow region',\n",
       " 'Labyrinthitis',\n",
       " 'Fetal condition affecting obstetrical care of mother',\n",
       " 'Disorder of synovium',\n",
       " 'Hemorrhagic Stroke',\n",
       " 'Injury of shoulder region',\n",
       " 'Derangement of knee',\n",
       " '[P][R] Coronary arteriosclerosis',\n",
       " 'Disorder of cervical spine',\n",
       " 'Effusion of joint',\n",
       " 'Injury of hand',\n",
       " 'Medial epicondylitis',\n",
       " 'Ankylosis of joint of multiple sites',\n",
       " 'Mechanical complication of internal joint prosthesis',\n",
       " 'Disorder of lactation',\n",
       " 'Suppurative arthritis',\n",
       " 'Ankylosis of joint',\n",
       " 'Polymyositis',\n",
       " 'Hypermobility syndrome',\n",
       " 'Ganglion of joint',\n",
       " 'Candidiasis of urogenital site',\n",
       " 'Labyrinthine disorder',\n",
       " 'Transverse OR oblique presentation of fetus',\n",
       " 'Lateral epicondylitis',\n",
       " 'Injury of finger',\n",
       " 'Congenital anomaly of spine',\n",
       " 'Benign paroxysmal positional vertigo',\n",
       " 'Neoplasm of uncertain behavior of urinary system',\n",
       " 'Ehlers-Danlos syndrome',\n",
       " 'Loose body in joint',\n",
       " 'Unstable lie',\n",
       " 'Congenital malformation of genital organs',\n",
       " '[P] Transient ischemic attack with inpatient admission',\n",
       " 'Closed fracture of pelvis',\n",
       " 'Injury of ankle',\n",
       " 'Disorder of bone and articular cartilage',\n",
       " ...]"
      ]
     },
     "execution_count": 288,
     "metadata": {},
     "output_type": "execute_result"
    }
   ],
   "source": [
    "get_name(dataT, indices, decal=False)"
   ]
  },
  {
   "cell_type": "code",
   "execution_count": 289,
   "metadata": {},
   "outputs": [
    {
     "name": "stderr",
     "output_type": "stream",
     "text": [
      "Implicit dimension choice for softmax has been deprecated. Change the call to include dim=X as an argument.\n",
      "Conversion of an array with ndim > 0 to a scalar is deprecated, and will error in future. Ensure you extract a single element from your array before performing this operation. (Deprecated NumPy 1.25.)\n"
     ]
    }
   ],
   "source": [
    "## definition of the attention score:\n",
    "nb_distinct_diseases_tot = patient_list.get_nb_distinct_diseases_tot()\n",
    "frequencies = np.zeros(nb_distinct_diseases_tot)\n",
    "attention_score_diseases = np.zeros(nb_distinct_diseases_tot)\n",
    "for batch_sentence, batch_counts, batch_labels in dataloader_train:\n",
    "    logits, probas, x_out = model.forward_decomposed(diseases_batch, counts_batch)\n",
    "    attention_probas_raw = model.list_attention_layers\n",
    "    attention_probas_list = []\n",
    "    for attention_probas in attention_probas_raw:\n",
    "        attention_probas_list.append(attention_probas.detach().numpy())\n",
    "\n",
    "    for indice_layer in range(train_model.n_layer):\n",
    "        for indice_head in range(train_model.n_head):\n",
    "            for indice_sentence in range(len(batch_sentence)):\n",
    "                sentence = diseases_batch[indice_sentence]\n",
    "                attention_probas = attention_probas_list[indice_layer][indice_sentence][indice_head]\n",
    "                mask = model.padding_mask.detach().numpy()[indice_sentence].astype(bool)\n",
    "                n_real = np.sum(mask[0])\n",
    "                sentence = sentence[:n_real]\n",
    "                frequencies[sentence] +=1\n",
    "                attention_probas_masked = attention_probas[mask].reshape(n_real, n_real)\n",
    "\n",
    "\n",
    "                attention_score_diseases[sentence] += attention_probas_masked.sum(axis=0)\n",
    "\n",
    "\n",
    "    \n",
    "attention_score_freq = attention_score_diseases / frequencies\n",
    "attention_score_freq[np.isnan(attention_score_freq)] = 0   "
   ]
  },
  {
   "cell_type": "code",
   "execution_count": 291,
   "metadata": {},
   "outputs": [
    {
     "data": {
      "text/plain": [
       "[<matplotlib.lines.Line2D at 0x7fd976004f50>]"
      ]
     },
     "execution_count": 291,
     "metadata": {},
     "output_type": "execute_result"
    },
    {
     "data": {
      "image/png": "[encoded data removed]",
      "text/plain": [
       "<Figure size 640x480 with 1 Axes>"
      ]
     },
     "metadata": {},
     "output_type": "display_data"
    }
   ],
   "source": [
    "plt.plot(frequencies)"
   ]
  },
  {
   "cell_type": "code",
   "execution_count": 292,
   "metadata": {},
   "outputs": [
    {
     "data": {
      "text/plain": [
       "[<matplotlib.lines.Line2D at 0x7fd975ca0f50>]"
      ]
     },
     "execution_count": 292,
     "metadata": {},
     "output_type": "execute_result"
    },
    {
     "data": {
      "image/png": "[encoded data removed]",
      "text/plain": [
       "<Figure size 640x480 with 1 Axes>"
      ]
     },
     "metadata": {},
     "output_type": "display_data"
    }
   ],
   "source": [
    "plt.plot(attention_score_freq, 'o')"
   ]
  },
  {
   "cell_type": "code",
   "execution_count": 293,
   "metadata": {},
   "outputs": [],
   "source": [
    "indices_att_score = np.argsort(attention_score_freq)[::-1]"
   ]
  },
  {
   "cell_type": "markdown",
   "metadata": {},
   "source": [
    "### Grad-SAM"
   ]
  },
  {
   "cell_type": "code",
   "execution_count": null,
   "metadata": {},
   "outputs": [],
   "source": []
  },
  {
   "cell_type": "code",
   "execution_count": 74,
   "metadata": {},
   "outputs": [],
   "source": [
    "batch_diseases, batch_counts, batch_labels = next(iter(dataloader_test))"
   ]
  },
  {
   "cell_type": "code",
   "execution_count": 75,
   "metadata": {},
   "outputs": [
    {
     "name": "stderr",
     "output_type": "stream",
     "text": [
      "Implicit dimension choice for softmax has been deprecated. Change the call to include dim=X as an argument.\n"
     ]
    }
   ],
   "source": [
    "logits, probas, x_out, loss = model.forward_decomposed(batch_diseases, batch_counts, batch_labels)\n",
    "loss.backward()"
   ]
  },
  {
   "cell_type": "code",
   "execution_count": 80,
   "metadata": {},
   "outputs": [
    {
     "data": {
      "text/plain": [
       "tensor([[[1.1314e-01, 1.3339e-11, 5.5280e-11,  ..., 0.0000e+00,\n",
       "          0.0000e+00, 0.0000e+00],\n",
       "         [1.0540e-01, 3.9247e-10, 1.5867e-09,  ..., 0.0000e+00,\n",
       "          0.0000e+00, 0.0000e+00],\n",
       "         [1.5209e-01, 3.5145e-08, 9.7491e-08,  ..., 0.0000e+00,\n",
       "          0.0000e+00, 0.0000e+00],\n",
       "         ...,\n",
       "         [0.0000e+00, 0.0000e+00, 0.0000e+00,  ..., 0.0000e+00,\n",
       "          0.0000e+00, 0.0000e+00],\n",
       "         [0.0000e+00, 0.0000e+00, 0.0000e+00,  ..., 0.0000e+00,\n",
       "          0.0000e+00, 0.0000e+00],\n",
       "         [0.0000e+00, 0.0000e+00, 0.0000e+00,  ..., 0.0000e+00,\n",
       "          0.0000e+00, 0.0000e+00]],\n",
       "\n",
       "        [[8.1727e-08, 4.4243e-10, 3.6773e-10,  ..., 0.0000e+00,\n",
       "          0.0000e+00, 0.0000e+00],\n",
       "         [7.5264e-04, 5.3723e-05, 8.2521e-05,  ..., 0.0000e+00,\n",
       "          0.0000e+00, 0.0000e+00],\n",
       "         [6.3992e-08, 5.3206e-10, 2.0664e-10,  ..., 0.0000e+00,\n",
       "          0.0000e+00, 0.0000e+00],\n",
       "         ...,\n",
       "         [0.0000e+00, 0.0000e+00, 0.0000e+00,  ..., 0.0000e+00,\n",
       "          0.0000e+00, 0.0000e+00],\n",
       "         [0.0000e+00, 0.0000e+00, 0.0000e+00,  ..., 0.0000e+00,\n",
       "          0.0000e+00, 0.0000e+00],\n",
       "         [0.0000e+00, 0.0000e+00, 0.0000e+00,  ..., 0.0000e+00,\n",
       "          0.0000e+00, 0.0000e+00]],\n",
       "\n",
       "        [[3.6937e-02, 2.8286e-07, 2.6463e-04,  ..., 0.0000e+00,\n",
       "          0.0000e+00, 0.0000e+00],\n",
       "         [2.0512e-02, 7.9830e-09, 4.2040e-05,  ..., 0.0000e+00,\n",
       "          0.0000e+00, 0.0000e+00],\n",
       "         [2.7260e-02, 2.7867e-08, 8.3999e-05,  ..., 0.0000e+00,\n",
       "          0.0000e+00, 0.0000e+00],\n",
       "         ...,\n",
       "         [0.0000e+00, 0.0000e+00, 0.0000e+00,  ..., 0.0000e+00,\n",
       "          0.0000e+00, 0.0000e+00],\n",
       "         [0.0000e+00, 0.0000e+00, 0.0000e+00,  ..., 0.0000e+00,\n",
       "          0.0000e+00, 0.0000e+00],\n",
       "         [0.0000e+00, 0.0000e+00, 0.0000e+00,  ..., 0.0000e+00,\n",
       "          0.0000e+00, 0.0000e+00]],\n",
       "\n",
       "        [[6.6633e-01, 2.7000e-04, 1.7717e-04,  ..., 0.0000e+00,\n",
       "          0.0000e+00, 0.0000e+00],\n",
       "         [1.2389e-01, 5.1999e-02, 4.8298e-02,  ..., 0.0000e+00,\n",
       "          0.0000e+00, 0.0000e+00],\n",
       "         [2.0985e-01, 3.5825e-02, 3.0692e-02,  ..., 0.0000e+00,\n",
       "          0.0000e+00, 0.0000e+00],\n",
       "         ...,\n",
       "         [0.0000e+00, 0.0000e+00, 0.0000e+00,  ..., 0.0000e+00,\n",
       "          0.0000e+00, 0.0000e+00],\n",
       "         [0.0000e+00, 0.0000e+00, 0.0000e+00,  ..., 0.0000e+00,\n",
       "          0.0000e+00, 0.0000e+00],\n",
       "         [0.0000e+00, 0.0000e+00, 0.0000e+00,  ..., 0.0000e+00,\n",
       "          0.0000e+00, 0.0000e+00]]], grad_fn=<SelectBackward0>)"
      ]
     },
     "execution_count": 80,
     "metadata": {},
     "output_type": "execute_result"
    }
   ],
   "source": [
    "model.blocks[layer].sa.attention_probas[0]"
   ]
  },
  {
   "cell_type": "code",
   "execution_count": 48,
   "metadata": {},
   "outputs": [
    {
     "data": {
      "text/plain": [
       "torch.Size([200, 122, 122])"
      ]
     },
     "execution_count": 48,
     "metadata": {},
     "output_type": "execute_result"
    }
   ],
   "source": [
    "mask.shape"
   ]
  },
  {
   "cell_type": "code",
   "execution_count": 62,
   "metadata": {},
   "outputs": [
    {
     "data": {
      "text/plain": [
       "torch.Size([41486, 4])"
      ]
     },
     "execution_count": 62,
     "metadata": {},
     "output_type": "execute_result"
    }
   ],
   "source": [
    "A.transpose(1, 2).transpose(2, 3)[mask].view(200, )"
   ]
  },
  {
   "cell_type": "code",
   "execution_count": 43,
   "metadata": {},
   "outputs": [],
   "source": [
    "H = torch.zeros(())\n",
    "mask = model.padding_mask.detach().numpy()[indice_sentence].astype(bool)\n",
    "n_real = np.sum(mask[0])\n",
    "sentence = sentence[:n_real]\n",
    "attention_probas_masked = attention_probas[mask].reshape(n_real, n_real)\n",
    "for layer in range(train_model.n_layer):\n",
    "    \n",
    "\n",
    "    G = model.blocks[layer].sa.attention_probas.grad\n",
    "    A = model.blocks[layer].sa.attention_probas\n",
    "   \n",
    "    H = A * nn.ReLU()(G) \n",
    "\n",
    "\n"
   ]
  },
  {
   "cell_type": "code",
   "execution_count": 128,
   "metadata": {},
   "outputs": [
    {
     "name": "stderr",
     "output_type": "stream",
     "text": [
      "Implicit dimension choice for softmax has been deprecated. Change the call to include dim=X as an argument.\n"
     ]
    },
    {
     "name": "stdout",
     "output_type": "stream",
     "text": [
      "tensor([1227,    0,    0,    0,    0,    0,    0,    0,    0,    0,    0,    0,\n",
      "           0,    0,    0,    0,    0,    0,    0,    0,    0,    0,    0,    0,\n",
      "           0,    0,    0,    0,    0,    0,    0,    0,    0,    0,    0,    0,\n",
      "           0,    0,    0,    0,    0,    0,    0,    0,    0,    0,    0,    0,\n",
      "           0,    0,    0,    0,    0,    0,    0,    0,    0,    0,    0,    0,\n",
      "           0,    0,    0,    0,    0,    0,    0,    0,    0,    0,    0,    0,\n",
      "           0,    0,    0,    0,    0,    0,    0,    0,    0,    0,    0,    0,\n",
      "           0,    0,    0,    0,    0,    0,    0,    0,    0,    0,    0,    0,\n",
      "           0,    0,    0,    0,    0,    0,    0,    0,    0,    0,    0,    0,\n",
      "           0,    0,    0,    0,    0,    0,    0,    0,    0,    0,    0,    0,\n",
      "           0,    0])\n",
      "tensor([ 124,  223, 1352,    0,    0,    0,    0,    0,    0,    0,    0,    0,\n",
      "           0,    0,    0,    0,    0,    0,    0,    0,    0,    0,    0,    0,\n",
      "           0,    0,    0,    0,    0,    0,    0,    0,    0,    0,    0,    0,\n",
      "           0,    0,    0,    0,    0,    0,    0,    0,    0,    0,    0,    0,\n",
      "           0,    0,    0,    0,    0,    0,    0,    0,    0,    0,    0,    0,\n",
      "           0,    0,    0,    0,    0,    0,    0,    0,    0,    0,    0,    0,\n",
      "           0,    0,    0,    0,    0,    0,    0,    0,    0,    0,    0,    0,\n",
      "           0,    0,    0,    0,    0,    0,    0,    0,    0,    0,    0,    0,\n",
      "           0,    0,    0,    0,    0,    0,    0,    0,    0,    0,    0,    0,\n",
      "           0,    0,    0,    0,    0,    0,    0,    0,    0,    0,    0,    0,\n",
      "           0,    0])\n",
      "tensor([1218,    0,    0,    0,    0,    0,    0,    0,    0,    0,    0,    0,\n",
      "           0,    0,    0,    0,    0,    0,    0,    0,    0,    0,    0,    0,\n",
      "           0,    0,    0,    0,    0,    0,    0,    0,    0,    0,    0,    0,\n",
      "           0,    0,    0,    0,    0,    0,    0,    0,    0,    0,    0,    0,\n",
      "           0,    0,    0,    0,    0,    0,    0,    0,    0,    0,    0,    0,\n",
      "           0,    0,    0,    0,    0,    0,    0,    0,    0,    0,    0,    0,\n",
      "           0,    0,    0,    0,    0,    0,    0,    0,    0,    0,    0,    0,\n",
      "           0,    0,    0,    0,    0,    0,    0,    0,    0,    0,    0,    0,\n",
      "           0,    0,    0,    0,    0,    0,    0,    0,    0,    0,    0,    0,\n",
      "           0,    0,    0,    0,    0,    0,    0,    0,    0,    0,    0,    0,\n",
      "           0,    0])\n",
      "tensor([ 223,  282,  349,  643,  961, 1178, 1258, 1262, 1355, 1419,    0,    0,\n",
      "           0,    0,    0,    0,    0,    0,    0,    0,    0,    0,    0,    0,\n",
      "           0,    0,    0,    0,    0,    0,    0,    0,    0,    0,    0,    0,\n",
      "           0,    0,    0,    0,    0,    0,    0,    0,    0,    0,    0,    0,\n",
      "           0,    0,    0,    0,    0,    0,    0,    0,    0,    0,    0,    0,\n",
      "           0,    0,    0,    0,    0,    0,    0,    0,    0,    0,    0,    0,\n",
      "           0,    0,    0,    0,    0,    0,    0,    0,    0,    0,    0,    0,\n",
      "           0,    0,    0,    0,    0,    0,    0,    0,    0,    0,    0,    0,\n",
      "           0,    0,    0,    0,    0,    0,    0,    0,    0,    0,    0,    0,\n",
      "           0,    0,    0,    0,    0,    0,    0,    0,    0,    0,    0,    0,\n",
      "           0,    0])\n",
      "tensor([ 101,  126,  139,  141,  197,  220,  224,  226,  228,  229,  230,  250,\n",
      "         272,  293,  301,  315,  328,  335,  349,  387,  392,  436,  439,  519,\n",
      "         520,  764,  802,  843,  847,  895,  897,  906,  927,  988, 1177, 1197,\n",
      "        1206, 1226, 1227, 1244, 1254, 1255, 1258, 1262, 1305, 1324, 1347, 1352,\n",
      "        1397, 1398,    0,    0,    0,    0,    0,    0,    0,    0,    0,    0,\n",
      "           0,    0,    0,    0,    0,    0,    0,    0,    0,    0,    0,    0,\n",
      "           0,    0,    0,    0,    0,    0,    0,    0,    0,    0,    0,    0,\n",
      "           0,    0,    0,    0,    0,    0,    0,    0,    0,    0,    0,    0,\n",
      "           0,    0,    0,    0,    0,    0,    0,    0,    0,    0,    0,    0,\n",
      "           0,    0,    0,    0,    0,    0,    0,    0,    0,    0,    0,    0,\n",
      "           0,    0])\n",
      "tensor([  88,  108,  447,  613,  629,  631,  634,  995, 1000, 1030, 1150, 1168,\n",
      "        1173, 1179, 1184, 1199, 1293, 1316, 1325, 1331, 1341, 1383, 1388, 1397,\n",
      "           0,    0,    0,    0,    0,    0,    0,    0,    0,    0,    0,    0,\n",
      "           0,    0,    0,    0,    0,    0,    0,    0,    0,    0,    0,    0,\n",
      "           0,    0,    0,    0,    0,    0,    0,    0,    0,    0,    0,    0,\n",
      "           0,    0,    0,    0,    0,    0,    0,    0,    0,    0,    0,    0,\n",
      "           0,    0,    0,    0,    0,    0,    0,    0,    0,    0,    0,    0,\n",
      "           0,    0,    0,    0,    0,    0,    0,    0,    0,    0,    0,    0,\n",
      "           0,    0,    0,    0,    0,    0,    0,    0,    0,    0,    0,    0,\n",
      "           0,    0,    0,    0,    0,    0,    0,    0,    0,    0,    0,    0,\n",
      "           0,    0])\n",
      "tensor([ 259,  301,  315,  974, 1102,    0,    0,    0,    0,    0,    0,    0,\n",
      "           0,    0,    0,    0,    0,    0,    0,    0,    0,    0,    0,    0,\n",
      "           0,    0,    0,    0,    0,    0,    0,    0,    0,    0,    0,    0,\n",
      "           0,    0,    0,    0,    0,    0,    0,    0,    0,    0,    0,    0,\n",
      "           0,    0,    0,    0,    0,    0,    0,    0,    0,    0,    0,    0,\n",
      "           0,    0,    0,    0,    0,    0,    0,    0,    0,    0,    0,    0,\n",
      "           0,    0,    0,    0,    0,    0,    0,    0,    0,    0,    0,    0,\n",
      "           0,    0,    0,    0,    0,    0,    0,    0,    0,    0,    0,    0,\n",
      "           0,    0,    0,    0,    0,    0,    0,    0,    0,    0,    0,    0,\n",
      "           0,    0,    0,    0,    0,    0,    0,    0,    0,    0,    0,    0,\n",
      "           0,    0])\n",
      "tensor([223, 241, 258,   0,   0,   0,   0,   0,   0,   0,   0,   0,   0,   0,\n",
      "          0,   0,   0,   0,   0,   0,   0,   0,   0,   0,   0,   0,   0,   0,\n",
      "          0,   0,   0,   0,   0,   0,   0,   0,   0,   0,   0,   0,   0,   0,\n",
      "          0,   0,   0,   0,   0,   0,   0,   0,   0,   0,   0,   0,   0,   0,\n",
      "          0,   0,   0,   0,   0,   0,   0,   0,   0,   0,   0,   0,   0,   0,\n",
      "          0,   0,   0,   0,   0,   0,   0,   0,   0,   0,   0,   0,   0,   0,\n",
      "          0,   0,   0,   0,   0,   0,   0,   0,   0,   0,   0,   0,   0,   0,\n",
      "          0,   0,   0,   0,   0,   0,   0,   0,   0,   0,   0,   0,   0,   0,\n",
      "          0,   0,   0,   0,   0,   0,   0,   0,   0,   0])\n",
      "tensor([  62,  124,  169,  272,  343,  377,  519,  522,  800, 1128, 1178, 1261,\n",
      "           0,    0,    0,    0,    0,    0,    0,    0,    0,    0,    0,    0,\n",
      "           0,    0,    0,    0,    0,    0,    0,    0,    0,    0,    0,    0,\n",
      "           0,    0,    0,    0,    0,    0,    0,    0,    0,    0,    0,    0,\n",
      "           0,    0,    0,    0,    0,    0,    0,    0,    0,    0,    0,    0,\n",
      "           0,    0,    0,    0,    0,    0,    0,    0,    0,    0,    0,    0,\n",
      "           0,    0,    0,    0,    0,    0,    0,    0,    0,    0,    0,    0,\n",
      "           0,    0,    0,    0,    0,    0,    0,    0,    0,    0,    0,    0,\n",
      "           0,    0,    0,    0,    0,    0,    0,    0,    0,    0,    0,    0,\n",
      "           0,    0,    0,    0,    0,    0,    0,    0,    0,    0,    0,    0,\n",
      "           0,    0])\n",
      "tensor([ 377,  857, 1293,    0,    0,    0,    0,    0,    0,    0,    0,    0,\n",
      "           0,    0,    0,    0,    0,    0,    0,    0,    0,    0,    0,    0,\n",
      "           0,    0,    0,    0,    0,    0,    0,    0,    0,    0,    0,    0,\n",
      "           0,    0,    0,    0,    0,    0,    0,    0,    0,    0,    0,    0,\n",
      "           0,    0,    0,    0,    0,    0,    0,    0,    0,    0,    0,    0,\n",
      "           0,    0,    0,    0,    0,    0,    0,    0,    0,    0,    0,    0,\n",
      "           0,    0,    0,    0,    0,    0,    0,    0,    0,    0,    0,    0,\n",
      "           0,    0,    0,    0,    0,    0,    0,    0,    0,    0,    0,    0,\n",
      "           0,    0,    0,    0,    0,    0,    0,    0,    0,    0,    0,    0,\n",
      "           0,    0,    0,    0,    0,    0,    0,    0,    0,    0,    0,    0,\n",
      "           0,    0])\n",
      "tensor([222, 226,   0,   0,   0,   0,   0,   0,   0,   0,   0,   0,   0,   0,\n",
      "          0,   0,   0,   0,   0,   0,   0,   0,   0,   0,   0,   0,   0,   0,\n",
      "          0,   0,   0,   0,   0,   0,   0,   0,   0,   0,   0,   0,   0,   0,\n",
      "          0,   0,   0,   0,   0,   0,   0,   0,   0,   0,   0,   0,   0,   0,\n",
      "          0,   0,   0,   0,   0,   0,   0,   0,   0,   0,   0,   0,   0,   0,\n",
      "          0,   0,   0,   0,   0,   0,   0,   0,   0,   0,   0,   0,   0,   0,\n",
      "          0,   0,   0,   0,   0,   0,   0,   0,   0,   0,   0,   0,   0,   0,\n",
      "          0,   0,   0,   0,   0,   0,   0,   0,   0,   0,   0,   0,   0,   0,\n",
      "          0,   0,   0,   0,   0,   0,   0,   0,   0,   0])\n",
      "tensor([ 126,  161,  220,  228,  764,  898, 1238, 1290,    0,    0,    0,    0,\n",
      "           0,    0,    0,    0,    0,    0,    0,    0,    0,    0,    0,    0,\n",
      "           0,    0,    0,    0,    0,    0,    0,    0,    0,    0,    0,    0,\n",
      "           0,    0,    0,    0,    0,    0,    0,    0,    0,    0,    0,    0,\n",
      "           0,    0,    0,    0,    0,    0,    0,    0,    0,    0,    0,    0,\n",
      "           0,    0,    0,    0,    0,    0,    0,    0,    0,    0,    0,    0,\n",
      "           0,    0,    0,    0,    0,    0,    0,    0,    0,    0,    0,    0,\n",
      "           0,    0,    0,    0,    0,    0,    0,    0,    0,    0,    0,    0,\n",
      "           0,    0,    0,    0,    0,    0,    0,    0,    0,    0,    0,    0,\n",
      "           0,    0,    0,    0,    0,    0,    0,    0,    0,    0,    0,    0,\n",
      "           0,    0])\n",
      "tensor([220, 222, 349,   0,   0,   0,   0,   0,   0,   0,   0,   0,   0,   0,\n",
      "          0,   0,   0,   0,   0,   0,   0,   0,   0,   0,   0,   0,   0,   0,\n",
      "          0,   0,   0,   0,   0,   0,   0,   0,   0,   0,   0,   0,   0,   0,\n",
      "          0,   0,   0,   0,   0,   0,   0,   0,   0,   0,   0,   0,   0,   0,\n",
      "          0,   0,   0,   0,   0,   0,   0,   0,   0,   0,   0,   0,   0,   0,\n",
      "          0,   0,   0,   0,   0,   0,   0,   0,   0,   0,   0,   0,   0,   0,\n",
      "          0,   0,   0,   0,   0,   0,   0,   0,   0,   0,   0,   0,   0,   0,\n",
      "          0,   0,   0,   0,   0,   0,   0,   0,   0,   0,   0,   0,   0,   0,\n",
      "          0,   0,   0,   0,   0,   0,   0,   0,   0,   0])\n",
      "tensor([  85,  221,  237,  265,  351,  834, 1229, 1231, 1293, 1337, 1418,    0,\n",
      "           0,    0,    0,    0,    0,    0,    0,    0,    0,    0,    0,    0,\n",
      "           0,    0,    0,    0,    0,    0,    0,    0,    0,    0,    0,    0,\n",
      "           0,    0,    0,    0,    0,    0,    0,    0,    0,    0,    0,    0,\n",
      "           0,    0,    0,    0,    0,    0,    0,    0,    0,    0,    0,    0,\n",
      "           0,    0,    0,    0,    0,    0,    0,    0,    0,    0,    0,    0,\n",
      "           0,    0,    0,    0,    0,    0,    0,    0,    0,    0,    0,    0,\n",
      "           0,    0,    0,    0,    0,    0,    0,    0,    0,    0,    0,    0,\n",
      "           0,    0,    0,    0,    0,    0,    0,    0,    0,    0,    0,    0,\n",
      "           0,    0,    0,    0,    0,    0,    0,    0,    0,    0,    0,    0,\n",
      "           0,    0])\n",
      "tensor([  40,  169,  226,  230,  234,  258,  259,  293,  328,  335,  571,  738,\n",
      "         803, 1218, 1227, 1261, 1402,    0,    0,    0,    0,    0,    0,    0,\n",
      "           0,    0,    0,    0,    0,    0,    0,    0,    0,    0,    0,    0,\n",
      "           0,    0,    0,    0,    0,    0,    0,    0,    0,    0,    0,    0,\n",
      "           0,    0,    0,    0,    0,    0,    0,    0,    0,    0,    0,    0,\n",
      "           0,    0,    0,    0,    0,    0,    0,    0,    0,    0,    0,    0,\n",
      "           0,    0,    0,    0,    0,    0,    0,    0,    0,    0,    0,    0,\n",
      "           0,    0,    0,    0,    0,    0,    0,    0,    0,    0,    0,    0,\n",
      "           0,    0,    0,    0,    0,    0,    0,    0,    0,    0,    0,    0,\n",
      "           0,    0,    0,    0,    0,    0,    0,    0,    0,    0,    0,    0,\n",
      "           0,    0])\n",
      "tensor([499,   0,   0,   0,   0,   0,   0,   0,   0,   0,   0,   0,   0,   0,\n",
      "          0,   0,   0,   0,   0,   0,   0,   0,   0,   0,   0,   0,   0,   0,\n",
      "          0,   0,   0,   0,   0,   0,   0,   0,   0,   0,   0,   0,   0,   0,\n",
      "          0,   0,   0,   0,   0,   0,   0,   0,   0,   0,   0,   0,   0,   0,\n",
      "          0,   0,   0,   0,   0,   0,   0,   0,   0,   0,   0,   0,   0,   0,\n",
      "          0,   0,   0,   0,   0,   0,   0,   0,   0,   0,   0,   0,   0,   0,\n",
      "          0,   0,   0,   0,   0,   0,   0,   0,   0,   0,   0,   0,   0,   0,\n",
      "          0,   0,   0,   0,   0,   0,   0,   0,   0,   0,   0,   0,   0,   0,\n",
      "          0,   0,   0,   0,   0,   0,   0,   0,   0,   0])\n",
      "tensor([198, 222, 223,   0,   0,   0,   0,   0,   0,   0,   0,   0,   0,   0,\n",
      "          0,   0,   0,   0,   0,   0,   0,   0,   0,   0,   0,   0,   0,   0,\n",
      "          0,   0,   0,   0,   0,   0,   0,   0,   0,   0,   0,   0,   0,   0,\n",
      "          0,   0,   0,   0,   0,   0,   0,   0,   0,   0,   0,   0,   0,   0,\n",
      "          0,   0,   0,   0,   0,   0,   0,   0,   0,   0,   0,   0,   0,   0,\n",
      "          0,   0,   0,   0,   0,   0,   0,   0,   0,   0,   0,   0,   0,   0,\n",
      "          0,   0,   0,   0,   0,   0,   0,   0,   0,   0,   0,   0,   0,   0,\n",
      "          0,   0,   0,   0,   0,   0,   0,   0,   0,   0,   0,   0,   0,   0,\n",
      "          0,   0,   0,   0,   0,   0,   0,   0,   0,   0])\n",
      "tensor([ 222,  226, 1289,    0,    0,    0,    0,    0,    0,    0,    0,    0,\n",
      "           0,    0,    0,    0,    0,    0,    0,    0,    0,    0,    0,    0,\n",
      "           0,    0,    0,    0,    0,    0,    0,    0,    0,    0,    0,    0,\n",
      "           0,    0,    0,    0,    0,    0,    0,    0,    0,    0,    0,    0,\n",
      "           0,    0,    0,    0,    0,    0,    0,    0,    0,    0,    0,    0,\n",
      "           0,    0,    0,    0,    0,    0,    0,    0,    0,    0,    0,    0,\n",
      "           0,    0,    0,    0,    0,    0,    0,    0,    0,    0,    0,    0,\n",
      "           0,    0,    0,    0,    0,    0,    0,    0,    0,    0,    0,    0,\n",
      "           0,    0,    0,    0,    0,    0,    0,    0,    0,    0,    0,    0,\n",
      "           0,    0,    0,    0,    0,    0,    0,    0,    0,    0,    0,    0,\n",
      "           0,    0])\n",
      "tensor([170, 519, 520, 631,   0,   0,   0,   0,   0,   0,   0,   0,   0,   0,\n",
      "          0,   0,   0,   0,   0,   0,   0,   0,   0,   0,   0,   0,   0,   0,\n",
      "          0,   0,   0,   0,   0,   0,   0,   0,   0,   0,   0,   0,   0,   0,\n",
      "          0,   0,   0,   0,   0,   0,   0,   0,   0,   0,   0,   0,   0,   0,\n",
      "          0,   0,   0,   0,   0,   0,   0,   0,   0,   0,   0,   0,   0,   0,\n",
      "          0,   0,   0,   0,   0,   0,   0,   0,   0,   0,   0,   0,   0,   0,\n",
      "          0,   0,   0,   0,   0,   0,   0,   0,   0,   0,   0,   0,   0,   0,\n",
      "          0,   0,   0,   0,   0,   0,   0,   0,   0,   0,   0,   0,   0,   0,\n",
      "          0,   0,   0,   0,   0,   0,   0,   0,   0,   0])\n",
      "tensor([ 350,  369, 1293,    0,    0,    0,    0,    0,    0,    0,    0,    0,\n",
      "           0,    0,    0,    0,    0,    0,    0,    0,    0,    0,    0,    0,\n",
      "           0,    0,    0,    0,    0,    0,    0,    0,    0,    0,    0,    0,\n",
      "           0,    0,    0,    0,    0,    0,    0,    0,    0,    0,    0,    0,\n",
      "           0,    0,    0,    0,    0,    0,    0,    0,    0,    0,    0,    0,\n",
      "           0,    0,    0,    0,    0,    0,    0,    0,    0,    0,    0,    0,\n",
      "           0,    0,    0,    0,    0,    0,    0,    0,    0,    0,    0,    0,\n",
      "           0,    0,    0,    0,    0,    0,    0,    0,    0,    0,    0,    0,\n",
      "           0,    0,    0,    0,    0,    0,    0,    0,    0,    0,    0,    0,\n",
      "           0,    0,    0,    0,    0,    0,    0,    0,    0,    0,    0,    0,\n",
      "           0,    0])\n",
      "tensor([170, 226,   0,   0,   0,   0,   0,   0,   0,   0,   0,   0,   0,   0,\n",
      "          0,   0,   0,   0,   0,   0,   0,   0,   0,   0,   0,   0,   0,   0,\n",
      "          0,   0,   0,   0,   0,   0,   0,   0,   0,   0,   0,   0,   0,   0,\n",
      "          0,   0,   0,   0,   0,   0,   0,   0,   0,   0,   0,   0,   0,   0,\n",
      "          0,   0,   0,   0,   0,   0,   0,   0,   0,   0,   0,   0,   0,   0,\n",
      "          0,   0,   0,   0,   0,   0,   0,   0,   0,   0,   0,   0,   0,   0,\n",
      "          0,   0,   0,   0,   0,   0,   0,   0,   0,   0,   0,   0,   0,   0,\n",
      "          0,   0,   0,   0,   0,   0,   0,   0,   0,   0,   0,   0,   0,   0,\n",
      "          0,   0,   0,   0,   0,   0,   0,   0,   0,   0])\n",
      "tensor([ 349,  746, 1227, 1258,    0,    0,    0,    0,    0,    0,    0,    0,\n",
      "           0,    0,    0,    0,    0,    0,    0,    0,    0,    0,    0,    0,\n",
      "           0,    0,    0,    0,    0,    0,    0,    0,    0,    0,    0,    0,\n",
      "           0,    0,    0,    0,    0,    0,    0,    0,    0,    0,    0,    0,\n",
      "           0,    0,    0,    0,    0,    0,    0,    0,    0,    0,    0,    0,\n",
      "           0,    0,    0,    0,    0,    0,    0,    0,    0,    0,    0,    0,\n",
      "           0,    0,    0,    0,    0,    0,    0,    0,    0,    0,    0,    0,\n",
      "           0,    0,    0,    0,    0,    0,    0,    0,    0,    0,    0,    0,\n",
      "           0,    0,    0,    0,    0,    0,    0,    0,    0,    0,    0,    0,\n",
      "           0,    0,    0,    0,    0,    0,    0,    0,    0,    0,    0,    0,\n",
      "           0,    0])\n",
      "tensor([  42,   68,  229,  238,  240,  258,  272,  301,  328,  335,  343,  369,\n",
      "         386,  439,  465,  519,  520,  814,  895, 1042, 1234, 1293, 1397, 1398,\n",
      "           0,    0,    0,    0,    0,    0,    0,    0,    0,    0,    0,    0,\n",
      "           0,    0,    0,    0,    0,    0,    0,    0,    0,    0,    0,    0,\n",
      "           0,    0,    0,    0,    0,    0,    0,    0,    0,    0,    0,    0,\n",
      "           0,    0,    0,    0,    0,    0,    0,    0,    0,    0,    0,    0,\n",
      "           0,    0,    0,    0,    0,    0,    0,    0,    0,    0,    0,    0,\n",
      "           0,    0,    0,    0,    0,    0,    0,    0,    0,    0,    0,    0,\n",
      "           0,    0,    0,    0,    0,    0,    0,    0,    0,    0,    0,    0,\n",
      "           0,    0,    0,    0,    0,    0,    0,    0,    0,    0,    0,    0,\n",
      "           0,    0])\n",
      "tensor([  91,  387, 1221, 1258, 1293,    0,    0,    0,    0,    0,    0,    0,\n",
      "           0,    0,    0,    0,    0,    0,    0,    0,    0,    0,    0,    0,\n",
      "           0,    0,    0,    0,    0,    0,    0,    0,    0,    0,    0,    0,\n",
      "           0,    0,    0,    0,    0,    0,    0,    0,    0,    0,    0,    0,\n",
      "           0,    0,    0,    0,    0,    0,    0,    0,    0,    0,    0,    0,\n",
      "           0,    0,    0,    0,    0,    0,    0,    0,    0,    0,    0,    0,\n",
      "           0,    0,    0,    0,    0,    0,    0,    0,    0,    0,    0,    0,\n",
      "           0,    0,    0,    0,    0,    0,    0,    0,    0,    0,    0,    0,\n",
      "           0,    0,    0,    0,    0,    0,    0,    0,    0,    0,    0,    0,\n",
      "           0,    0,    0,    0,    0,    0,    0,    0,    0,    0,    0,    0,\n",
      "           0,    0])\n",
      "tensor([   9,  115,  170,  226,  293,  341,  595,  697,  734, 1237, 1243, 1273,\n",
      "           0,    0,    0,    0,    0,    0,    0,    0,    0,    0,    0,    0,\n",
      "           0,    0,    0,    0,    0,    0,    0,    0,    0,    0,    0,    0,\n",
      "           0,    0,    0,    0,    0,    0,    0,    0,    0,    0,    0,    0,\n",
      "           0,    0,    0,    0,    0,    0,    0,    0,    0,    0,    0,    0,\n",
      "           0,    0,    0,    0,    0,    0,    0,    0,    0,    0,    0,    0,\n",
      "           0,    0,    0,    0,    0,    0,    0,    0,    0,    0,    0,    0,\n",
      "           0,    0,    0,    0,    0,    0,    0,    0,    0,    0,    0,    0,\n",
      "           0,    0,    0,    0,    0,    0,    0,    0,    0,    0,    0,    0,\n",
      "           0,    0,    0,    0,    0,    0,    0,    0,    0,    0,    0,    0,\n",
      "           0,    0])\n",
      "tensor([198, 377,   0,   0,   0,   0,   0,   0,   0,   0,   0,   0,   0,   0,\n",
      "          0,   0,   0,   0,   0,   0,   0,   0,   0,   0,   0,   0,   0,   0,\n",
      "          0,   0,   0,   0,   0,   0,   0,   0,   0,   0,   0,   0,   0,   0,\n",
      "          0,   0,   0,   0,   0,   0,   0,   0,   0,   0,   0,   0,   0,   0,\n",
      "          0,   0,   0,   0,   0,   0,   0,   0,   0,   0,   0,   0,   0,   0,\n",
      "          0,   0,   0,   0,   0,   0,   0,   0,   0,   0,   0,   0,   0,   0,\n",
      "          0,   0,   0,   0,   0,   0,   0,   0,   0,   0,   0,   0,   0,   0,\n",
      "          0,   0,   0,   0,   0,   0,   0,   0,   0,   0,   0,   0,   0,   0,\n",
      "          0,   0,   0,   0,   0,   0,   0,   0,   0,   0])\n",
      "tensor([ 115,  226,  341,  387, 1190, 1237, 1243, 1258,    0,    0,    0,    0,\n",
      "           0,    0,    0,    0,    0,    0,    0,    0,    0,    0,    0,    0,\n",
      "           0,    0,    0,    0,    0,    0,    0,    0,    0,    0,    0,    0,\n",
      "           0,    0,    0,    0,    0,    0,    0,    0,    0,    0,    0,    0,\n",
      "           0,    0,    0,    0,    0,    0,    0,    0,    0,    0,    0,    0,\n",
      "           0,    0,    0,    0,    0,    0,    0,    0,    0,    0,    0,    0,\n",
      "           0,    0,    0,    0,    0,    0,    0,    0,    0,    0,    0,    0,\n",
      "           0,    0,    0,    0,    0,    0,    0,    0,    0,    0,    0,    0,\n",
      "           0,    0,    0,    0,    0,    0,    0,    0,    0,    0,    0,    0,\n",
      "           0,    0,    0,    0,    0,    0,    0,    0,    0,    0,    0,    0,\n",
      "           0,    0])\n",
      "tensor([ 115,  222,  226,  272,  341,  519,  522, 1178, 1197, 1258, 1349,    0,\n",
      "           0,    0,    0,    0,    0,    0,    0,    0,    0,    0,    0,    0,\n",
      "           0,    0,    0,    0,    0,    0,    0,    0,    0,    0,    0,    0,\n",
      "           0,    0,    0,    0,    0,    0,    0,    0,    0,    0,    0,    0,\n",
      "           0,    0,    0,    0,    0,    0,    0,    0,    0,    0,    0,    0,\n",
      "           0,    0,    0,    0,    0,    0,    0,    0,    0,    0,    0,    0,\n",
      "           0,    0,    0,    0,    0,    0,    0,    0,    0,    0,    0,    0,\n",
      "           0,    0,    0,    0,    0,    0,    0,    0,    0,    0,    0,    0,\n",
      "           0,    0,    0,    0,    0,    0,    0,    0,    0,    0,    0,    0,\n",
      "           0,    0,    0,    0,    0,    0,    0,    0,    0,    0,    0,    0,\n",
      "           0,    0])\n",
      "tensor([ 278,  387,  585, 1250, 1293,    0,    0,    0,    0,    0,    0,    0,\n",
      "           0,    0,    0,    0,    0,    0,    0,    0,    0,    0,    0,    0,\n",
      "           0,    0,    0,    0,    0,    0,    0,    0,    0,    0,    0,    0,\n",
      "           0,    0,    0,    0,    0,    0,    0,    0,    0,    0,    0,    0,\n",
      "           0,    0,    0,    0,    0,    0,    0,    0,    0,    0,    0,    0,\n",
      "           0,    0,    0,    0,    0,    0,    0,    0,    0,    0,    0,    0,\n",
      "           0,    0,    0,    0,    0,    0,    0,    0,    0,    0,    0,    0,\n",
      "           0,    0,    0,    0,    0,    0,    0,    0,    0,    0,    0,    0,\n",
      "           0,    0,    0,    0,    0,    0,    0,    0,    0,    0,    0,    0,\n",
      "           0,    0,    0,    0,    0,    0,    0,    0,    0,    0,    0,    0,\n",
      "           0,    0])\n",
      "tensor([  13,   34,  190,  226,  259,  272,  346,  350,  447,  499,  631,  794,\n",
      "         883, 1172, 1239, 1246, 1258, 1279,    0,    0,    0,    0,    0,    0,\n",
      "           0,    0,    0,    0,    0,    0,    0,    0,    0,    0,    0,    0,\n",
      "           0,    0,    0,    0,    0,    0,    0,    0,    0,    0,    0,    0,\n",
      "           0,    0,    0,    0,    0,    0,    0,    0,    0,    0,    0,    0,\n",
      "           0,    0,    0,    0,    0,    0,    0,    0,    0,    0,    0,    0,\n",
      "           0,    0,    0,    0,    0,    0,    0,    0,    0,    0,    0,    0,\n",
      "           0,    0,    0,    0,    0,    0,    0,    0,    0,    0,    0,    0,\n",
      "           0,    0,    0,    0,    0,    0,    0,    0,    0,    0,    0,    0,\n",
      "           0,    0,    0,    0,    0,    0,    0,    0,    0,    0,    0,    0,\n",
      "           0,    0])\n",
      "tensor([ 101,  126,  139,  197,  224,  226,  499, 1030, 1197, 1214, 1218, 1224,\n",
      "        1262, 1270, 1293, 1305, 1320, 1336, 1347, 1402,    0,    0,    0,    0,\n",
      "           0,    0,    0,    0,    0,    0,    0,    0,    0,    0,    0,    0,\n",
      "           0,    0,    0,    0,    0,    0,    0,    0,    0,    0,    0,    0,\n",
      "           0,    0,    0,    0,    0,    0,    0,    0,    0,    0,    0,    0,\n",
      "           0,    0,    0,    0,    0,    0,    0,    0,    0,    0,    0,    0,\n",
      "           0,    0,    0,    0,    0,    0,    0,    0,    0,    0,    0,    0,\n",
      "           0,    0,    0,    0,    0,    0,    0,    0,    0,    0,    0,    0,\n",
      "           0,    0,    0,    0,    0,    0,    0,    0,    0,    0,    0,    0,\n",
      "           0,    0,    0,    0,    0,    0,    0,    0,    0,    0,    0,    0,\n",
      "           0,    0])\n",
      "tensor([ 499, 1218,    0,    0,    0,    0,    0,    0,    0,    0,    0,    0,\n",
      "           0,    0,    0,    0,    0,    0,    0,    0,    0,    0,    0,    0,\n",
      "           0,    0,    0,    0,    0,    0,    0,    0,    0,    0,    0,    0,\n",
      "           0,    0,    0,    0,    0,    0,    0,    0,    0,    0,    0,    0,\n",
      "           0,    0,    0,    0,    0,    0,    0,    0,    0,    0,    0,    0,\n",
      "           0,    0,    0,    0,    0,    0,    0,    0,    0,    0,    0,    0,\n",
      "           0,    0,    0,    0,    0,    0,    0,    0,    0,    0,    0,    0,\n",
      "           0,    0,    0,    0,    0,    0,    0,    0,    0,    0,    0,    0,\n",
      "           0,    0,    0,    0,    0,    0,    0,    0,    0,    0,    0,    0,\n",
      "           0,    0,    0,    0,    0,    0,    0,    0,    0,    0,    0,    0,\n",
      "           0,    0])\n",
      "tensor([ 226, 1184, 1227,    0,    0,    0,    0,    0,    0,    0,    0,    0,\n",
      "           0,    0,    0,    0,    0,    0,    0,    0,    0,    0,    0,    0,\n",
      "           0,    0,    0,    0,    0,    0,    0,    0,    0,    0,    0,    0,\n",
      "           0,    0,    0,    0,    0,    0,    0,    0,    0,    0,    0,    0,\n",
      "           0,    0,    0,    0,    0,    0,    0,    0,    0,    0,    0,    0,\n",
      "           0,    0,    0,    0,    0,    0,    0,    0,    0,    0,    0,    0,\n",
      "           0,    0,    0,    0,    0,    0,    0,    0,    0,    0,    0,    0,\n",
      "           0,    0,    0,    0,    0,    0,    0,    0,    0,    0,    0,    0,\n",
      "           0,    0,    0,    0,    0,    0,    0,    0,    0,    0,    0,    0,\n",
      "           0,    0,    0,    0,    0,    0,    0,    0,    0,    0,    0,    0,\n",
      "           0,    0])\n",
      "tensor([   0,   63,   72,   75,  115,  124,  220,  224,  225,  226,  259,  341,\n",
      "         348,  349,  377,  499,  634,  802,  887,  916,  953, 1197, 1218, 1227,\n",
      "        1243, 1244, 1255, 1258, 1294, 1323, 1328, 1376, 1393, 1408,    0,    0,\n",
      "           0,    0,    0,    0,    0,    0,    0,    0,    0,    0,    0,    0,\n",
      "           0,    0,    0,    0,    0,    0,    0,    0,    0,    0,    0,    0,\n",
      "           0,    0,    0,    0,    0,    0,    0,    0,    0,    0,    0,    0,\n",
      "           0,    0,    0,    0,    0,    0,    0,    0,    0,    0,    0,    0,\n",
      "           0,    0,    0,    0,    0,    0,    0,    0,    0,    0,    0,    0,\n",
      "           0,    0,    0,    0,    0,    0,    0,    0,    0,    0,    0,    0,\n",
      "           0,    0,    0,    0,    0,    0,    0,    0,    0,    0,    0,    0,\n",
      "           0,    0])\n"
     ]
    },
    {
     "name": "stderr",
     "output_type": "stream",
     "text": [
      "Conversion of an array with ndim > 0 to a scalar is deprecated, and will error in future. Ensure you extract a single element from your array before performing this operation. (Deprecated NumPy 1.25.)\n"
     ]
    },
    {
     "ename": "RuntimeError",
     "evalue": "shape '[0, 0]' is invalid for input of size 1089",
     "output_type": "error",
     "traceback": [
      "\u001b[0;31m---------------------------------------------------------------------------\u001b[0m",
      "\u001b[0;31mRuntimeError\u001b[0m                              Traceback (most recent call last)",
      "Cell \u001b[0;32mIn[128], line 27\u001b[0m\n\u001b[1;32m     24\u001b[0m sentence \u001b[38;5;241m=\u001b[39m sentence[:n_real]\n\u001b[1;32m     25\u001b[0m frequencies[sentence] \u001b[38;5;241m+\u001b[39m\u001b[38;5;241m=\u001b[39m\u001b[38;5;241m1\u001b[39m\n\u001b[0;32m---> 27\u001b[0m A_masked \u001b[38;5;241m=\u001b[39m \u001b[43mH\u001b[49m\u001b[43m[\u001b[49m\u001b[43mmask\u001b[49m\u001b[43m]\u001b[49m\u001b[38;5;241;43m.\u001b[39;49m\u001b[43mview\u001b[49m\u001b[43m(\u001b[49m\u001b[43mn_real\u001b[49m\u001b[43m,\u001b[49m\u001b[43m \u001b[49m\u001b[43mn_real\u001b[49m\u001b[43m)\u001b[49m\u001b[38;5;241m.\u001b[39mdetach()\u001b[38;5;241m.\u001b[39mnumpy()\n\u001b[1;32m     28\u001b[0m frequencies[sentence] \u001b[38;5;241m+\u001b[39m\u001b[38;5;241m=\u001b[39m\u001b[38;5;241m1\u001b[39m\n\u001b[1;32m     30\u001b[0m vec \u001b[38;5;241m=\u001b[39m A_masked\u001b[38;5;241m.\u001b[39msum(axis\u001b[38;5;241m=\u001b[39m\u001b[38;5;241m1\u001b[39m) \u001b[38;5;241m/\u001b[39m \u001b[38;5;28mlen\u001b[39m(sentence)\n",
      "\u001b[0;31mRuntimeError\u001b[0m: shape '[0, 0]' is invalid for input of size 1089"
     ]
    }
   ],
   "source": [
    "## definition of the attention score:\n",
    "nb_distinct_diseases_tot = patient_list.get_nb_distinct_diseases_tot()\n",
    "res = np.zeros(nb_distinct_diseases_tot)\n",
    "frequencies = np.zeros(nb_distinct_diseases_tot)\n",
    "for batch_sentence, batch_counts, batch_labels in dataloader_train:\n",
    "    logits, probas, x_out, loss= model.forward_decomposed(batch_sentence, batch_counts, batch_labels)\n",
    "    loss.backward()\n",
    "\n",
    "    for indice_layer in range(train_model.n_layer):\n",
    "        for indice_head in range(train_model.n_head):\n",
    "            for indice_sentence in range(len(batch_sentence)):\n",
    "                sentence = batch_sentence[indice_sentence]\n",
    "\n",
    "                if len(sentence) != 0:\n",
    "\n",
    "                    print(sentence)\n",
    "        \n",
    "                    A = model.blocks[indice_layer].sa.attention_probas[indice_sentence][indice_head]  \n",
    "                    G = model.blocks[indice_layer].sa.attention_probas.grad[indice_sentence][indice_head]            \n",
    "                    H = A * nn.ReLU()(G) \n",
    "\n",
    "                    mask = model.padding_mask[indice_sentence].to(bool)\n",
    "                    n_real = torch.sum(mask[0])\n",
    "                    sentence = sentence[:n_real]\n",
    "                    frequencies[sentence] +=1\n",
    "\n",
    "                    A_masked = H[mask].view(n_real, n_real).detach().numpy()\n",
    "                    frequencies[sentence] +=1\n",
    "\n",
    "                    vec = A_masked.sum(axis=1) / len(sentence)\n",
    "                    res[sentence] = res[sentence]+ vec\n",
    "\n",
    "\n",
    "res = res / train_model.n_layer / train_model.n_head\n",
    "\n",
    "\n",
    " "
   ]
  },
  {
   "cell_type": "code",
   "execution_count": 127,
   "metadata": {},
   "outputs": [
    {
     "data": {
      "text/plain": [
       "0"
      ]
     },
     "execution_count": 127,
     "metadata": {},
     "output_type": "execute_result"
    }
   ],
   "source": [
    "len(sentence)"
   ]
  },
  {
   "cell_type": "code",
   "execution_count": 109,
   "metadata": {},
   "outputs": [
    {
     "data": {
      "text/plain": [
       "[<matplotlib.lines.Line2D at 0x7f4ba102ebd0>]"
      ]
     },
     "execution_count": 109,
     "metadata": {},
     "output_type": "execute_result"
    },
    {
     "data": {
      "image/png": "[encoded data removed]",
      "text/plain": [
       "<Figure size 640x480 with 1 Axes>"
      ]
     },
     "metadata": {},
     "output_type": "display_data"
    }
   ],
   "source": [
    "plt.plot(res, 'o')"
   ]
  },
  {
   "cell_type": "code",
   "execution_count": 95,
   "metadata": {},
   "outputs": [
    {
     "data": {
      "text/plain": [
       "tensor([[ True, False, False, False, False],\n",
       "        [False,  True, False, False, False],\n",
       "        [False, False,  True, False, False],\n",
       "        [False, False, False,  True, False],\n",
       "        [False, False, False, False,  True]])"
      ]
     },
     "execution_count": 95,
     "metadata": {},
     "output_type": "execute_result"
    }
   ],
   "source": [
    "mask_mat[sentence][:,sentence]"
   ]
  },
  {
   "cell_type": "code",
   "execution_count": 87,
   "metadata": {},
   "outputs": [
    {
     "ename": "ValueError",
     "evalue": "expected sequence of length 3 at dim 1 (got 1)",
     "output_type": "error",
     "traceback": [
      "\u001b[0;31m---------------------------------------------------------------------------\u001b[0m",
      "\u001b[0;31mValueError\u001b[0m                                Traceback (most recent call last)",
      "Cell \u001b[0;32mIn[87], line 1\u001b[0m\n\u001b[0;32m----> 1\u001b[0m \u001b[43mtorch\u001b[49m\u001b[38;5;241;43m.\u001b[39;49m\u001b[43mtensor\u001b[49m\u001b[43m(\u001b[49m\u001b[43mnp\u001b[49m\u001b[38;5;241;43m.\u001b[39;49m\u001b[43mix_\u001b[49m\u001b[43m(\u001b[49m\u001b[43msentence\u001b[49m\u001b[43m,\u001b[49m\u001b[43m \u001b[49m\u001b[43msentence\u001b[49m\u001b[43m)\u001b[49m\u001b[43m)\u001b[49m\n",
      "\u001b[0;31mValueError\u001b[0m: expected sequence of length 3 at dim 1 (got 1)"
     ]
    }
   ],
   "source": [
    "torch.tensor(sentence, sente)"
   ]
  },
  {
   "cell_type": "code",
   "execution_count": 223,
   "metadata": {},
   "outputs": [],
   "source": [
    "# Access gradients\n",
    "for name, param in model.named_parameters():\n",
    "    if param.grad is not None:\n",
    "        print(f\"Gradient of {name}: {param.grad}\")"
   ]
  },
  {
   "cell_type": "code",
   "execution_count": null,
   "metadata": {},
   "outputs": [],
   "source": []
  },
  {
   "cell_type": "code",
   "execution_count": 77,
   "metadata": {},
   "outputs": [],
   "source": [
    "get_name(dataT, indices_att_score, decal=False)"
   ]
  },
  {
   "cell_type": "code",
   "execution_count": null,
   "metadata": {},
   "outputs": [],
   "source": [
    "attention_score_freq = attention_score_diseases / frequencies\n",
    "attention_score_freq[np.isnan(attention_score_freq)] = 0"
   ]
  },
  {
   "cell_type": "code",
   "execution_count": null,
   "metadata": {},
   "outputs": [],
   "source": [
    "attention_score_freq"
   ]
  },
  {
   "cell_type": "code",
   "execution_count": null,
   "metadata": {},
   "outputs": [],
   "source": [
    "np.argmax(attention_score_freq)"
   ]
  },
  {
   "cell_type": "code",
   "execution_count": null,
   "metadata": {},
   "outputs": [],
   "source": [
    "plt.plot(attention_score_freq, 'o')"
   ]
  },
  {
   "cell_type": "code",
   "execution_count": null,
   "metadata": {},
   "outputs": [],
   "source": [
    "attention_score_diseases[0]"
   ]
  },
  {
   "cell_type": "code",
   "execution_count": null,
   "metadata": {},
   "outputs": [],
   "source": [
    "probas_weights = probas[:, :n_real]"
   ]
  },
  {
   "cell_type": "code",
   "execution_count": null,
   "metadata": {},
   "outputs": [],
   "source": [
    "probas_weights[12].sum()"
   ]
  },
  {
   "cell_type": "code",
   "execution_count": null,
   "metadata": {},
   "outputs": [],
   "source": [
    "sns.set(style=\"whitegrid\")\n",
    "plt.figure(figsize=(20, 16))\n",
    "sns.heatmap(probas_weights.detach().cpu(), cmap=\"YlGnBu\", annot=False, fmt=\".2f\", cbar=True)\n",
    "\n",
    "# Ajoutez des étiquettes pour les axes\n",
    "plt.xlabel(\"Token\")\n",
    "plt.ylabel(\"Token\")\n",
    "plt.title(\"Self-Attention Matrix\")\n",
    "\n",
    "# Affichez le plot\n",
    "plt.show()"
   ]
  },
  {
   "cell_type": "code",
   "execution_count": null,
   "metadata": {},
   "outputs": [],
   "source": [
    "logits, probas, x_out = model.forward_decomposed(diseases_batch, counts_batch)\n"
   ]
  },
  {
   "cell_type": "code",
   "execution_count": null,
   "metadata": {},
   "outputs": [],
   "source": [
    "attention_probas = model.list_attention_layers[1][1][0]"
   ]
  },
  {
   "cell_type": "code",
   "execution_count": null,
   "metadata": {},
   "outputs": [],
   "source": [
    "attention_probas.sum()"
   ]
  },
  {
   "cell_type": "code",
   "execution_count": null,
   "metadata": {},
   "outputs": [],
   "source": [
    "\n",
    "model.list_attention_layers"
   ]
  },
  {
   "cell_type": "code",
   "execution_count": null,
   "metadata": {},
   "outputs": [],
   "source": [
    "train_model.dataT.indices_test, train_model.dataT.indices_train"
   ]
  },
  {
   "cell_type": "code",
   "execution_count": null,
   "metadata": {},
   "outputs": [],
   "source": [
    "len(train_model.dataT.indices_test) + len( train_model.dataT.indices_train)"
   ]
  },
  {
   "cell_type": "code",
   "execution_count": null,
   "metadata": {},
   "outputs": [],
   "source": [
    "f1, accuracy, auc_score, loss, proba_avg_zero, proba_avg_one, predicted_probas_list, true_labels_list = model.evaluate(dataloader_train)"
   ]
  },
  {
   "cell_type": "code",
   "execution_count": null,
   "metadata": {},
   "outputs": [],
   "source": [
    "predicted_probs_ones = np.array(predicted_probas_list)[:, 1]\n",
    "true_labels = np.array(true_labels_list)"
   ]
  },
  {
   "cell_type": "code",
   "execution_count": null,
   "metadata": {},
   "outputs": [],
   "source": [
    "len(predicted_probs_ones)/20"
   ]
  },
  {
   "cell_type": "code",
   "execution_count": null,
   "metadata": {},
   "outputs": [],
   "source": [
    "plt.hist(predicted_probs_ones, bins=100)"
   ]
  },
  {
   "cell_type": "code",
   "execution_count": null,
   "metadata": {},
   "outputs": [],
   "source": [
    "prob_true, prob_pred = calibration_curve(true_labels_list, predicted_probs_ones, n_bins=80)\n",
    "auc = calculate_roc_auc(true_labels_list, predicted_probs_ones)\n",
    "# Tracer le graphique de calibration\n",
    "plt.plot(prob_pred, prob_true, marker='o', linestyle='--', label='Calibration Plot')\n",
    "plt.plot([0, 1], [0, 1], linestyle='--', color='gray', label='Perfectly Calibrated')\n",
    "plt.xlabel('Mean Predicted Probability')\n",
    "plt.ylabel('Fraction of Positives')\n",
    "plt.title('Calibration Plot')\n",
    "plt.legend()"
   ]
  },
  {
   "cell_type": "code",
   "execution_count": null,
   "metadata": {},
   "outputs": [],
   "source": [
    "hist, edges = np.histogram(predicted_probs_ones, bins=5)\n"
   ]
  },
  {
   "cell_type": "code",
   "execution_count": null,
   "metadata": {},
   "outputs": [],
   "source": [
    "edges"
   ]
  },
  {
   "cell_type": "code",
   "execution_count": null,
   "metadata": {},
   "outputs": [],
   "source": [
    "list_auc = []\n",
    "for i in range(len(edges[:-1])):\n",
    "    indices_bin = np.intersect1d(np.where(predicted_probs_ones>=edges[i]) , np.where(predicted_probs_ones<edges[i+1]) )\n",
    "    bin_probas = predicted_probs_ones[indices_bin]\n",
    "    bin_labels = true_labels[indices_bin]\n",
    "    bin_auc = calculate_roc_auc(bin_labels, bin_probas)\n",
    "    list_auc.append(bin_auc)\n"
   ]
  },
  {
   "cell_type": "code",
   "execution_count": null,
   "metadata": {},
   "outputs": [],
   "source": [
    "accuracy"
   ]
  },
  {
   "cell_type": "code",
   "execution_count": null,
   "metadata": {},
   "outputs": [],
   "source": [
    "list_auc"
   ]
  },
  {
   "cell_type": "code",
   "execution_count": null,
   "metadata": {},
   "outputs": [],
   "source": [
    "i=0\n",
    "indices_bin = np.intersect1d(np.where(predicted_probs_ones>=edges[i]) , np.where(predicted_probs_ones<edges[i+1]) )\n",
    "bin_probas = predicted_probs_ones[indices_bin]\n",
    "bin_labels = true_labels[indices_bin]\n",
    "bin_auc = calculate_roc_auc(bin_labels, bin_probas)\n",
    "list_auc.append(bin_auc)\n"
   ]
  },
  {
   "cell_type": "code",
   "execution_count": null,
   "metadata": {},
   "outputs": [],
   "source": [
    "edges"
   ]
  },
  {
   "cell_type": "code",
   "execution_count": null,
   "metadata": {},
   "outputs": [],
   "source": [
    "predicted_labels = (bin_probas>0.5).astype(int)"
   ]
  },
  {
   "cell_type": "code",
   "execution_count": null,
   "metadata": {},
   "outputs": [],
   "source": [
    "bin_probas"
   ]
  },
  {
   "cell_type": "code",
   "execution_count": null,
   "metadata": {},
   "outputs": [],
   "source": [
    "predicted_labels, bin_labels"
   ]
  },
  {
   "cell_type": "code",
   "execution_count": null,
   "metadata": {},
   "outputs": [],
   "source": [
    "list_auc"
   ]
  },
  {
   "cell_type": "code",
   "execution_count": null,
   "metadata": {},
   "outputs": [],
   "source": [
    "\n",
    "res = np.zeros(patient_list.get_nb_distinct_diseases_tot())\n",
    "counts_ok = 0\n",
    "counts = np.zeros(patient_list.get_nb_distinct_diseases_tot())\n",
    "for k, patient in enumerate(patient_list):\n",
    "    if k in train_model.dataT.indices_test:\n",
    "        diseases_sentence = torch.tensor(patient.diseases_sentence).view(1, nb_max_distinct_disease)\n",
    "        counts_sentence = torch.tensor(patient.counts_sentence).view(1, nb_max_distinct_disease)\n",
    "        label_pred_patient = model.predict(diseases_sentence, counts_sentence)\n",
    "        if label_pred_patient[0]==patient.SNP_label:\n",
    "            counts_ok += 1\n",
    "            res[patient.diseases_sentence] = res[patient.diseases_sentence] + 1\n",
    "        counts[patient.diseases_sentence] = counts[patient.diseases_sentence] + 1"
   ]
  },
  {
   "cell_type": "code",
   "execution_count": null,
   "metadata": {},
   "outputs": [],
   "source": [
    "logits, probas, attention_probas, attention_weights = model.forward_decomposed(diseases_sentence, counts_sentence)"
   ]
  },
  {
   "cell_type": "code",
   "execution_count": null,
   "metadata": {},
   "outputs": [],
   "source": [
    "plt.plot(probas)"
   ]
  },
  {
   "cell_type": "code",
   "execution_count": null,
   "metadata": {},
   "outputs": [],
   "source": [
    "def get_risk_pheno(data, labels, pheno_nb):\n",
    "    labels_ac = labels[data[:,pheno_nb]==1]\n",
    "    labels_deac = labels[data[:,pheno_nb]==0]\n",
    "    proba_mut_ac = np.sum(labels_ac==1)/len(labels_ac)\n",
    "    proba_mut_deac = np.sum(labels_deac==1)/len(labels_deac)\n",
    "    ratio  = proba_mut_ac / proba_mut_deac\n",
    "    return ratio\n",
    "def get_pred_naive(data, labels, pheno_nb):\n",
    "    labels_ac = labels[data[:,pheno_nb]==1]\n",
    "    nb_ones_ac = np.sum(labels_ac==1)\n",
    "    nb_zeros_ac = np.sum(labels_ac==0)\n",
    "    return (1 if nb_ones_ac > nb_zeros_ac else 0)\n",
    "get_risk_pheno = partial(get_risk_pheno, data, labels)\n",
    "get_pred_naive = partial(get_pred_naive, data, labels)"
   ]
  },
  {
   "cell_type": "code",
   "execution_count": null,
   "metadata": {},
   "outputs": [],
   "source": [
    "data"
   ]
  },
  {
   "cell_type": "code",
   "execution_count": null,
   "metadata": {},
   "outputs": [],
   "source": [
    "odds_ratios = list(map(get_risk_pheno, phenos))\n",
    "labels_pred_naive = list(map(get_pred_naive, phenos))"
   ]
  },
  {
   "cell_type": "code",
   "execution_count": null,
   "metadata": {},
   "outputs": [],
   "source": [
    "preds = (np.array(probas) < 0.5).astype(int)"
   ]
  },
  {
   "cell_type": "code",
   "execution_count": null,
   "metadata": {},
   "outputs": [],
   "source": [
    "1 - np.sum((preds-labels_pred_naive)**2)/1717"
   ]
  },
  {
   "cell_type": "code",
   "execution_count": null,
   "metadata": {},
   "outputs": [],
   "source": [
    "data.shape"
   ]
  },
  {
   "cell_type": "code",
   "execution_count": null,
   "metadata": {},
   "outputs": [],
   "source": [
    "len(patient_list)"
   ]
  },
  {
   "cell_type": "code",
   "execution_count": null,
   "metadata": {},
   "outputs": [],
   "source": [
    "######### correlations with number zeros"
   ]
  },
  {
   "cell_type": "code",
   "execution_count": null,
   "metadata": {},
   "outputs": [],
   "source": [
    "labels_res = []\n",
    "nb_zeros_res = []\n",
    "for patient in patient_list:\n",
    "    diseases_sentence = torch.tensor(patient.diseases_sentence).view(1, nb_max_distinct_disease)\n",
    "    counts_sentence = torch.tensor(patient.counts_sentence).view(1, nb_max_distinct_disease)\n",
    "    label_pred_patient = model.predict(diseases_sentence, counts_sentence)\n",
    "    nb_zeros = torch.sum(diseases_sentence==0)\n",
    "    labels_res.append(label_pred_patient[0].item())\n",
    "    nb_zeros_res.append(nb_zeros.item())\n"
   ]
  },
  {
   "cell_type": "code",
   "execution_count": null,
   "metadata": {},
   "outputs": [],
   "source": [
    "nb_zeros_res = np.array(nb_zeros_res)\n",
    "labels_res = np.array(labels_res)"
   ]
  },
  {
   "cell_type": "code",
   "execution_count": null,
   "metadata": {},
   "outputs": [],
   "source": [
    "nb_zeros_res, labels_res"
   ]
  },
  {
   "cell_type": "code",
   "execution_count": null,
   "metadata": {},
   "outputs": [],
   "source": [
    "zeros = np.unique(nb_zeros_res)\n",
    "labels = [np.mean(labels_res[nb_zeros_res == nb_zero]) for nb_zero in zeros ]"
   ]
  },
  {
   "cell_type": "code",
   "execution_count": null,
   "metadata": {},
   "outputs": [],
   "source": [
    "plt.plot(zeros, labels, 'o')"
   ]
  },
  {
   "cell_type": "code",
   "execution_count": null,
   "metadata": {},
   "outputs": [],
   "source": [
    "################## Calibration plot ################\n",
    "for patient in patient_list:\n",
    "    "
   ]
  },
  {
   "cell_type": "code",
   "execution_count": null,
   "metadata": {},
   "outputs": [],
   "source": [
    "count=0\n",
    "for patient in patient_list:\n",
    "    if patient.diseases_sentence[0]==0:\n",
    "        count +=1"
   ]
  },
  {
   "cell_type": "code",
   "execution_count": null,
   "metadata": {},
   "outputs": [],
   "source": [
    "file ='/gpfs/commons/groups/gursoy_lab/mstoll/codes/Data_Files/Pheno/Paul/ukbb_omop_rolled_up_depth_4_closest_ancestor.csv'\n",
    "df_paul = pd.read_csv(file)"
   ]
  },
  {
   "cell_type": "code",
   "execution_count": null,
   "metadata": {},
   "outputs": [],
   "source": [
    "eid_list = df_paul.eid\n",
    "eid = eid_list[0]"
   ]
  },
  {
   "cell_type": "code",
   "execution_count": null,
   "metadata": {},
   "outputs": [],
   "source": [
    "grouped = df_paul.groupby('eid')"
   ]
  },
  {
   "cell_type": "code",
   "execution_count": null,
   "metadata": {},
   "outputs": [],
   "source": [
    "df = grouped.get_group(eid)"
   ]
  },
  {
   "cell_type": "code",
   "execution_count": null,
   "metadata": {},
   "outputs": [],
   "source": [
    "unique_codes = list(df['concept_id'].values)\n",
    "occurrences = list(df['condition_occurrence_count'].values)\n",
    "\n",
    "disease_sentence = [code for code in unique_codes]\n",
    "counts_sentence = [count for count in occurrences]"
   ]
  },
  {
   "cell_type": "code",
   "execution_count": null,
   "metadata": {},
   "outputs": [],
   "source": [
    "unique_codes"
   ]
  },
  {
   "cell_type": "code",
   "execution_count": null,
   "metadata": {},
   "outputs": [],
   "source": []
  }
 ],
 "metadata": {
  "kernelspec": {
   "display_name": "phewas",
   "language": "python",
   "name": "python3"
  },
  "language_info": {
   "codemirror_mode": {
    "name": "ipython",
    "version": 3
   },
   "file_extension": ".py",
   "mimetype": "text/x-python",
   "name": "python",
   "nbconvert_exporter": "python",
   "pygments_lexer": "ipython3",
   "version": "3.11.6"
  }
 },
 "nbformat": 4,
 "nbformat_minor": 2
}
