{
 "cells": [
  {
   "cell_type": "code",
   "execution_count": 9,
   "metadata": {},
   "outputs": [],
   "source": [
    "import sys\n",
    "path = '/gpfs/commons/groups/gursoy_lab/mstoll/'\n",
    "sys.path.append(path)\n",
    "\n",
    "import numpy as np\n",
    "import pandas as pd\n",
    "import torch.nn as nn\n",
    "import torch\n",
    "import pickle\n",
    "import time\n",
    "import os\n",
    "import shutil\n",
    "import shap\n",
    "import seaborn as sns\n",
    "from torch.utils.data import DataLoader\n",
    "from torch.nn import functional as F\n",
    "from tqdm.auto import tqdm\n",
    "from torch.optim.lr_scheduler import LambdaLR, LinearLR, SequentialLR\n",
    "from functools import partial\n",
    "from sklearn.metrics import f1_score, accuracy_score\n",
    "from sklearn.calibration import calibration_curve\n",
    "\n",
    "\n",
    "from codes.models.metrics import calculate_roc_auc\n",
    "from codes.models.data_form.DataForm import DataTransfo_1SNP, PatientList, Patient\n",
    "from codes.models.Transformers.dic_model_versions import DIC_MODEL_VERSIONS\n",
    "from codes.tests.TestsClass import TestSet, TrainTransformerModel, TrainModel\n",
    "import matplotlib.pyplot as plt\n",
    "from codes.models.Decision_tree.utils import get_name, get_indice\n",
    "\n"
   ]
  },
  {
   "cell_type": "code",
   "execution_count": 10,
   "metadata": {},
   "outputs": [],
   "source": [
    "model_type = 'Generative_Transformer'\n",
    "model_version = 'V1'\n",
    "test_name = 'tests_generative_phenos_2'\n",
    "CHR = 1\n",
    "SNP = 'rs673604'\n",
    "pheno_method = 'Paul' # Paul, Abby\n",
    "rollup_depth = 4"
   ]
  },
  {
   "cell_type": "code",
   "execution_count": 15,
   "metadata": {},
   "outputs": [
    {
     "name": "stdout",
     "output_type": "stream",
     "text": [
      "/gpfs/commons/datasets/controlled/ukbb-gursoylab/mstoll/logs/runs/SNPS/1/rs673604/Generative_Transformer/V1/Paul/tests_generative_phenos_2/\n"
     ]
    }
   ],
   "source": [
    "CHR = 1\n",
    "SNP = 'rs673604'\n",
    "\n",
    "path = f'/gpfs/commons/datasets/controlled/ukbb-gursoylab/mstoll/'\n",
    "#check test name\n",
    "model_dir = path + f'logs/runs/SNPS/{str(CHR)}/{SNP}/{model_type}/{model_version}/{pheno_method}'\n",
    "model_plot_dir = path + f'logs/plots/tests/SNP/{str(CHR)}/{SNP}/{model_type}/{model_version}/{pheno_method}/'\n",
    "\n",
    "os.makedirs(model_dir, exist_ok=True)\n",
    "os.makedirs(model_plot_dir, exist_ok=True)\n",
    "#check number tests\n",
    "test_dir = f'{model_dir}/{test_name}/'\n",
    "print(test_dir)\n",
    "log_data_dir = f'{test_dir}/data/'\n",
    "log_tensorboard_dir = f'{test_dir}/tensorboard/'\n",
    "log_slurm_outputs_dir = f'{test_dir}/Slurm/Outputs/'\n",
    "log_slurm_errors_dir = f'{test_dir}/Slurm/Errors/'\n",
    "os.makedirs(log_data_dir, exist_ok=True)\n",
    "os.makedirs(log_tensorboard_dir, exist_ok=True)\n",
    "os.makedirs(log_slurm_outputs_dir, exist_ok=True)\n",
    "os.makedirs(log_slurm_errors_dir, exist_ok=True)\n",
    "\n",
    "\n",
    "log_data_path_pickle = f'{test_dir}/data/{test_name}.pkl'\n",
    "log_tensorboard_path = f'{test_dir}/tensorboard/{test_name}'\n",
    "log_slurm_outputs_path = f'{test_dir}/Slurm/Outputs/{test_name}.txt'\n",
    "log_slurm_error_path = f'{test_dir}/Slurm/Errors/{test_name}.txt'\n",
    "model_plot_path = path + f'logs/plots/tests/SNP/{str(CHR)}/{SNP}/{model_type}/{model_version}/{pheno_method}/{test_name}.png'\n"
   ]
  },
  {
   "cell_type": "code",
   "execution_count": 16,
   "metadata": {},
   "outputs": [],
   "source": [
    "with open(log_data_path_pickle, 'rb') as file:\n",
    "    model = pickle.load(file)"
   ]
  },
  {
   "cell_type": "code",
   "execution_count": 17,
   "metadata": {},
   "outputs": [
    {
     "data": {
      "text/plain": [
       "PhenotypeEncodingAlone(\n",
       "  (projection_embed): Linear(in_features=10, out_features=10, bias=True)\n",
       "  (blocks): PadMaskSequential(\n",
       "    (0): BlockPheno(\n",
       "      (sa): MultiHeadSelfAttention(\n",
       "        (qkv_network): Linear(in_features=10, out_features=12, bias=False)\n",
       "        (proj): Linear(in_features=4, out_features=10, bias=True)\n",
       "        (attention_dropout): Dropout(p=0.1, inplace=False)\n",
       "        (resid_dropout): Dropout(p=0.1, inplace=False)\n",
       "      )\n",
       "      (ffwd): FeedForward(\n",
       "        (net): Sequential(\n",
       "          (0): Linear(in_features=10, out_features=40, bias=True)\n",
       "          (1): ReLU()\n",
       "          (2): Linear(in_features=40, out_features=10, bias=True)\n",
       "          (3): Dropout(p=0.1, inplace=False)\n",
       "        )\n",
       "      )\n",
       "      (ln1): LayerNorm((10,), eps=1e-05, elementwise_affine=True)\n",
       "      (ln2): LayerNorm((10,), eps=1e-05, elementwise_affine=True)\n",
       "    )\n",
       "    (1): BlockPheno(\n",
       "      (sa): MultiHeadSelfAttention(\n",
       "        (qkv_network): Linear(in_features=10, out_features=12, bias=False)\n",
       "        (proj): Linear(in_features=4, out_features=10, bias=True)\n",
       "        (attention_dropout): Dropout(p=0.1, inplace=False)\n",
       "        (resid_dropout): Dropout(p=0.1, inplace=False)\n",
       "      )\n",
       "      (ffwd): FeedForward(\n",
       "        (net): Sequential(\n",
       "          (0): Linear(in_features=10, out_features=40, bias=True)\n",
       "          (1): ReLU()\n",
       "          (2): Linear(in_features=40, out_features=10, bias=True)\n",
       "          (3): Dropout(p=0.1, inplace=False)\n",
       "        )\n",
       "      )\n",
       "      (ln1): LayerNorm((10,), eps=1e-05, elementwise_affine=True)\n",
       "      (ln2): LayerNorm((10,), eps=1e-05, elementwise_affine=True)\n",
       "    )\n",
       "  )\n",
       "  (ln_f): LayerNorm((10,), eps=1e-05, elementwise_affine=True)\n",
       "  (predict_logit): PredictLogit(\n",
       "    (ln2_phenos): LayerNorm((10,), eps=1e-05, elementwise_affine=True)\n",
       "    (get_logits_phenos): Linear(in_features=10, out_features=10076, bias=True)\n",
       "  )\n",
       "  (Embedding): EmbeddingPheno(\n",
       "    (distinct_diseases_embeddings): Embedding(10078, 10)\n",
       "  )\n",
       "  (diseases_embedding_table): Embedding(10078, 10)\n",
       ")"
      ]
     },
     "execution_count": 17,
     "metadata": {},
     "output_type": "execute_result"
    }
   ],
   "source": [
    "model"
   ]
  },
  {
   "cell_type": "code",
   "execution_count": null,
   "metadata": {},
   "outputs": [],
   "source": []
  }
 ],
 "metadata": {
  "kernelspec": {
   "display_name": "phewas",
   "language": "python",
   "name": "python3"
  },
  "language_info": {
   "codemirror_mode": {
    "name": "ipython",
    "version": 3
   },
   "file_extension": ".py",
   "mimetype": "text/x-python",
   "name": "python",
   "nbconvert_exporter": "python",
   "pygments_lexer": "ipython3",
   "version": "3.11.6"
  }
 },
 "nbformat": 4,
 "nbformat_minor": 2
}
