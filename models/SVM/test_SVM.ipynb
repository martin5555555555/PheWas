{
 "cells": [
  {
   "cell_type": "code",
   "execution_count": 1,
   "metadata": {},
   "outputs": [],
   "source": [
    "import sys\n",
    "path = '/gpfs/commons/groups/gursoy_lab/mstoll/'\n",
    "sys.path.append(path)\n",
    "\n",
    "import os\n",
    "import numpy as np\n",
    "import pandas as pd\n",
    "import time\n",
    "import torch\n",
    "import pickle\n",
    "import tensorboard\n",
    "\n",
    "from functools import partial\n",
    "import shutil\n",
    "from sklearn import svm\n",
    "\n",
    "from sklearn.model_selection import train_test_split\n",
    "from sklearn.preprocessing import StandardScaler\n",
    "\n",
    "from codes.models.data_form.DataForm import DataTransfo_1SNP\n",
    "from codes.models.metrics import calculate_roc_auc\n",
    "from sklearn.metrics import roc_auc_score, f1_score, accuracy_score, classification_report\n",
    "\n"
   ]
  },
  {
   "cell_type": "code",
   "execution_count": 2,
   "metadata": {},
   "outputs": [],
   "source": [
    "### framework constants:\n",
    "model_type = 'decision_tree'\n",
    "model_version = 'gradient_boosting'\n",
    "test_name = '1_test_train_transfo_V1'\n",
    "tryout = True # True if we are ding a tryout, False otherwise \n",
    "### data constants:\n",
    "### data constants:\n",
    "CHR = 1\n",
    "SNP = 'rs673604'\n",
    "pheno_method = 'Paul' # Paul, Abby\n",
    "ld = 'no'\n",
    "rollup_depth = 4\n",
    "binary_classes = True #nb of classes related to an SNP (here 0 or 1)\n",
    "vocab_size = None # to be defined with data\n",
    "padding_token = 0\n",
    "prop_train_test = 0.8\n",
    "load_data = False\n",
    "save_data = True\n",
    "remove_none = True\n",
    "decorelate = False\n",
    "equalize_label = False\n",
    "threshold_corr = 0.9\n",
    "threshold_rare = 50\n",
    "remove_rare = 'all' # None, 'all', 'one_class'\n",
    "compute_features = True\n",
    "padding = False\n",
    "list_env_features = ['age', 'sex']\n",
    "list_pheno_ids = None #list(np.load(f'/gpfs/commons/groups/gursoy_lab/mstoll/codes/Data_Files/phewas/list_associations_snps/{SNP}_paul.npy'))\n",
    "\n",
    "### data format\n",
    "\n",
    "batch_size = 20\n",
    "data_share = 1\n",
    "\n",
    "##### model constants\n",
    "\n",
    "\n",
    "##### training constants\n",
    "device = 'cuda' if torch.cuda.is_available() else 'cpu'"
   ]
  },
  {
   "cell_type": "code",
   "execution_count": 3,
   "metadata": {},
   "outputs": [],
   "source": [
    "dataT = DataTransfo_1SNP(SNP=SNP,\n",
    "                         CHR=CHR,\n",
    "                         method=pheno_method,\n",
    "                         padding=padding,  \n",
    "                         pad_token=padding_token, \n",
    "                         load_data=load_data, \n",
    "                         save_data=save_data, \n",
    "                         compute_features=compute_features,\n",
    "                         prop_train_test=prop_train_test,\n",
    "                         remove_none=remove_none,\n",
    "                         equalize_label=equalize_label,\n",
    "                         rollup_depth=rollup_depth,\n",
    "                         decorelate=decorelate,\n",
    "                         threshold_corr=threshold_corr,\n",
    "                         threshold_rare=threshold_rare,\n",
    "                         remove_rare=remove_rare, \n",
    "                         list_env_features=list_env_features,\n",
    "                         data_share=data_share,\n",
    "                         list_pheno_ids=list_pheno_ids,\n",
    "                         binary_classes=binary_classes, \n",
    "                         ld = ld)\n",
    "#patient_list = dataT.get_patientlist()"
   ]
  },
  {
   "cell_type": "code",
   "execution_count": 4,
   "metadata": {},
   "outputs": [],
   "source": [
    "data, labels_patients, indices_env, name_envs, eids = dataT.get_tree_data(with_env=True, with_counts=True, load_possible=True, only_relevant=False)"
   ]
  },
  {
   "cell_type": "code",
   "execution_count": 5,
   "metadata": {},
   "outputs": [],
   "source": [
    "equalized = True\n",
    "interest = False\n",
    "keep = True\n",
    "scaled = True\n",
    "remove = False"
   ]
  },
  {
   "cell_type": "code",
   "execution_count": 6,
   "metadata": {},
   "outputs": [],
   "source": [
    "if interest:\n",
    "    data_use, labels_use = data[:nb_patients_interest, :-1], labels_patients[:nb_patients_interest]\n",
    "else:\n",
    "    data_use, labels_use = data, labels_patients\n",
    "if remove:\n",
    "    eids_remove = np.load('/gpfs/commons/groups/gursoy_lab/mstoll/codes/Data_Files/UKBB/eids_remove_1.npy')\n",
    "    indices_eids = (1-np.isin(eids, eids_remove)).astype(bool)\n",
    "    eids_use = eids[indices_eids]\n",
    "    data_use = data_use[indices_eids]\n",
    "    labels_use = labels_use[indices_eids]\n",
    "    \n",
    "if equalized:\n",
    "    pheno, labels = DataTransfo_1SNP.equalize_label(data=data_use, labels = labels_use)\n",
    "else:\n",
    "    pheno, labels = data_use, labels_use\n"
   ]
  },
  {
   "cell_type": "code",
   "execution_count": 7,
   "metadata": {},
   "outputs": [],
   "source": [
    "diseases_patients_train, diseases_patients_test, label_patients_train, label_patients_test = train_test_split(pheno, labels, test_size = 1-prop_train_test, random_state=42)"
   ]
  },
  {
   "cell_type": "code",
   "execution_count": 8,
   "metadata": {},
   "outputs": [],
   "source": [
    "class_weight = {0: np.sum(label_patients_train == 1) / np.sum(label_patients_train == 0), 1: 1.0}\n"
   ]
  },
  {
   "cell_type": "code",
   "execution_count": 9,
   "metadata": {},
   "outputs": [],
   "source": [
    "frequencies_ini = np.sum(data, axis=0)\n",
    "number_distinct_diseases = np.sum(diseases_patients_train, axis=0)\n"
   ]
  },
  {
   "cell_type": "code",
   "execution_count": 20,
   "metadata": {},
   "outputs": [],
   "source": [
    "indices_keep = (frequencies_ini > 0) & (frequencies_ini > 3000)\n",
    "#indices_keep = shaps!=0"
   ]
  },
  {
   "cell_type": "code",
   "execution_count": 21,
   "metadata": {},
   "outputs": [],
   "source": [
    "diseases_patients_train_keep = diseases_patients_train[:,indices_keep]\n",
    "diseases_patients_test_keep = diseases_patients_test[:, indices_keep]"
   ]
  },
  {
   "cell_type": "code",
   "execution_count": 22,
   "metadata": {},
   "outputs": [],
   "source": [
    "if keep:\n",
    "    diseases_patients_train_model = diseases_patients_train_keep\n",
    "    diseases_patients_test_model = diseases_patients_test_keep\n",
    "else:\n",
    "    diseases_patients_train_model = diseases_patients_train\n",
    "    diseases_patients_test_model = diseases_patients_test\n",
    "\n"
   ]
  },
  {
   "cell_type": "code",
   "execution_count": 23,
   "metadata": {},
   "outputs": [],
   "source": [
    "    \n",
    "diseases_patients_train_model_unscaled = diseases_patients_train_model\n",
    "diseases_patients_test_model_unscaled = diseases_patients_test_model\n",
    "\n",
    "if scaled:\n",
    "\n",
    "    scaler = StandardScaler()\n",
    "    diseases_patients_train_model= scaler.fit_transform(diseases_patients_train_model)\n",
    "    diseases_patients_test_model = scaler.fit_transform(diseases_patients_test_model)\n",
    "\n"
   ]
  },
  {
   "cell_type": "code",
   "execution_count": 24,
   "metadata": {},
   "outputs": [],
   "source": [
    "diseases_patients_train_model.shape"
   ]
  },
  {
   "cell_type": "code",
   "execution_count": 25,
   "metadata": {},
   "outputs": [],
   "source": [
    "model = svm.SVC(kernel='linear', probability=True)\n",
    "\n",
    "\n",
    "# Entraîner le modèle sur l'ensemble d'entraînement\n",
    "model.fit(diseases_patients_train_model, label_patients_train)\n",
    "\n",
    "# Faire des prédictions sur l'ensemble de test\n",
    "labels_pred_test = model.predict(diseases_patients_test_model)\n",
    "labels_pred_train = model.predict(diseases_patients_train_model)\n",
    "proba_test = model.predict_proba(diseases_patients_test_model)[:, 1]\n",
    "proba_train = model.predict_proba(diseases_patients_train_model)[:, 1]"
   ]
  },
  {
   "cell_type": "code",
   "execution_count": null,
   "metadata": {},
   "outputs": [],
   "source": [
    "nb_positive_train = np.sum(labels_pred_train==0)\n",
    "nb_negative_train = np.sum(labels_pred_train==1)\n",
    "nb_positive_test = np.sum(labels_pred_test==0)\n",
    "nb_negative_test = np.sum(labels_pred_test==1)\n",
    "\n",
    "TP_test = np.sum((label_patients_test==0 )& (labels_pred_test == 0)) / nb_positive_test\n",
    "FP_test = np.sum((label_patients_test==1 )& (labels_pred_test == 0)) / nb_positive_test\n",
    "TN_test = np.sum((label_patients_test==1 )& (labels_pred_test == 1)) / nb_negative_test\n",
    "FN_test = np.sum((label_patients_test== 0)& (labels_pred_test == 1)) / nb_negative_test\n",
    "\n",
    "TP_train = np.sum((label_patients_train==0 )& (labels_pred_train == 0)) / nb_positive_train\n",
    "FP_train = np.sum((label_patients_train==1 )& (labels_pred_train == 0)) / nb_positive_train\n",
    "TN_train = np.sum((label_patients_train==1 )& (labels_pred_train == 1)) / nb_negative_train\n",
    "FN_train = np.sum((label_patients_train== 0)& (labels_pred_train == 1)) / nb_negative_train\n",
    "\n",
    "accuracy_train = accuracy_score(label_patients_train, labels_pred_train)\n",
    "accuracy_test = accuracy_score(label_patients_test, labels_pred_test)\n",
    "\n",
    "auc_test = calculate_roc_auc(label_patients_test, proba_test)\n",
    "auc_train = calculate_roc_auc(label_patients_train, proba_train)\n",
    "\n",
    "proba_avg_zero_test = 1- np.mean(proba_test[label_patients_test==0])\n",
    "proba_avg_zero_train = 1- np.mean(proba_train[label_patients_train==0])\n",
    "proba_avg_one_test = np.mean(proba_test[label_patients_test==1])\n",
    "proba_avg_one_train = np.mean(proba_train[label_patients_train==1])"
   ]
  },
  {
   "cell_type": "code",
   "execution_count": null,
   "metadata": {},
   "outputs": [],
   "source": [
    "print(f'{TP_test=}') \n",
    "print(f'{FP_test=}')\n",
    "print(f'{TN_test=}')\n",
    "print(f'{FN_test=}')\n",
    "print(f'{TP_train=}') \n",
    "print(f'{FP_train=}')\n",
    "print(f'{TN_train=}')\n",
    "print(f'{FN_train=}')\n",
    "print(' ')\n",
    "print(f'{auc_test=}')\n",
    "print(f'{auc_train=}')\n",
    "print(' ')\n",
    "print(' ')\n",
    "print(f'{accuracy_test=}')\n",
    "print(f'{accuracy_train=}')\n",
    "print(' ')\n",
    "print(f'{proba_avg_zero_test=}')\n",
    "print(f'{proba_avg_zero_train=}')\n",
    "print(f'{proba_avg_one_test=}')\n",
    "print(f'{proba_avg_one_train=}')"
   ]
  },
  {
   "cell_type": "code",
   "execution_count": null,
   "metadata": {},
   "outputs": [],
   "source": []
  }
 ],
 "metadata": {
  "kernelspec": {
   "display_name": "phewas",
   "language": "python",
   "name": "python3"
  },
  "language_info": {
   "codemirror_mode": {
    "name": "ipython",
    "version": 3
   },
   "file_extension": ".py",
   "mimetype": "text/x-python",
   "name": "python",
   "nbconvert_exporter": "python",
   "pygments_lexer": "ipython3",
   "version": "3.11.6"
  }
 },
 "nbformat": 4,
 "nbformat_minor": 2
}
