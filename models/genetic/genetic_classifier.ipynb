{
 "cells": [
  {
   "cell_type": "code",
   "execution_count": null,
   "metadata": {},
   "outputs": [],
   "source": [
    "import pygad\n",
    "import sys\n",
    "path = '/gpfs/commons/groups/gursoy_lab/mstoll/'\n",
    "sys.path.append(path)\n",
    "\n",
    "import pandas as pd\n",
    "import numpy as np \n",
    "\n",
    "from functools import partial\n",
    "from codes.models.data_form.DataForm import DataTransfo_1SNP, PatientList\n",
    "import matplotlib.pyplot as plt"
   ]
  },
  {
   "cell_type": "code",
   "execution_count": null,
   "metadata": {},
   "outputs": [],
   "source": [
    "### data constants:\n",
    "CHR = 1\n",
    "SNP = 'rs673604'\n",
    "pheno_method = 'Abby' # Paul, Abby\n",
    "rollup_depth = 4\n",
    "Classes_nb = 2 #nb of classes related to an SNP (here 0 or 1)\n",
    "vocab_size = None # to be defined with data\n",
    "padding_token = 0\n",
    "prop_train_test = 0.8\n",
    "load_data = False\n",
    "save_data = True\n",
    "remove_none = True\n",
    "decorelate = False\n",
    "equalize_label = False\n",
    "threshold_corr = 0.9\n",
    "threshold_rare = 50\n",
    "remove_rare = 'all' # None, 'all', 'one_class'\n",
    "compute_features = True\n",
    "padding = True\n",
    "list_env_features = []\n",
    "### data format\n",
    "batch_size = 20\n",
    "data_share = 1"
   ]
  },
  {
   "cell_type": "code",
   "execution_count": null,
   "metadata": {},
   "outputs": [],
   "source": [
    "dataT = DataTransfo_1SNP(SNP=SNP,\n",
    "                         CHR=CHR,\n",
    "                         method=pheno_method,\n",
    "                         padding=padding,  \n",
    "                         pad_token=padding_token, \n",
    "                         load_data=load_data, \n",
    "                         save_data=save_data, \n",
    "                         compute_features=compute_features,\n",
    "                         prop_train_test=prop_train_test,\n",
    "                         remove_none=True,\n",
    "                         equalize_label=equalize_label,\n",
    "                         rollup_depth=rollup_depth,\n",
    "                         decorelate=decorelate,\n",
    "                         threshold_corr=threshold_corr,\n",
    "                         threshold_rare=threshold_rare,\n",
    "                         remove_rare=remove_rare, \n",
    "                         list_env_features=list_env_features,\n",
    "                         data_share=data_share)\n",
    "#patient_list = dataT.get_patientlist()\n"
   ]
  },
  {
   "cell_type": "code",
   "execution_count": null,
   "metadata": {},
   "outputs": [],
   "source": [
    "data, labels, indices_env, name_envs = dataT.get_tree_data()"
   ]
  },
  {
   "cell_type": "code",
   "execution_count": null,
   "metadata": {},
   "outputs": [],
   "source": [
    "data, labels = DataTransfo_1SNP.equalize_label(data, labels)"
   ]
  },
  {
   "cell_type": "code",
   "execution_count": null,
   "metadata": {},
   "outputs": [],
   "source": [
    "data = data[:, np.var(data, axis=0)0 ]"
   ]
  },
  {
   "cell_type": "code",
   "execution_count": null,
   "metadata": {},
   "outputs": [],
   "source": [
    "np.sum(np.sum(data, axis=0)>30)\n"
   ]
  },
  {
   "cell_type": "code",
   "execution_count": null,
   "metadata": {},
   "outputs": [],
   "source": [
    "data = data[:,np.sum(data, axis=0)>30]"
   ]
  },
  {
   "cell_type": "code",
   "execution_count": null,
   "metadata": {},
   "outputs": [],
   "source": [
    "nb_phenos, nb_patients = data.shape[1], data.shape[0]"
   ]
  },
  {
   "cell_type": "code",
   "execution_count": null,
   "metadata": {},
   "outputs": [],
   "source": [
    "nb_patterns = 100\n",
    "num_genes = nb_phenos\n",
    "num_generations = 20\n",
    "num_parents_mating = 50\n",
    "gene_space = [0, 1, 2]\n",
    "p_ini = 0.005"
   ]
  },
  {
   "cell_type": "code",
   "execution_count": null,
   "metadata": {},
   "outputs": [],
   "source": [
    "def predict_pattern(pattern, pheno_sequence):\n",
    "    if (np.sum(pheno_sequence[pattern==0]-1) == 0) and (np.sum(pheno_sequence[pattern==1]) ==0):\n",
    "        return 1\n",
    "    else:\n",
    "        return 0\n",
    "# Function to initialize a random population with valid binary values\n",
    "def initialize_population(nb_patterns, num_genes, p_ini):\n",
    "    return np.random.choice([0, 1, 2], p=[0.3, 0.3, 0.4], size=(nb_patterns, num_genes))\n",
    "\n",
    "def one_point_crossover(parents, offspring_size, ga_instance):\n",
    "    offspring = []\n",
    "    idx = 0\n",
    "    while len(offspring) != offspring_size[0]:\n",
    "        parent1 = parents[idx % parents.shape[0], :].copy()\n",
    "        parent2 = parents[(idx + 1) % parents.shape[0], :].copy()\n",
    "\n",
    "        random_split_point = np.random.choice(range(offspring_size[1]))\n",
    "\n",
    "        parent1[random_split_point:] = parent2[random_split_point:]\n",
    "\n",
    "        offspring.append(parent1)\n",
    "\n",
    "        idx += 1\n",
    "\n",
    "    return np.array(offspring)\n",
    "\n",
    "def mutation_func(offspring, ga_instance):\n",
    "\n",
    "    for chromosome_idx in range(offspring.shape[0]):\n",
    "        random_gene_idx = np.random.choice(range(offspring.shape[1]))\n",
    "\n",
    "        offspring[chromosome_idx, random_gene_idx] += np.random.randint(0,3)\n",
    "\n",
    "    return offspring\n",
    "\n",
    "\n",
    "def fitness_function(ga_instance, solution, solution_idx):\n",
    "    predict_pattern = partial(ga_instance.predict_pattern, solution)\n",
    "    predictions = np.apply_along_axis(predict_pattern, arr=ga_instance.data, axis=1)\n",
    "    return np.sum(predictions==ga_instance.labels) / len(predictions)\n",
    "\n"
   ]
  },
  {
   "cell_type": "code",
   "execution_count": null,
   "metadata": {},
   "outputs": [],
   "source": [
    "# Initialize the genetic algorithm\n",
    "ga_instance = pygad.GA(\n",
    "    num_generations=num_generations,\n",
    "    num_parents_mating=nb_patterns,\n",
    "    sol_per_pop=nb_patterns,\n",
    "    num_genes=num_genes,\n",
    "    fitness_func=fitness_function,\n",
    "    gene_space=gene_space,\n",
    "    initial_population=initialize_population(nb_patterns, num_genes, p_ini),\n",
    "    crossover_type=one_point_crossover,\n",
    "    mutation_type=mutation_func\n",
    ")\n",
    "\n",
    "ga_instance.data = data\n",
    "ga_instance.labels = labels\n",
    "ga_instance.predict_pattern = predict_pattern"
   ]
  },
  {
   "cell_type": "code",
   "execution_count": null,
   "metadata": {},
   "outputs": [],
   "source": [
    "best_solution, best_fitness, _ = ga_instance.best_solution()\n",
    "\n",
    "print(\"Meilleure solution:\", best_solution)\n",
    "print(\"Meilleur fitness:\", best_fitness)\n",
    "\n",
    "predict_pattern_test = partial(predict_pattern, best_solution)\n",
    "predictions = np.apply_along_axis(predict_pattern_test, arr=ga_instance.data, axis=1)\n",
    "\n",
    "np.sum(predictions)"
   ]
  },
  {
   "cell_type": "code",
   "execution_count": null,
   "metadata": {},
   "outputs": [],
   "source": [
    "solution = initialize_population(nb_patterns, num_genes,p_ini)[0]\n"
   ]
  },
  {
   "cell_type": "code",
   "execution_count": null,
   "metadata": {},
   "outputs": [],
   "source": [
    "pheno_sequence = data[0]\n",
    "np.sum(pheno_sequence)"
   ]
  },
  {
   "cell_type": "code",
   "execution_count": null,
   "metadata": {},
   "outputs": [],
   "source": [
    "predict_pattern_u = partial(ga_instance.predict_pattern, solution)\n",
    "predictions = np.apply_along_axis(predict_pattern_u, arr=ga_instance.data, axis=1)\n",
    "np.sum(predictions==ga_instance.labels)"
   ]
  },
  {
   "cell_type": "code",
   "execution_count": null,
   "metadata": {},
   "outputs": [],
   "source": [
    "predict_pattern_u(data[3])"
   ]
  },
  {
   "cell_type": "code",
   "execution_count": null,
   "metadata": {},
   "outputs": [],
   "source": [
    "np.sum(best_solution)"
   ]
  },
  {
   "cell_type": "code",
   "execution_count": null,
   "metadata": {},
   "outputs": [],
   "source": [
    "import pygad\n",
    "\n",
    "# Define genetic algorithm parameters\n",
    "num_generations = 50  # This is num_generations\n",
    "num_parents_mating = 5\n",
    "sol_per_pop = 10\n",
    "def fitness_function(ga_instance, solution, solution_idx):\n",
    "    # Fitness is the number of ones in the binary string\n",
    "    return np.sum(solution)\n",
    "# Initialize the genetic algorithm\n",
    "ga_instance = pygad.GA(\n",
    "    num_generations=num_generations,\n",
    "    num_parents_mating=num_parents_mating,\n",
    "    sol_per_pop=sol_per_pop,\n",
    "    num_genes=num_genes,\n",
    "    fitness_func=fitness_function,\n",
    ")\n",
    "\n",
    "# Run the genetic algorithm\n",
    "ga_instance.run()\n"
   ]
  },
  {
   "cell_type": "code",
   "execution_count": null,
   "metadata": {},
   "outputs": [],
   "source": [
    "ga_instance"
   ]
  },
  {
   "cell_type": "code",
   "execution_count": null,
   "metadata": {},
   "outputs": [],
   "source": []
  }
 ],
 "metadata": {
  "kernelspec": {
   "display_name": "phewas",
   "language": "python",
   "name": "python3"
  },
  "language_info": {
   "codemirror_mode": {
    "name": "ipython",
    "version": 3
   },
   "file_extension": ".py",
   "mimetype": "text/x-python",
   "name": "python",
   "nbconvert_exporter": "python",
   "pygments_lexer": "ipython3",
   "version": "3.11.6"
  }
 },
 "nbformat": 4,
 "nbformat_minor": 2
}
