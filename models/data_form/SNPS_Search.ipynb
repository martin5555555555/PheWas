{
 "cells": [
  {
   "cell_type": "code",
   "execution_count": null,
   "metadata": {},
   "outputs": [],
   "source": [
    "import sys\n",
    "path = '/gpfs/commons/groups/gursoy_lab/mstoll/'\n",
    "sys.path.append(path)\n",
    "\n",
    "import pandas as pd\n",
    "import numpy as np \n",
    "import os\n",
    "from functools import partial\n",
    "\n",
    "from codes.models.data_form.DataForm import DataTransfo_1SNP, PatientList\n",
    "import matplotlib.pyplot as plt\n",
    "from codes.models.Naive.Naive_utils import get_pred_naive, get_pred_sentence, get_risk_pheno"
   ]
  },
  {
   "cell_type": "code",
   "execution_count": null,
   "metadata": {},
   "outputs": [],
   "source": [
    "def softmax(x):\n",
    "    exp_x = np.exp(x - np.max(x))  # Subtracting the maximum value for numerical stability\n",
    "    return exp_x / exp_x.sum(axis=0)\n"
   ]
  },
  {
   "cell_type": "code",
   "execution_count": null,
   "metadata": {},
   "outputs": [],
   "source": [
    "### search for the SNPS \n",
    "dir_chrs = f'{path}codes/Data_Files/Training/SNPS'\n",
    "phewas_cat_file = f'{path}codes/Data_Files/phewas/phewas-catalog.csv'"
   ]
  },
  {
   "cell_type": "code",
   "execution_count": null,
   "metadata": {},
   "outputs": [],
   "source": [
    "list_files = os.listdir(dir_chrs)\n",
    "list_chrs = []\n",
    "for chr in list_files:\n",
    "    try:\n",
    "        list_chrs.append(int(chr))\n",
    "    except:\n",
    "        pass"
   ]
  },
  {
   "cell_type": "code",
   "execution_count": null,
   "metadata": {},
   "outputs": [],
   "source": [
    "def get_score_SNP(chr, SNP, data_base=None):\n",
    "    CHR = chr\n",
    "    SNP = SNP\n",
    "    if data_base==None:\n",
    "        dataT = DataTransfo_1SNP(\n",
    "            method='Paul',\n",
    "            SNP=SNP,\n",
    "            CHR=CHR,\n",
    "            load_data=True,\n",
    "            save_data=False\n",
    "        )\n",
    "        data_base, labels_base, indices_env, name_envs = dataT.get_tree_data()\n",
    "    data, labels = DataTransfo_1SNP.equalize_label(data_base, labels_base)\n",
    "    nb_phenos = data.shape[1]\n",
    "    phenos = np.arange(nb_phenos)\n",
    "    get_risk_pheno_par = partial(get_risk_pheno, data, labels)\n",
    "    get_pred_naive_par = partial(get_pred_naive, data, labels)\n",
    "    frequencies = data.sum(axis=0)\n",
    "\n",
    "    odds_ratios = np.array(list(map(get_risk_pheno_par, phenos)))\n",
    "    pred_naive = np.array(list(map(get_pred_naive_par, phenos)))\n",
    "    probas_pred_naive = pred_naive[:, 0]\n",
    "    labels_pred_naive = pred_naive[:, 1]\n",
    "    mask = (1 - np.isnan(probas_pred_naive)).astype(bool)\n",
    "    data_masked = data[:, mask]\n",
    "    probas_pred_naive_masked = probas_pred_naive[mask]\n",
    "    labels_pred_naive_masked = labels_pred_naive[mask]\n",
    "    odds_ratios_masked = odds_ratios[mask]\n",
    "    frequencies_masked = frequencies[mask]\n",
    "\n",
    "    weights_frequencies = softmax((probas_pred_naive_masked - 0.5)**2)\n",
    "    frequencies_score = np.dot(frequencies_masked, weights_frequencies)\n",
    "    probas_score = np.var(probas_pred_naive_masked)\n",
    "    odds_ratios_score = np.var(odds_ratios_masked)\n",
    "\n",
    "    #score of equalize\n",
    "    imbalance_score = len(data) / len(data_base)\n",
    "    return frequencies_score, probas_score, odds_ratios_score, imbalance_score\n"
   ]
  },
  {
   "cell_type": "code",
   "execution_count": null,
   "metadata": {},
   "outputs": [],
   "source": [
    "columns_score = ['CHR', 'SNP', 'frequencies', 'probas', 'odds_ratios', 'imbalance']\n",
    "df_score_SNPS = pd.DataFrame(columns=columns_score)\n",
    "for chr in list_chrs:\n",
    "    dir_SNPS = f'{dir_chrs}/{str(chr)}'\n",
    "    list_SNPS = os.listdir(dir_SNPS)\n",
    "    for SNP in list_SNPS:\n",
    "        print(chr, SNP)\n",
    "        frequencies_score, probas_score, odds_ratios_score, imbalance_score = get_score_SNP(chr, SNP)\n",
    "        df_scores = pd.DataFrame(columns = columns_score, data=[[chr, SNP, frequencies_score, probas_score, odds_ratios_score, imbalance_score]])\n",
    "        df_score_SNPS = pd.concat([df_score_SNPS, df_scores], axis=0, ignore_index=True)\n",
    "\n"
   ]
  },
  {
   "cell_type": "code",
   "execution_count": null,
   "metadata": {},
   "outputs": [],
   "source": [
    "df_score_SNPS"
   ]
  },
  {
   "cell_type": "code",
   "execution_count": null,
   "metadata": {},
   "outputs": [],
   "source": [
    "get_score_SNP(1, 'rs673604')\n"
   ]
  },
  {
   "cell_type": "code",
   "execution_count": null,
   "metadata": {},
   "outputs": [],
   "source": [
    "dataT = DataTransfo_1SNP(\n",
    "        method='Abby',\n",
    "        SNP='rs673604',\n",
    "        CHR=1,\n",
    "        load_data=True,\n",
    "        save_data=False,\n",
    "        remove_none=True,\n",
    "\n",
    "    )\n",
    "data_base, labels_base, indices_env, name_envs = dataT.get_tree_data()"
   ]
  },
  {
   "cell_type": "code",
   "execution_count": null,
   "metadata": {},
   "outputs": [],
   "source": [
    "data, labels = DataTransfo_1SNP.equalize_label(data_base, labels_base)\n",
    "nb_phenos = data.shape[1]\n",
    "phenos = np.arange(nb_phenos)\n",
    "get_risk_pheno_par = partial(get_risk_pheno, data, labels)\n",
    "get_pred_naive_par = partial(get_pred_naive, data, labels)"
   ]
  },
  {
   "cell_type": "code",
   "execution_count": null,
   "metadata": {},
   "outputs": [],
   "source": [
    "frequencies = data.sum(axis=0)"
   ]
  },
  {
   "cell_type": "code",
   "execution_count": null,
   "metadata": {},
   "outputs": [],
   "source": [
    "frequencies"
   ]
  },
  {
   "cell_type": "code",
   "execution_count": null,
   "metadata": {},
   "outputs": [],
   "source": [
    "def get_score_probas():\n",
    "    odds_ratios = np.array(list(map(get_risk_pheno_par, phenos)))\n",
    "    pred_naive = np.array(list(map(get_pred_naive_par, phenos)))\n",
    "    probas_pred_naive = pred_naive[:, 0]\n",
    "    labels_pred_naive = pred_naive[:, 1]\n",
    "    mask = (1 - np.isnan(probas_pred_naive)).astype(bool)\n",
    "    data_masked = data[:, mask]\n",
    "    probas_pred_naive_masked = probas_pred_naive[mask]\n",
    "    labels_pred_naive_masked = labels_pred_naive[mask]\n",
    "    odds_ratios_masked = odds_ratios[mask]\n",
    "    frequencies_masked = frequencies[mask]\n",
    "\n",
    "    weights_frequencies = softmax((probas_pred_naive_masked - 0.5)**2)\n",
    "    frequencies_score = np.dot(frequencies_masked, weights_frequencies)\n",
    "    probas_score = np.var(probas_pred_naive_masked)\n",
    "    odds_ratios_score = np.var(odds_ratios_masked)\n",
    "    return frequencies_score, probas_score, odds_ratios_score"
   ]
  },
  {
   "cell_type": "code",
   "execution_count": null,
   "metadata": {},
   "outputs": [],
   "source": [
    "np.var(probas_pred_naive_masked)"
   ]
  },
  {
   "cell_type": "code",
   "execution_count": null,
   "metadata": {},
   "outputs": [],
   "source": []
  },
  {
   "cell_type": "code",
   "execution_count": null,
   "metadata": {},
   "outputs": [],
   "source": [
    "frequencies_score"
   ]
  },
  {
   "cell_type": "code",
   "execution_count": null,
   "metadata": {},
   "outputs": [],
   "source": [
    "def get_score(pro)"
   ]
  },
  {
   "cell_type": "code",
   "execution_count": null,
   "metadata": {},
   "outputs": [],
   "source": [
    "phewas_cat = pd.read_csv(phewas_cat_file)"
   ]
  },
  {
   "cell_type": "code",
   "execution_count": null,
   "metadata": {},
   "outputs": [],
   "source": [
    "data"
   ]
  },
  {
   "cell_type": "code",
   "execution_count": null,
   "metadata": {},
   "outputs": [],
   "source": []
  }
 ],
 "metadata": {
  "kernelspec": {
   "display_name": "phewas",
   "language": "python",
   "name": "python3"
  },
  "language_info": {
   "codemirror_mode": {
    "name": "ipython",
    "version": 3
   },
   "file_extension": ".py",
   "mimetype": "text/x-python",
   "name": "python",
   "nbconvert_exporter": "python",
   "pygments_lexer": "ipython3",
   "version": "3.11.6"
  }
 },
 "nbformat": 4,
 "nbformat_minor": 2
}
