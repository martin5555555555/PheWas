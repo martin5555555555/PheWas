{
 "cells": [
  {
   "cell_type": "code",
   "execution_count": null,
   "metadata": {},
   "outputs": [],
   "source": [
    "import sys\n",
    "path = '/gpfs/commons/groups/gursoy_lab/mstoll/'\n",
    "sys.path.append(path)\n",
    "\n",
    "import pandas as pd\n",
    "import numpy as np \n",
    "\n",
    "from codes.models.data_form.DataForm import DataTransfo_1SNP, PatientList\n",
    "from sklearn.linear_model import Lasso\n",
    "from sklearn.model_selection import train_test_split\n",
    "from sklearn.preprocessing import StandardScaler\n",
    "from sklearn.linear_model import LinearRegression\n",
    "from sklearn.model_selection import train_test_split\n",
    "from sklearn.metrics import mean_squared_error\n",
    "import statsmodels.api as sm\n",
    "import matplotlib.pyplot as plt\n",
    "from codes.models.metrics import calculate_roc_auc\n",
    "from sklearn.decomposition import PCA\n",
    "\n",
    "\n"
   ]
  },
  {
   "cell_type": "code",
   "execution_count": null,
   "metadata": {},
   "outputs": [],
   "source": [
    "import featurewiz as gwiz\n"
   ]
  },
  {
   "cell_type": "code",
   "execution_count": null,
   "metadata": {},
   "outputs": [],
   "source": [
    "### data constants:\n",
    "CHR = 1\n",
    "SNP = 'rs673604'\n",
    "pheno_method = 'Abby' # Paul, Abby\n",
    "rollup_depth = 4\n",
    "Classes_nb = 2 #nb of classes related to an SNP (here 0 or 1)\n",
    "vocab_size = None # to be defined with data\n",
    "padding_token = 0\n",
    "prop_train_test = 0.8\n",
    "load_data = True\n",
    "save_data = False\n",
    "remove_none = True\n",
    "decorelate = False\n",
    "threshold_corr = 0.9\n",
    "threshold_rare = 50\n",
    "remove_rare = 'all' # None, 'all', 'one_class'\n",
    "compute_features = True\n",
    "padding = False\n",
    "equalize = True\n",
    "### data format\n",
    "batch_size = 20\n",
    "data_share = 1/1000"
   ]
  },
  {
   "cell_type": "code",
   "execution_count": null,
   "metadata": {},
   "outputs": [],
   "source": [
    "dataT = DataTransfo_1SNP(SNP=SNP,\n",
    "                         CHR=CHR,\n",
    "                         method=pheno_method,\n",
    "                         padding=padding,  \n",
    "                         pad_token=padding_token, \n",
    "                         load_data=True, \n",
    "                         save_data=save_data, \n",
    "                         compute_features=compute_features,\n",
    "                         data_share=data_share,\n",
    "                         prop_train_test=prop_train_test,\n",
    "                         remove_none=True,\n",
    "                         rollup_depth=rollup_depth,\n",
    "                         equalize_label=equalize,\n",
    "                         decorelate=decorelate,\n",
    "                         threshold_corr=threshold_corr,\n",
    "                         threshold_rare=threshold_rare,\n",
    "                         remove_rare=remove_rare)\n",
    "patient_list = dataT.get_patientlist()\n"
   ]
  },
  {
   "cell_type": "code",
   "execution_count": null,
   "metadata": {},
   "outputs": [],
   "source": [
    "data, labels, indices_env, name_envs = dataT.get_tree_data(with_env=False)"
   ]
  },
  {
   "cell_type": "code",
   "execution_count": null,
   "metadata": {},
   "outputs": [],
   "source": [
    "pheno = np.array(data)[300:500]\n",
    "label = np.array(labels)[300:500]"
   ]
  },
  {
   "cell_type": "code",
   "execution_count": null,
   "metadata": {},
   "outputs": [],
   "source": [
    "pheno.shape"
   ]
  },
  {
   "cell_type": "code",
   "execution_count": null,
   "metadata": {},
   "outputs": [],
   "source": [
    "labels"
   ]
  },
  {
   "cell_type": "code",
   "execution_count": null,
   "metadata": {},
   "outputs": [],
   "source": [
    "pheno_df = pd.DataFrame(data=pheno)\n",
    "label_df = pd.Series(data=label, name = 'SNP_label')"
   ]
  },
  {
   "cell_type": "code",
   "execution_count": null,
   "metadata": {},
   "outputs": [],
   "source": [
    "label_df"
   ]
  },
  {
   "cell_type": "code",
   "execution_count": null,
   "metadata": {},
   "outputs": [],
   "source": [
    "wiz =gwiz.FeatureWiz(verbose=1)\n",
    "\n",
    "pheno_df = pd.DataFrame(data=pheno)\n",
    "label_df = pd.Series(data=label, name = 'SNP_label')\n",
    "\n",
    "X_train, y_train = wiz.fit_transform(pheno_df, label_df)\n"
   ]
  },
  {
   "cell_type": "code",
   "execution_count": null,
   "metadata": {},
   "outputs": [],
   "source": [
    "X_train, y_train = wiz.fit_transform(pheno_df, label_df)\n"
   ]
  },
  {
   "cell_type": "code",
   "execution_count": null,
   "metadata": {},
   "outputs": [],
   "source": [
    "X_test = wiz.transform(pheno_df)\n"
   ]
  },
  {
   "cell_type": "code",
   "execution_count": null,
   "metadata": {},
   "outputs": [],
   "source": []
  },
  {
   "cell_type": "code",
   "execution_count": null,
   "metadata": {},
   "outputs": [],
   "source": [
    "scaler = StandardScaler()\n",
    "pheno = scaler.fit_transform(pheno)\n"
   ]
  },
  {
   "cell_type": "code",
   "execution_count": null,
   "metadata": {},
   "outputs": [],
   "source": [
    "lasso_model = Lasso(alpha=0.005)  # You can adjust the regularization parameter (alpha) as needed\n",
    "lasso_model.fit(pheno, label)\n"
   ]
  },
  {
   "cell_type": "code",
   "execution_count": null,
   "metadata": {},
   "outputs": [],
   "source": [
    "selected_features = np.where(lasso_model.coef_ != 0)[0]\n"
   ]
  },
  {
   "cell_type": "code",
   "execution_count": null,
   "metadata": {},
   "outputs": [],
   "source": [
    "len(selected_features)"
   ]
  },
  {
   "cell_type": "code",
   "execution_count": null,
   "metadata": {},
   "outputs": [],
   "source": [
    "# Apply PCA\n",
    "pca = PCA(n_components=100)\n",
    "principal_components = pca.fit_transform(pheno)\n",
    "\n",
    "# Explained variance ratio\n",
    "explained_variance_ratio = pca.explained_variance_ratio_\n",
    "print(\"Explained Variance Ratio:\", np.sum(explained_variance_ratio))\n"
   ]
  },
  {
   "cell_type": "code",
   "execution_count": null,
   "metadata": {},
   "outputs": [],
   "source": [
    "pheno = pheno[:, selected_features]"
   ]
  },
  {
   "cell_type": "code",
   "execution_count": null,
   "metadata": {},
   "outputs": [],
   "source": [
    "indices = np.arange(len(patient_list))\n",
    "np.random.shuffle(indices)"
   ]
  },
  {
   "cell_type": "code",
   "execution_count": null,
   "metadata": {},
   "outputs": [],
   "source": [
    "#pheno_data, label_data = patient_list.get_tree_data()\n",
    "pheno_data_train = np.array(pheno)[indices[:int(prop_train_test*len(patient_list))]]\n",
    "label_data_train = np.array(label)[indices[:int(prop_train_test*len(patient_list))]]\n",
    "label_data_test = np.array(label)[indices[int(prop_train_test*len(patient_list)):]]\n",
    "pheno_data_test = np.array(pheno)[indices[int(prop_train_test*len(patient_list)):]]\n"
   ]
  },
  {
   "cell_type": "code",
   "execution_count": null,
   "metadata": {},
   "outputs": [],
   "source": [
    "column_one_train = np.ones((pheno_data_train.shape[0],1 ))\n",
    "column_one_test = np.ones((pheno_data_test.shape[0],1 ))\n",
    "\n",
    "pheno_data_train_with_constant=  np.concatenate([column_one_train, pheno_data_train], axis = 1)\n",
    "pheno_data_test_with_constant=  np.concatenate([column_one_test, pheno_data_test], axis = 1)"
   ]
  },
  {
   "cell_type": "code",
   "execution_count": null,
   "metadata": {},
   "outputs": [],
   "source": [
    "logit_model = sm.Logit(label_data_train, pheno_data_train_with_constant)\n",
    "result = logit_model.fit(method='bfgs', disp=True)"
   ]
  },
  {
   "cell_type": "code",
   "execution_count": null,
   "metadata": {},
   "outputs": [],
   "source": [
    "### visualisation des donnes avec df\n",
    "proba_test = result.predict(pheno_data_test_with_constant)\n",
    "proba_train = result.predict(pheno_data_train_with_constant)"
   ]
  },
  {
   "cell_type": "code",
   "execution_count": null,
   "metadata": {},
   "outputs": [],
   "source": [
    "labels_pred_test = (proba_test > 0.5).astype(int)\n",
    "nb_positive_test = np.sum(labels_pred_test==0)\n",
    "nb_negative_test = np.sum(labels_pred_test==1)\n",
    "labels_pred_train = (proba_train > 0.5).astype(int)\n",
    "nb_positive_train = np.sum(labels_pred_train==0)\n",
    "nb_negative_train = np.sum(labels_pred_train==1)"
   ]
  },
  {
   "cell_type": "code",
   "execution_count": null,
   "metadata": {},
   "outputs": [],
   "source": [
    "TP_test = np.sum((label_data_test==0 )& (labels_pred_test == 0)) / nb_positive_test\n",
    "FP_test = np.sum((label_data_test==1 )& (labels_pred_test == 0)) / nb_positive_test\n",
    "TN_test = np.sum((label_data_test==1 )& (labels_pred_test == 1)) / nb_negative_test\n",
    "FN_test = np.sum((label_data_test== 0)& (labels_pred_test == 1)) / nb_negative_test\n",
    "\n",
    "TP_train = np.sum((label_data_train==0 )& (labels_pred_train == 0)) / nb_positive_train\n",
    "FP_train = np.sum((label_data_train==1 )& (labels_pred_train == 0)) / nb_positive_train\n",
    "TN_train = np.sum((label_data_train==1 )& (labels_pred_train == 1)) / nb_negative_train\n",
    "FN_train = np.sum((label_data_train== 0)& (labels_pred_train == 1)) / nb_negative_train\n",
    "\n",
    "\n",
    "auc_test = calculate_roc_auc(label_data_test, proba_test)\n",
    "auc_train = calculate_roc_auc(label_data_train, proba_train)"
   ]
  },
  {
   "cell_type": "code",
   "execution_count": null,
   "metadata": {},
   "outputs": [],
   "source": [
    "print(f'{TP_test=}') \n",
    "print(f'{FP_test=}')\n",
    "print(f'{TN_test=}')\n",
    "print(f'{FN_test=}')\n",
    "print(f'{TP_train=}') \n",
    "print(f'{FP_train=}')\n",
    "print(f'{TN_train=}')\n",
    "print(f'{FN_train=}')\n",
    "\n",
    "print(f'{auc_test=}')\n",
    "print(f'{auc_train=}')"
   ]
  }
 ],
 "metadata": {
  "kernelspec": {
   "display_name": "phewas",
   "language": "python",
   "name": "python3"
  },
  "language_info": {
   "codemirror_mode": {
    "name": "ipython",
    "version": 3
   },
   "file_extension": ".py",
   "mimetype": "text/x-python",
   "name": "python",
   "nbconvert_exporter": "python",
   "pygments_lexer": "ipython3",
   "version": "3.11.6"
  }
 },
 "nbformat": 4,
 "nbformat_minor": 2
}
